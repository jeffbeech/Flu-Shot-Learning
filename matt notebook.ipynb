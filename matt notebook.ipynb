{
 "cells": [
  {
   "cell_type": "code",
   "execution_count": 32,
   "metadata": {
    "execution": {
     "iopub.execute_input": "2022-01-26T21:15:59.072067Z",
     "iopub.status.busy": "2022-01-26T21:15:59.071818Z",
     "iopub.status.idle": "2022-01-26T21:15:59.081826Z",
     "shell.execute_reply": "2022-01-26T21:15:59.081077Z",
     "shell.execute_reply.started": "2022-01-26T21:15:59.072040Z"
    }
   },
   "outputs": [],
   "source": [
    "import pandas as pd\n",
    "import numpy as np\n",
    "from matplotlib import pyplot as plt\n",
    "import seaborn as sns\n",
    "\n",
    "from sklearn.experimental import enable_hist_gradient_boosting\n",
    "from sklearn.model_selection import train_test_split, GridSearchCV, RandomizedSearchCV, cross_val_score\n",
    "from sklearn.pipeline import Pipeline\n",
    "from sklearn.preprocessing import StandardScaler, MinMaxScaler, OneHotEncoder, FunctionTransformer\n",
    "from sklearn.impute import SimpleImputer\n",
    "from sklearn.compose import ColumnTransformer\n",
    "from sklearn.linear_model import LogisticRegression\n",
    "from sklearn.svm import SVC\n",
    "from sklearn.ensemble import RandomForestClassifier, GradientBoostingClassifier, HistGradientBoostingClassifier\n",
    "from sklearn.metrics import confusion_matrix, ConfusionMatrixDisplay, plot_confusion_matrix, recall_score, accuracy_score, precision_score, f1_score, roc_auc_score\n",
    "from sklearn.multioutput import MultiOutputClassifier\n",
    "\n",
    "import xgboost as xgb\n",
    "\n",
    "# Next two only necessary if target classes are imbalanced\n",
    "from imblearn.over_sampling import SMOTE\n",
    "from imblearn.pipeline import Pipeline as ImPipeline\n",
    "\n",
    "pd.set_option(\"display.max_columns\", 50)\n",
    "%matplotlib inline\n",
    "\n",
    "random_state = 1232022\n",
    "model_scoring_dict = {}\n",
    "models_dict = {}"
   ]
  },
  {
   "cell_type": "markdown",
   "metadata": {},
   "source": [
    "### Importing the data\n",
    "\n",
    "Because this dataset is part of a competition and a train-test split has already been performed, we'll treat the training data as the entire dataset. That way, we can perform our own train-test split, and, subsequently, we'll be able to acquire test scores of our own without necessarily having to submit to the competition. However, if at any point we're satisfied with a model, we can use that model to make predictions on the competition's original test data and submit those predictions to the competition if we so wish. As such, we'll import the competition's testing data as 'y_test_comp'.\n",
    "\n",
    "We'll also combine our X and y into a single dataframe in case we need it for EDA, graphs, cleaning or the like."
   ]
  },
  {
   "cell_type": "code",
   "execution_count": 33,
   "metadata": {
    "execution": {
     "iopub.execute_input": "2022-01-26T21:16:00.639557Z",
     "iopub.status.busy": "2022-01-26T21:16:00.639242Z",
     "iopub.status.idle": "2022-01-26T21:16:00.856579Z",
     "shell.execute_reply": "2022-01-26T21:16:00.856023Z",
     "shell.execute_reply.started": "2022-01-26T21:16:00.639513Z"
    }
   },
   "outputs": [],
   "source": [
    "X = pd.read_csv('data/training_set_features.csv', index_col='respondent_id')\n",
    "y = pd.read_csv('data/training_set_labels.csv', index_col='respondent_id')\n",
    "\n",
    "df = pd.concat([X, y], axis=1)\n",
    "\n",
    "X_test_comp = pd.read_csv('data/test_set_features.csv', index_col='respondent_id')"
   ]
  },
  {
   "cell_type": "markdown",
   "metadata": {},
   "source": [
    "We'll first check to see if the classes are imbalanced."
   ]
  },
  {
   "cell_type": "code",
   "execution_count": 34,
   "metadata": {
    "execution": {
     "iopub.execute_input": "2022-01-26T21:16:00.908401Z",
     "iopub.status.busy": "2022-01-26T21:16:00.908211Z",
     "iopub.status.idle": "2022-01-26T21:16:00.915873Z",
     "shell.execute_reply": "2022-01-26T21:16:00.915269Z",
     "shell.execute_reply.started": "2022-01-26T21:16:00.908381Z"
    }
   },
   "outputs": [
    {
     "name": "stdout",
     "output_type": "stream",
     "text": [
      "0    21033\n",
      "1     5674\n",
      "Name: h1n1_vaccine, dtype: int64\n",
      "0    14272\n",
      "1    12435\n",
      "Name: seasonal_vaccine, dtype: int64\n"
     ]
    }
   ],
   "source": [
    "print(y['h1n1_vaccine'].value_counts())\n",
    "print(y['seasonal_vaccine'].value_counts())"
   ]
  },
  {
   "cell_type": "markdown",
   "metadata": {},
   "source": [
    "It looks as though the seasonal vaccine classes are very balanced, while the H1N1 vaccine classes are less so, with the minority class comprising about 20% of the samples. This is not necessarily a huge problem, so we won't do anything about it right this second, but we may revisit the issue after we get a first rough model built."
   ]
  },
  {
   "cell_type": "code",
   "execution_count": 35,
   "metadata": {
    "execution": {
     "iopub.execute_input": "2022-01-26T21:16:01.176084Z",
     "iopub.status.busy": "2022-01-26T21:16:01.175755Z",
     "iopub.status.idle": "2022-01-26T21:16:01.204751Z",
     "shell.execute_reply": "2022-01-26T21:16:01.204058Z",
     "shell.execute_reply.started": "2022-01-26T21:16:01.176046Z"
    }
   },
   "outputs": [
    {
     "name": "stdout",
     "output_type": "stream",
     "text": [
      "<class 'pandas.core.frame.DataFrame'>\n",
      "Int64Index: 26707 entries, 0 to 26706\n",
      "Data columns (total 35 columns):\n",
      " #   Column                       Non-Null Count  Dtype  \n",
      "---  ------                       --------------  -----  \n",
      " 0   h1n1_concern                 26615 non-null  float64\n",
      " 1   h1n1_knowledge               26591 non-null  float64\n",
      " 2   behavioral_antiviral_meds    26636 non-null  float64\n",
      " 3   behavioral_avoidance         26499 non-null  float64\n",
      " 4   behavioral_face_mask         26688 non-null  float64\n",
      " 5   behavioral_wash_hands        26665 non-null  float64\n",
      " 6   behavioral_large_gatherings  26620 non-null  float64\n",
      " 7   behavioral_outside_home      26625 non-null  float64\n",
      " 8   behavioral_touch_face        26579 non-null  float64\n",
      " 9   doctor_recc_h1n1             24547 non-null  float64\n",
      " 10  doctor_recc_seasonal         24547 non-null  float64\n",
      " 11  chronic_med_condition        25736 non-null  float64\n",
      " 12  child_under_6_months         25887 non-null  float64\n",
      " 13  health_worker                25903 non-null  float64\n",
      " 14  health_insurance             14433 non-null  float64\n",
      " 15  opinion_h1n1_vacc_effective  26316 non-null  float64\n",
      " 16  opinion_h1n1_risk            26319 non-null  float64\n",
      " 17  opinion_h1n1_sick_from_vacc  26312 non-null  float64\n",
      " 18  opinion_seas_vacc_effective  26245 non-null  float64\n",
      " 19  opinion_seas_risk            26193 non-null  float64\n",
      " 20  opinion_seas_sick_from_vacc  26170 non-null  float64\n",
      " 21  age_group                    26707 non-null  object \n",
      " 22  education                    25300 non-null  object \n",
      " 23  race                         26707 non-null  object \n",
      " 24  sex                          26707 non-null  object \n",
      " 25  income_poverty               22284 non-null  object \n",
      " 26  marital_status               25299 non-null  object \n",
      " 27  rent_or_own                  24665 non-null  object \n",
      " 28  employment_status            25244 non-null  object \n",
      " 29  hhs_geo_region               26707 non-null  object \n",
      " 30  census_msa                   26707 non-null  object \n",
      " 31  household_adults             26458 non-null  float64\n",
      " 32  household_children           26458 non-null  float64\n",
      " 33  employment_industry          13377 non-null  object \n",
      " 34  employment_occupation        13237 non-null  object \n",
      "dtypes: float64(23), object(12)\n",
      "memory usage: 7.3+ MB\n"
     ]
    }
   ],
   "source": [
    "X.info()"
   ]
  },
  {
   "cell_type": "code",
   "execution_count": 36,
   "metadata": {
    "execution": {
     "iopub.execute_input": "2022-01-26T21:16:01.289318Z",
     "iopub.status.busy": "2022-01-26T21:16:01.289147Z",
     "iopub.status.idle": "2022-01-26T21:16:01.321282Z",
     "shell.execute_reply": "2022-01-26T21:16:01.320671Z",
     "shell.execute_reply.started": "2022-01-26T21:16:01.289299Z"
    }
   },
   "outputs": [
    {
     "data": {
      "text/html": [
       "<div>\n",
       "<style scoped>\n",
       "    .dataframe tbody tr th:only-of-type {\n",
       "        vertical-align: middle;\n",
       "    }\n",
       "\n",
       "    .dataframe tbody tr th {\n",
       "        vertical-align: top;\n",
       "    }\n",
       "\n",
       "    .dataframe thead th {\n",
       "        text-align: right;\n",
       "    }\n",
       "</style>\n",
       "<table border=\"1\" class=\"dataframe\">\n",
       "  <thead>\n",
       "    <tr style=\"text-align: right;\">\n",
       "      <th></th>\n",
       "      <th>h1n1_concern</th>\n",
       "      <th>h1n1_knowledge</th>\n",
       "      <th>behavioral_antiviral_meds</th>\n",
       "      <th>behavioral_avoidance</th>\n",
       "      <th>behavioral_face_mask</th>\n",
       "      <th>behavioral_wash_hands</th>\n",
       "      <th>behavioral_large_gatherings</th>\n",
       "      <th>behavioral_outside_home</th>\n",
       "      <th>behavioral_touch_face</th>\n",
       "      <th>doctor_recc_h1n1</th>\n",
       "      <th>doctor_recc_seasonal</th>\n",
       "      <th>chronic_med_condition</th>\n",
       "      <th>child_under_6_months</th>\n",
       "      <th>health_worker</th>\n",
       "      <th>health_insurance</th>\n",
       "      <th>opinion_h1n1_vacc_effective</th>\n",
       "      <th>opinion_h1n1_risk</th>\n",
       "      <th>opinion_h1n1_sick_from_vacc</th>\n",
       "      <th>opinion_seas_vacc_effective</th>\n",
       "      <th>opinion_seas_risk</th>\n",
       "      <th>opinion_seas_sick_from_vacc</th>\n",
       "      <th>age_group</th>\n",
       "      <th>education</th>\n",
       "      <th>race</th>\n",
       "      <th>sex</th>\n",
       "      <th>income_poverty</th>\n",
       "      <th>marital_status</th>\n",
       "      <th>rent_or_own</th>\n",
       "      <th>employment_status</th>\n",
       "      <th>hhs_geo_region</th>\n",
       "      <th>census_msa</th>\n",
       "      <th>household_adults</th>\n",
       "      <th>household_children</th>\n",
       "      <th>employment_industry</th>\n",
       "      <th>employment_occupation</th>\n",
       "    </tr>\n",
       "    <tr>\n",
       "      <th>respondent_id</th>\n",
       "      <th></th>\n",
       "      <th></th>\n",
       "      <th></th>\n",
       "      <th></th>\n",
       "      <th></th>\n",
       "      <th></th>\n",
       "      <th></th>\n",
       "      <th></th>\n",
       "      <th></th>\n",
       "      <th></th>\n",
       "      <th></th>\n",
       "      <th></th>\n",
       "      <th></th>\n",
       "      <th></th>\n",
       "      <th></th>\n",
       "      <th></th>\n",
       "      <th></th>\n",
       "      <th></th>\n",
       "      <th></th>\n",
       "      <th></th>\n",
       "      <th></th>\n",
       "      <th></th>\n",
       "      <th></th>\n",
       "      <th></th>\n",
       "      <th></th>\n",
       "      <th></th>\n",
       "      <th></th>\n",
       "      <th></th>\n",
       "      <th></th>\n",
       "      <th></th>\n",
       "      <th></th>\n",
       "      <th></th>\n",
       "      <th></th>\n",
       "      <th></th>\n",
       "      <th></th>\n",
       "    </tr>\n",
       "  </thead>\n",
       "  <tbody>\n",
       "    <tr>\n",
       "      <th>0</th>\n",
       "      <td>1.0</td>\n",
       "      <td>0.0</td>\n",
       "      <td>0.0</td>\n",
       "      <td>0.0</td>\n",
       "      <td>0.0</td>\n",
       "      <td>0.0</td>\n",
       "      <td>0.0</td>\n",
       "      <td>1.0</td>\n",
       "      <td>1.0</td>\n",
       "      <td>0.0</td>\n",
       "      <td>0.0</td>\n",
       "      <td>0.0</td>\n",
       "      <td>0.0</td>\n",
       "      <td>0.0</td>\n",
       "      <td>1.0</td>\n",
       "      <td>3.0</td>\n",
       "      <td>1.0</td>\n",
       "      <td>2.0</td>\n",
       "      <td>2.0</td>\n",
       "      <td>1.0</td>\n",
       "      <td>2.0</td>\n",
       "      <td>55 - 64 Years</td>\n",
       "      <td>&lt; 12 Years</td>\n",
       "      <td>White</td>\n",
       "      <td>Female</td>\n",
       "      <td>Below Poverty</td>\n",
       "      <td>Not Married</td>\n",
       "      <td>Own</td>\n",
       "      <td>Not in Labor Force</td>\n",
       "      <td>oxchjgsf</td>\n",
       "      <td>Non-MSA</td>\n",
       "      <td>0.0</td>\n",
       "      <td>0.0</td>\n",
       "      <td>NaN</td>\n",
       "      <td>NaN</td>\n",
       "    </tr>\n",
       "    <tr>\n",
       "      <th>1</th>\n",
       "      <td>3.0</td>\n",
       "      <td>2.0</td>\n",
       "      <td>0.0</td>\n",
       "      <td>1.0</td>\n",
       "      <td>0.0</td>\n",
       "      <td>1.0</td>\n",
       "      <td>0.0</td>\n",
       "      <td>1.0</td>\n",
       "      <td>1.0</td>\n",
       "      <td>0.0</td>\n",
       "      <td>0.0</td>\n",
       "      <td>0.0</td>\n",
       "      <td>0.0</td>\n",
       "      <td>0.0</td>\n",
       "      <td>1.0</td>\n",
       "      <td>5.0</td>\n",
       "      <td>4.0</td>\n",
       "      <td>4.0</td>\n",
       "      <td>4.0</td>\n",
       "      <td>2.0</td>\n",
       "      <td>4.0</td>\n",
       "      <td>35 - 44 Years</td>\n",
       "      <td>12 Years</td>\n",
       "      <td>White</td>\n",
       "      <td>Male</td>\n",
       "      <td>Below Poverty</td>\n",
       "      <td>Not Married</td>\n",
       "      <td>Rent</td>\n",
       "      <td>Employed</td>\n",
       "      <td>bhuqouqj</td>\n",
       "      <td>MSA, Not Principle  City</td>\n",
       "      <td>0.0</td>\n",
       "      <td>0.0</td>\n",
       "      <td>pxcmvdjn</td>\n",
       "      <td>xgwztkwe</td>\n",
       "    </tr>\n",
       "    <tr>\n",
       "      <th>2</th>\n",
       "      <td>1.0</td>\n",
       "      <td>1.0</td>\n",
       "      <td>0.0</td>\n",
       "      <td>1.0</td>\n",
       "      <td>0.0</td>\n",
       "      <td>0.0</td>\n",
       "      <td>0.0</td>\n",
       "      <td>0.0</td>\n",
       "      <td>0.0</td>\n",
       "      <td>NaN</td>\n",
       "      <td>NaN</td>\n",
       "      <td>1.0</td>\n",
       "      <td>0.0</td>\n",
       "      <td>0.0</td>\n",
       "      <td>NaN</td>\n",
       "      <td>3.0</td>\n",
       "      <td>1.0</td>\n",
       "      <td>1.0</td>\n",
       "      <td>4.0</td>\n",
       "      <td>1.0</td>\n",
       "      <td>2.0</td>\n",
       "      <td>18 - 34 Years</td>\n",
       "      <td>College Graduate</td>\n",
       "      <td>White</td>\n",
       "      <td>Male</td>\n",
       "      <td>&lt;= $75,000, Above Poverty</td>\n",
       "      <td>Not Married</td>\n",
       "      <td>Own</td>\n",
       "      <td>Employed</td>\n",
       "      <td>qufhixun</td>\n",
       "      <td>MSA, Not Principle  City</td>\n",
       "      <td>2.0</td>\n",
       "      <td>0.0</td>\n",
       "      <td>rucpziij</td>\n",
       "      <td>xtkaffoo</td>\n",
       "    </tr>\n",
       "    <tr>\n",
       "      <th>3</th>\n",
       "      <td>1.0</td>\n",
       "      <td>1.0</td>\n",
       "      <td>0.0</td>\n",
       "      <td>1.0</td>\n",
       "      <td>0.0</td>\n",
       "      <td>1.0</td>\n",
       "      <td>1.0</td>\n",
       "      <td>0.0</td>\n",
       "      <td>0.0</td>\n",
       "      <td>0.0</td>\n",
       "      <td>1.0</td>\n",
       "      <td>1.0</td>\n",
       "      <td>0.0</td>\n",
       "      <td>0.0</td>\n",
       "      <td>NaN</td>\n",
       "      <td>3.0</td>\n",
       "      <td>3.0</td>\n",
       "      <td>5.0</td>\n",
       "      <td>5.0</td>\n",
       "      <td>4.0</td>\n",
       "      <td>1.0</td>\n",
       "      <td>65+ Years</td>\n",
       "      <td>12 Years</td>\n",
       "      <td>White</td>\n",
       "      <td>Female</td>\n",
       "      <td>Below Poverty</td>\n",
       "      <td>Not Married</td>\n",
       "      <td>Rent</td>\n",
       "      <td>Not in Labor Force</td>\n",
       "      <td>lrircsnp</td>\n",
       "      <td>MSA, Principle City</td>\n",
       "      <td>0.0</td>\n",
       "      <td>0.0</td>\n",
       "      <td>NaN</td>\n",
       "      <td>NaN</td>\n",
       "    </tr>\n",
       "    <tr>\n",
       "      <th>4</th>\n",
       "      <td>2.0</td>\n",
       "      <td>1.0</td>\n",
       "      <td>0.0</td>\n",
       "      <td>1.0</td>\n",
       "      <td>0.0</td>\n",
       "      <td>1.0</td>\n",
       "      <td>1.0</td>\n",
       "      <td>0.0</td>\n",
       "      <td>1.0</td>\n",
       "      <td>0.0</td>\n",
       "      <td>0.0</td>\n",
       "      <td>0.0</td>\n",
       "      <td>0.0</td>\n",
       "      <td>0.0</td>\n",
       "      <td>NaN</td>\n",
       "      <td>3.0</td>\n",
       "      <td>3.0</td>\n",
       "      <td>2.0</td>\n",
       "      <td>3.0</td>\n",
       "      <td>1.0</td>\n",
       "      <td>4.0</td>\n",
       "      <td>45 - 54 Years</td>\n",
       "      <td>Some College</td>\n",
       "      <td>White</td>\n",
       "      <td>Female</td>\n",
       "      <td>&lt;= $75,000, Above Poverty</td>\n",
       "      <td>Married</td>\n",
       "      <td>Own</td>\n",
       "      <td>Employed</td>\n",
       "      <td>qufhixun</td>\n",
       "      <td>MSA, Not Principle  City</td>\n",
       "      <td>1.0</td>\n",
       "      <td>0.0</td>\n",
       "      <td>wxleyezf</td>\n",
       "      <td>emcorrxb</td>\n",
       "    </tr>\n",
       "  </tbody>\n",
       "</table>\n",
       "</div>"
      ],
      "text/plain": [
       "               h1n1_concern  h1n1_knowledge  behavioral_antiviral_meds  \\\n",
       "respondent_id                                                            \n",
       "0                       1.0             0.0                        0.0   \n",
       "1                       3.0             2.0                        0.0   \n",
       "2                       1.0             1.0                        0.0   \n",
       "3                       1.0             1.0                        0.0   \n",
       "4                       2.0             1.0                        0.0   \n",
       "\n",
       "               behavioral_avoidance  behavioral_face_mask  \\\n",
       "respondent_id                                               \n",
       "0                               0.0                   0.0   \n",
       "1                               1.0                   0.0   \n",
       "2                               1.0                   0.0   \n",
       "3                               1.0                   0.0   \n",
       "4                               1.0                   0.0   \n",
       "\n",
       "               behavioral_wash_hands  behavioral_large_gatherings  \\\n",
       "respondent_id                                                       \n",
       "0                                0.0                          0.0   \n",
       "1                                1.0                          0.0   \n",
       "2                                0.0                          0.0   \n",
       "3                                1.0                          1.0   \n",
       "4                                1.0                          1.0   \n",
       "\n",
       "               behavioral_outside_home  behavioral_touch_face  \\\n",
       "respondent_id                                                   \n",
       "0                                  1.0                    1.0   \n",
       "1                                  1.0                    1.0   \n",
       "2                                  0.0                    0.0   \n",
       "3                                  0.0                    0.0   \n",
       "4                                  0.0                    1.0   \n",
       "\n",
       "               doctor_recc_h1n1  doctor_recc_seasonal  chronic_med_condition  \\\n",
       "respondent_id                                                                  \n",
       "0                           0.0                   0.0                    0.0   \n",
       "1                           0.0                   0.0                    0.0   \n",
       "2                           NaN                   NaN                    1.0   \n",
       "3                           0.0                   1.0                    1.0   \n",
       "4                           0.0                   0.0                    0.0   \n",
       "\n",
       "               child_under_6_months  health_worker  health_insurance  \\\n",
       "respondent_id                                                          \n",
       "0                               0.0            0.0               1.0   \n",
       "1                               0.0            0.0               1.0   \n",
       "2                               0.0            0.0               NaN   \n",
       "3                               0.0            0.0               NaN   \n",
       "4                               0.0            0.0               NaN   \n",
       "\n",
       "               opinion_h1n1_vacc_effective  opinion_h1n1_risk  \\\n",
       "respondent_id                                                   \n",
       "0                                      3.0                1.0   \n",
       "1                                      5.0                4.0   \n",
       "2                                      3.0                1.0   \n",
       "3                                      3.0                3.0   \n",
       "4                                      3.0                3.0   \n",
       "\n",
       "               opinion_h1n1_sick_from_vacc  opinion_seas_vacc_effective  \\\n",
       "respondent_id                                                             \n",
       "0                                      2.0                          2.0   \n",
       "1                                      4.0                          4.0   \n",
       "2                                      1.0                          4.0   \n",
       "3                                      5.0                          5.0   \n",
       "4                                      2.0                          3.0   \n",
       "\n",
       "               opinion_seas_risk  opinion_seas_sick_from_vacc      age_group  \\\n",
       "respondent_id                                                                  \n",
       "0                            1.0                          2.0  55 - 64 Years   \n",
       "1                            2.0                          4.0  35 - 44 Years   \n",
       "2                            1.0                          2.0  18 - 34 Years   \n",
       "3                            4.0                          1.0      65+ Years   \n",
       "4                            1.0                          4.0  45 - 54 Years   \n",
       "\n",
       "                      education   race     sex             income_poverty  \\\n",
       "respondent_id                                                               \n",
       "0                    < 12 Years  White  Female              Below Poverty   \n",
       "1                      12 Years  White    Male              Below Poverty   \n",
       "2              College Graduate  White    Male  <= $75,000, Above Poverty   \n",
       "3                      12 Years  White  Female              Below Poverty   \n",
       "4                  Some College  White  Female  <= $75,000, Above Poverty   \n",
       "\n",
       "              marital_status rent_or_own   employment_status hhs_geo_region  \\\n",
       "respondent_id                                                                 \n",
       "0                Not Married         Own  Not in Labor Force       oxchjgsf   \n",
       "1                Not Married        Rent            Employed       bhuqouqj   \n",
       "2                Not Married         Own            Employed       qufhixun   \n",
       "3                Not Married        Rent  Not in Labor Force       lrircsnp   \n",
       "4                    Married         Own            Employed       qufhixun   \n",
       "\n",
       "                             census_msa  household_adults  household_children  \\\n",
       "respondent_id                                                                   \n",
       "0                               Non-MSA               0.0                 0.0   \n",
       "1              MSA, Not Principle  City               0.0                 0.0   \n",
       "2              MSA, Not Principle  City               2.0                 0.0   \n",
       "3                   MSA, Principle City               0.0                 0.0   \n",
       "4              MSA, Not Principle  City               1.0                 0.0   \n",
       "\n",
       "              employment_industry employment_occupation  \n",
       "respondent_id                                            \n",
       "0                             NaN                   NaN  \n",
       "1                        pxcmvdjn              xgwztkwe  \n",
       "2                        rucpziij              xtkaffoo  \n",
       "3                             NaN                   NaN  \n",
       "4                        wxleyezf              emcorrxb  "
      ]
     },
     "execution_count": 36,
     "metadata": {},
     "output_type": "execute_result"
    }
   ],
   "source": [
    "X.head()"
   ]
  },
  {
   "cell_type": "markdown",
   "metadata": {},
   "source": [
    "### To Pipeline? Or not to Pipeline?\n",
    "\n",
    "For now, while exploring and experimenting with the data, we'll do things manually. Once we've settled on some models and cleaning strategies, we'll refactor the code into a pipeline."
   ]
  },
  {
   "cell_type": "markdown",
   "metadata": {},
   "source": [
    "# First Model: Basic Logistic Regression\n",
    "\n",
    "To begin, we'll fit a basic logistic regression to the data. The only thing we'll do to prepare the data is to impute missing values (since most categories, including the numeric ones, are categorical, we'll go with the mode), one-hot encode the non-numeric columns, and scale the numeric columns. But first, a train-test split!"
   ]
  },
  {
   "cell_type": "code",
   "execution_count": 37,
   "metadata": {
    "execution": {
     "iopub.execute_input": "2022-01-26T21:16:01.657743Z",
     "iopub.status.busy": "2022-01-26T21:16:01.657273Z",
     "iopub.status.idle": "2022-01-26T21:16:01.681316Z",
     "shell.execute_reply": "2022-01-26T21:16:01.680610Z",
     "shell.execute_reply.started": "2022-01-26T21:16:01.657693Z"
    }
   },
   "outputs": [],
   "source": [
    "X_train, X_test, y_train, y_test = train_test_split(X, y, test_size=.2, random_state=random_state)"
   ]
  },
  {
   "cell_type": "code",
   "execution_count": 38,
   "metadata": {
    "execution": {
     "iopub.execute_input": "2022-01-26T21:16:01.796830Z",
     "iopub.status.busy": "2022-01-26T21:16:01.793192Z",
     "iopub.status.idle": "2022-01-26T21:16:01.821162Z",
     "shell.execute_reply": "2022-01-26T21:16:01.817968Z",
     "shell.execute_reply.started": "2022-01-26T21:16:01.796736Z"
    }
   },
   "outputs": [],
   "source": [
    "y_train_h1n1 = y_train.iloc[:,0]\n",
    "y_train_ssnl =y_train.iloc[:,1]\n",
    "\n",
    "y_test_h1n1 = y_test.iloc[:,0]\n",
    "y_test_ssnl =y_test.iloc[:,1]"
   ]
  },
  {
   "cell_type": "markdown",
   "metadata": {},
   "source": [
    "## Preprocessing"
   ]
  },
  {
   "cell_type": "code",
   "execution_count": 39,
   "metadata": {
    "execution": {
     "iopub.execute_input": "2022-01-26T21:16:02.076183Z",
     "iopub.status.busy": "2022-01-26T21:16:02.075030Z",
     "iopub.status.idle": "2022-01-26T21:16:02.091297Z",
     "shell.execute_reply": "2022-01-26T21:16:02.090108Z",
     "shell.execute_reply.started": "2022-01-26T21:16:02.076099Z"
    }
   },
   "outputs": [],
   "source": [
    "numeric_columns = list(X_train.columns[X_train.dtypes == 'float64'].values)\n",
    "obj_columns = list(X_train.columns[X_train.dtypes == 'object'].values)"
   ]
  },
  {
   "cell_type": "markdown",
   "metadata": {},
   "source": [
    "### Simple Imputer"
   ]
  },
  {
   "cell_type": "code",
   "execution_count": 40,
   "metadata": {
    "execution": {
     "iopub.execute_input": "2022-01-26T21:16:02.317493Z",
     "iopub.status.busy": "2022-01-26T21:16:02.315709Z",
     "iopub.status.idle": "2022-01-26T21:16:03.756394Z",
     "shell.execute_reply": "2022-01-26T21:16:03.755740Z",
     "shell.execute_reply.started": "2022-01-26T21:16:02.317406Z"
    }
   },
   "outputs": [],
   "source": [
    "imputer = SimpleImputer(missing_values=np.nan, strategy='most_frequent')\n",
    "\n",
    "imputer.fit(X_train)\n",
    "\n",
    "X_train_imp = pd.DataFrame(imputer.transform(X_train), columns=X_train.columns, index=X_train.index)\n",
    "X_test_imp = pd.DataFrame(imputer.transform(X_test), columns=X_test.columns, index=X_test.index)"
   ]
  },
  {
   "cell_type": "markdown",
   "metadata": {},
   "source": [
    "### One Hot Encoder"
   ]
  },
  {
   "cell_type": "code",
   "execution_count": 41,
   "metadata": {
    "execution": {
     "iopub.execute_input": "2022-01-26T21:16:03.757424Z",
     "iopub.status.busy": "2022-01-26T21:16:03.757261Z",
     "iopub.status.idle": "2022-01-26T21:16:03.880311Z",
     "shell.execute_reply": "2022-01-26T21:16:03.879693Z",
     "shell.execute_reply.started": "2022-01-26T21:16:03.757405Z"
    }
   },
   "outputs": [],
   "source": [
    "X_train_obj = X_train_imp[obj_columns]\n",
    "X_test_obj = X_test_imp[obj_columns]\n",
    "\n",
    "ohe = OneHotEncoder(categories=\"auto\", handle_unknown=\"ignore\", sparse=False)\n",
    "\n",
    "X_train_ohe = pd.DataFrame(ohe.fit_transform(X_train_obj), columns=ohe.get_feature_names(), index=X_train_obj.index)\n",
    "X_test_ohe = pd.DataFrame(ohe.transform(X_test_obj), columns=ohe.get_feature_names(), index=X_test_obj.index)\n",
    "\n",
    "X_train_ohe = pd.concat([X_train_imp[numeric_columns], X_train_ohe], axis=1)\n",
    "X_test_ohe = pd.concat([X_test_imp[numeric_columns], X_test_ohe], axis=1)"
   ]
  },
  {
   "cell_type": "markdown",
   "metadata": {},
   "source": [
    "### Standard Scaler"
   ]
  },
  {
   "cell_type": "code",
   "execution_count": 42,
   "metadata": {
    "execution": {
     "iopub.execute_input": "2022-01-26T21:16:03.881381Z",
     "iopub.status.busy": "2022-01-26T21:16:03.881222Z",
     "iopub.status.idle": "2022-01-26T21:16:04.302283Z",
     "shell.execute_reply": "2022-01-26T21:16:04.301612Z",
     "shell.execute_reply.started": "2022-01-26T21:16:03.881364Z"
    }
   },
   "outputs": [],
   "source": [
    "ss = StandardScaler()\n",
    "\n",
    "X_train_scaled = pd.DataFrame(ss.fit_transform(X_train_ohe), columns=X_train_ohe.columns, index=X_train_ohe.index)\n",
    "X_test_scaled = pd.DataFrame(ss.transform(X_test_ohe), columns=X_test_ohe.columns, index=X_test_ohe.index)"
   ]
  },
  {
   "cell_type": "markdown",
   "metadata": {},
   "source": [
    "## Fitting the model\n",
    "\n",
    "There is a class called MultiOutputClassifier that we could use here that would run regressions for both class labels at the same time, but, even though it's convenient for training, it can be slightly less convenient for scoring and analyzing, so for every model we fit for the H1N1 vaccine, we'll fit a second model for the seasonal flu vaccine as well."
   ]
  },
  {
   "cell_type": "code",
   "execution_count": 43,
   "metadata": {
    "execution": {
     "iopub.execute_input": "2022-01-26T21:16:04.303530Z",
     "iopub.status.busy": "2022-01-26T21:16:04.303235Z",
     "iopub.status.idle": "2022-01-26T21:16:04.518751Z",
     "shell.execute_reply": "2022-01-26T21:16:04.518264Z",
     "shell.execute_reply.started": "2022-01-26T21:16:04.303511Z"
    }
   },
   "outputs": [],
   "source": [
    "log_reg_h1n1 = LogisticRegression()\n",
    "log_reg_ssnl = LogisticRegression()\n",
    "\n",
    "log_reg_h1n1.fit(X_train_scaled, y_train_h1n1)\n",
    "log_reg_ssnl.fit(X_train_scaled, y_train_ssnl);"
   ]
  },
  {
   "cell_type": "markdown",
   "metadata": {},
   "source": [
    "### Now we'll score it and plot a confusion matrix"
   ]
  },
  {
   "cell_type": "code",
   "execution_count": 44,
   "metadata": {
    "execution": {
     "iopub.execute_input": "2022-01-26T21:16:04.519627Z",
     "iopub.status.busy": "2022-01-26T21:16:04.519469Z",
     "iopub.status.idle": "2022-01-26T21:16:04.540107Z",
     "shell.execute_reply": "2022-01-26T21:16:04.539429Z",
     "shell.execute_reply.started": "2022-01-26T21:16:04.519610Z"
    }
   },
   "outputs": [],
   "source": [
    "y_hat_h1n1 = log_reg_h1n1.predict(X_test_scaled)\n",
    "y_hat_ssnl = log_reg_ssnl.predict(X_test_scaled)"
   ]
  },
  {
   "cell_type": "code",
   "execution_count": 45,
   "metadata": {
    "execution": {
     "iopub.execute_input": "2022-01-26T21:16:04.541057Z",
     "iopub.status.busy": "2022-01-26T21:16:04.540896Z",
     "iopub.status.idle": "2022-01-26T21:16:04.556555Z",
     "shell.execute_reply": "2022-01-26T21:16:04.555932Z",
     "shell.execute_reply.started": "2022-01-26T21:16:04.541039Z"
    }
   },
   "outputs": [],
   "source": [
    "y_proba_h1n1 = log_reg_h1n1.predict_proba(X_test_scaled)\n",
    "y_proba_ssnl = log_reg_ssnl.predict_proba(X_test_scaled)"
   ]
  },
  {
   "cell_type": "code",
   "execution_count": 46,
   "metadata": {
    "execution": {
     "iopub.execute_input": "2022-01-26T21:16:04.557264Z",
     "iopub.status.busy": "2022-01-26T21:16:04.557109Z",
     "iopub.status.idle": "2022-01-26T21:16:04.583302Z",
     "shell.execute_reply": "2022-01-26T21:16:04.579218Z",
     "shell.execute_reply.started": "2022-01-26T21:16:04.557245Z"
    }
   },
   "outputs": [],
   "source": [
    "cf_matrix_h1n1 = confusion_matrix(y_test_h1n1, y_hat_h1n1)\n",
    "cf_matrix_ssnl = confusion_matrix(y_test_ssnl, y_hat_ssnl)"
   ]
  },
  {
   "cell_type": "code",
   "execution_count": 47,
   "metadata": {
    "execution": {
     "iopub.execute_input": "2022-01-26T21:16:04.585095Z",
     "iopub.status.busy": "2022-01-26T21:16:04.584914Z",
     "iopub.status.idle": "2022-01-26T21:16:04.825686Z",
     "shell.execute_reply": "2022-01-26T21:16:04.824078Z",
     "shell.execute_reply.started": "2022-01-26T21:16:04.585075Z"
    }
   },
   "outputs": [
    {
     "data": {
      "image/png": "[encoded data removed]",
      "text/plain": [
       "<Figure size 1152x432 with 2 Axes>"
      ]
     },
     "metadata": {
      "needs_background": "light"
     },
     "output_type": "display_data"
    }
   ],
   "source": [
    "group_names = ['True Neg','False Pos','False Neg','True Pos']\n",
    "categories = ['No vaccine', 'Vaccine']\n",
    "\n",
    "group_counts_1 = ['{0:0.0f}'.format(value) for value in cf_matrix_h1n1.flatten()]\n",
    "labels_1 = [f'{v1}\\n{v2}' for v1, v2 in zip(group_names,group_counts_1)]\n",
    "labels_1 = np.asarray(labels_1).reshape(2,2)\n",
    "\n",
    "group_counts_2 = ['{0:0.0f}'.format(value) for value in cf_matrix_ssnl.flatten()]\n",
    "labels_2 = [f'{v1}\\n{v2}' for v1, v2 in zip(group_names,group_counts_2)]\n",
    "labels_2 = np.asarray(labels_2).reshape(2,2)\n",
    "\n",
    "sns.set_context('talk')\n",
    "fig, (ax1, ax2)= plt.subplots(figsize=(16,6), ncols=2)\n",
    "\n",
    "sns.heatmap(cf_matrix_h1n1, annot=labels_1, xticklabels=categories, yticklabels=categories, cbar=None, fmt='', cmap='Blues', ax=ax1)\n",
    "ax1.set_ylabel('Actual')\n",
    "ax1.set_yticklabels(ax1.get_yticklabels(), va=\"center\")\n",
    "ax1.set_xlabel('Predicted')\n",
    "ax1.set_title('H1N1')\n",
    "\n",
    "sns.heatmap(cf_matrix_ssnl, annot=labels_2, xticklabels=categories, yticklabels=categories, cbar=None, fmt='', cmap='Blues', ax=ax2)\n",
    "ax2.set_ylabel('Actual')\n",
    "ax2.set_yticklabels(ax2.get_yticklabels(), va=\"center\")\n",
    "ax2.set_xlabel('Predicted')\n",
    "ax2.set_title('Seasonal Flu');"
   ]
  },
  {
   "cell_type": "code",
   "execution_count": 48,
   "metadata": {
    "execution": {
     "iopub.execute_input": "2022-01-26T21:16:04.826763Z",
     "iopub.status.busy": "2022-01-26T21:16:04.826575Z",
     "iopub.status.idle": "2022-01-26T21:16:04.857422Z",
     "shell.execute_reply": "2022-01-26T21:16:04.856832Z",
     "shell.execute_reply.started": "2022-01-26T21:16:04.826744Z"
    }
   },
   "outputs": [
    {
     "name": "stdout",
     "output_type": "stream",
     "text": [
      "Recall for H1N1:            0.4511754068716094\n",
      "Recall for seasonal flu:    0.7379895034315704\n",
      "\n",
      "Precision for H1N1:         0.6706989247311828\n",
      "Precision for seasonal flu: 0.769036600757257\n",
      "\n",
      "Accuracy for H1N1:          0.8405091725945338\n",
      "Accuracy for seasonal flu:  0.775739423436915\n",
      "\n",
      "F1 score for H1N1:          0.5394594594594594\n",
      "F1 score for seasonal flu:  0.753193242686444\n",
      "\n",
      "AUROC for H1N1:             0.8396438774168541\n",
      "AUROC for seasonal flu:     0.8492191688842763\n"
     ]
    }
   ],
   "source": [
    "print(f'Recall for H1N1:            {recall_score(y_test_h1n1, y_hat_h1n1)}')\n",
    "print(f'Recall for seasonal flu:    {recall_score(y_test_ssnl, y_hat_ssnl)}\\n')\n",
    "print(f'Precision for H1N1:         {precision_score(y_test_h1n1, y_hat_h1n1)}')\n",
    "print(f'Precision for seasonal flu: {precision_score(y_test_ssnl, y_hat_ssnl)}\\n')\n",
    "print(f'Accuracy for H1N1:          {accuracy_score(y_test_h1n1, y_hat_h1n1)}')\n",
    "print(f'Accuracy for seasonal flu:  {accuracy_score(y_test_ssnl, y_hat_ssnl)}\\n')\n",
    "print(f'F1 score for H1N1:          {f1_score(y_test_h1n1, y_hat_h1n1)}')\n",
    "print(f'F1 score for seasonal flu:  {f1_score(y_test_ssnl, y_hat_ssnl)}\\n')\n",
    "print(f'AUROC for H1N1:             {roc_auc_score(y_test_h1n1, y_proba_h1n1[:,1])}')\n",
    "print(f'AUROC for seasonal flu:     {roc_auc_score(y_test_ssnl, y_proba_ssnl[:,1])}')"
   ]
  },
  {
   "cell_type": "markdown",
   "metadata": {},
   "source": [
    "# Refactor into a pipeline\n",
    "\n",
    "Now that we've got a basic and working but still fairly rough model with our cleaning steps mostly sorted out, we'll build a pipeline. We'll also code some of our graphing and scoring steps as a function so we can easily spit out several metrics for each model.\n",
    "\n",
    "We'll also first redo our train-test split with with stratify because the H1N1-vaccinated class is slightly imbalanced. It likely won't be a drastic improvement, but we may be able to squeeze a small amount of extra juice out of any models going forward."
   ]
  },
  {
   "cell_type": "code",
   "execution_count": 73,
   "metadata": {
    "execution": {
     "iopub.execute_input": "2022-01-26T21:24:50.668146Z",
     "iopub.status.busy": "2022-01-26T21:24:50.667919Z",
     "iopub.status.idle": "2022-01-26T21:24:50.689477Z",
     "shell.execute_reply": "2022-01-26T21:24:50.688834Z",
     "shell.execute_reply.started": "2022-01-26T21:24:50.668120Z"
    }
   },
   "outputs": [],
   "source": [
    "X_train, X_test, y_train, y_test = train_test_split(X, y, test_size=.2, stratify=y['h1n1_vaccine'], random_state=random_state)"
   ]
  },
  {
   "cell_type": "code",
   "execution_count": 74,
   "metadata": {
    "execution": {
     "iopub.execute_input": "2022-01-26T21:24:50.825752Z",
     "iopub.status.busy": "2022-01-26T21:24:50.824970Z",
     "iopub.status.idle": "2022-01-26T21:24:50.843801Z",
     "shell.execute_reply": "2022-01-26T21:24:50.841210Z",
     "shell.execute_reply.started": "2022-01-26T21:24:50.825674Z"
    }
   },
   "outputs": [],
   "source": [
    "y_train_h1n1 = y_train.iloc[:,0]\n",
    "y_train_ssnl = y_train.iloc[:,1]\n",
    "\n",
    "y_test_h1n1 = y_test.iloc[:,0]\n",
    "y_test_ssnl = y_test.iloc[:,1]"
   ]
  },
  {
   "cell_type": "code",
   "execution_count": 75,
   "metadata": {
    "execution": {
     "iopub.execute_input": "2022-01-26T21:24:50.945062Z",
     "iopub.status.busy": "2022-01-26T21:24:50.944839Z",
     "iopub.status.idle": "2022-01-26T21:24:50.952431Z",
     "shell.execute_reply": "2022-01-26T21:24:50.951562Z",
     "shell.execute_reply.started": "2022-01-26T21:24:50.945036Z"
    }
   },
   "outputs": [],
   "source": [
    "# Without this cell, a number of future cells will produce a SettingWithCopyWarning\n",
    "X_train = X_train.copy()\n",
    "X_test = X_test.copy()\n",
    "y_train_h1n1 = y_train_h1n1.copy()\n",
    "y_train_ssnl = y_train_ssnl.copy()\n",
    "y_test_h1n1 = y_test_h1n1.copy()\n",
    "y_test_ssnl = y_test_ssnl.copy()"
   ]
  },
  {
   "cell_type": "code",
   "execution_count": 76,
   "metadata": {
    "execution": {
     "iopub.execute_input": "2022-01-26T21:24:51.100024Z",
     "iopub.status.busy": "2022-01-26T21:24:51.099445Z",
     "iopub.status.idle": "2022-01-26T21:24:51.120615Z",
     "shell.execute_reply": "2022-01-26T21:24:51.118875Z",
     "shell.execute_reply.started": "2022-01-26T21:24:51.099959Z"
    }
   },
   "outputs": [],
   "source": [
    "numeric_columns = list(X_train.columns[X_train.dtypes == 'float64'].values)\n",
    "obj_columns = list(X_train.columns[X_train.dtypes == 'object'].values)\n",
    "all_columns = list(X_train.columns.values)"
   ]
  },
  {
   "cell_type": "markdown",
   "metadata": {},
   "source": [
    "### Two preprocessors, one for tree-based models, one for anything else\n",
    "\n",
    "On closer inspection of the data, it's clear that the entire dataset is actually categorical. As such, our logistic regression would likely benefit from the whole dataset being one-hot encoded. On the other hand, tree-based models won't necessarily benefit from one-hot encoding, and a good deal of the categorical data is ordinal, which would benefit from scaling.\n",
    "\n",
    "So one preprocessor will impute missing values and then one-hot encode every feature. The other processor will impute missing values, encode certain ordinal categories as numerical, and then min-max scale all ordinal features."
   ]
  },
  {
   "cell_type": "markdown",
   "metadata": {},
   "source": [
    "### The Common pipe"
   ]
  },
  {
   "cell_type": "markdown",
   "metadata": {},
   "source": [
    "The pipelines can become somewhat complicated when attempting to run multiple imputers on different sets of columns. Because of this, we'll make a custom imputer function specifically for this dataframe before building the pipeline. This is all necessary because three of our columns have nearly half of their values missing. It seems not quite right to replace them with the mode or median (like we'll do with the rest of the columns), but we also certainly don't want to be dropping ten-thousand datapoints. So for those we'll impute their missing values by hand with 'unknown', or in the case of health_insuarance, which is binary, with 2 (which will act more or less like 'unknown'). \n",
    "\n",
    "We'll also ordinally encode certain columns by hand (age_group, education, and income_poverty) for similar reasons. "
   ]
  },
  {
   "cell_type": "code",
   "execution_count": 77,
   "metadata": {
    "execution": {
     "iopub.execute_input": "2022-01-26T21:24:52.230013Z",
     "iopub.status.busy": "2022-01-26T21:24:52.229690Z",
     "iopub.status.idle": "2022-01-26T21:24:52.236630Z",
     "shell.execute_reply": "2022-01-26T21:24:52.235643Z",
     "shell.execute_reply.started": "2022-01-26T21:24:52.229975Z"
    }
   },
   "outputs": [],
   "source": [
    "def impute_unk(df):\n",
    "    df.loc[df['employment_industry'].isna(), 'employment_industry'] = 'unknown'\n",
    "    df.loc[df['employment_occupation'].isna(), 'employment_occupation'] = 'unknown'\n",
    "    df.loc[df['health_insurance'].isna(), 'health_insurance'] = 2\n",
    "    \n",
    "    for column in df:\n",
    "        if df[column].isnull().any():\n",
    "            df[column]=df[column].fillna(df[column].mode()[0])"
   ]
  },
  {
   "cell_type": "code",
   "execution_count": 78,
   "metadata": {
    "execution": {
     "iopub.execute_input": "2022-01-26T21:24:52.661327Z",
     "iopub.status.busy": "2022-01-26T21:24:52.660595Z",
     "iopub.status.idle": "2022-01-26T21:24:52.684177Z",
     "shell.execute_reply": "2022-01-26T21:24:52.681082Z",
     "shell.execute_reply.started": "2022-01-26T21:24:52.661251Z"
    }
   },
   "outputs": [],
   "source": [
    "def ord_encode(df):\n",
    "    \n",
    "    \"\"\"\n",
    "    This function takes a dataframe and encodes some of the\n",
    "    categorical variables as ordinal, according to a pre-defined\n",
    "    list of values. This operation is in place.\n",
    "    \"\"\"\n",
    "\n",
    "    df = pd.DataFrame(df)\n",
    "    \n",
    "    age_group_values = ['18 - 34 Years', '35 - 44 Years', '45 - 54 Years', '55 - 64 Years', '65+ Years']\n",
    "    education_values = ['< 12 Years', '12 Years', 'Some College', 'College Graduate']\n",
    "    income_poverty_values = ['Below Poverty', '<= $75,000, Above Poverty', '> $75,000']\n",
    "\n",
    "    values_dict = {'age_group': age_group_values, 'education': education_values, 'income_poverty': income_poverty_values}\n",
    "\n",
    "    for column_name, values_list in values_dict.items():    \n",
    "        for num, value in enumerate(values_list):\n",
    "            df.loc[df[column_name] == value, column_name] = int(num)\n",
    "        df[column_name] = df[column_name].astype(int)"
   ]
  },
  {
   "cell_type": "code",
   "execution_count": 79,
   "metadata": {
    "execution": {
     "iopub.execute_input": "2022-01-26T21:24:53.337029Z",
     "iopub.status.busy": "2022-01-26T21:24:53.336378Z",
     "iopub.status.idle": "2022-01-26T21:24:53.343631Z",
     "shell.execute_reply": "2022-01-26T21:24:53.342151Z",
     "shell.execute_reply.started": "2022-01-26T21:24:53.336985Z"
    }
   },
   "outputs": [],
   "source": [
    "def clean(df):\n",
    "    impute_unk(df)\n",
    "    ord_encode(df)"
   ]
  },
  {
   "cell_type": "code",
   "execution_count": 80,
   "metadata": {
    "execution": {
     "iopub.execute_input": "2022-01-26T21:24:53.619173Z",
     "iopub.status.busy": "2022-01-26T21:24:53.618636Z",
     "iopub.status.idle": "2022-01-26T21:24:53.769220Z",
     "shell.execute_reply": "2022-01-26T21:24:53.768327Z",
     "shell.execute_reply.started": "2022-01-26T21:24:53.619140Z"
    }
   },
   "outputs": [],
   "source": [
    "clean(X_train)\n",
    "clean(X_test)\n",
    "clean(X_test_comp)"
   ]
  },
  {
   "cell_type": "markdown",
   "metadata": {},
   "source": [
    "### The Linear preprocessor"
   ]
  },
  {
   "cell_type": "code",
   "execution_count": 81,
   "metadata": {
    "execution": {
     "iopub.execute_input": "2022-01-26T21:24:57.995769Z",
     "iopub.status.busy": "2022-01-26T21:24:57.994640Z",
     "iopub.status.idle": "2022-01-26T21:24:58.007294Z",
     "shell.execute_reply": "2022-01-26T21:24:58.005315Z",
     "shell.execute_reply.started": "2022-01-26T21:24:57.995688Z"
    }
   },
   "outputs": [],
   "source": [
    "ohe_transform = ColumnTransformer(\n",
    "    transformers=[\n",
    "        ('ohe', OneHotEncoder(handle_unknown=\"ignore\", sparse=False), all_columns)])"
   ]
  },
  {
   "cell_type": "code",
   "execution_count": 94,
   "metadata": {
    "execution": {
     "iopub.execute_input": "2022-01-26T21:29:24.573713Z",
     "iopub.status.busy": "2022-01-26T21:29:24.573415Z",
     "iopub.status.idle": "2022-01-26T21:29:24.577721Z",
     "shell.execute_reply": "2022-01-26T21:29:24.577070Z",
     "shell.execute_reply.started": "2022-01-26T21:29:24.573681Z"
    }
   },
   "outputs": [],
   "source": [
    "linear_preprocessor = Pipeline(\n",
    "    steps=[\n",
    "        ('ohe', ohe_transform),\n",
    "        ('est', est)\n",
    "    ])"
   ]
  },
  {
   "cell_type": "markdown",
   "metadata": {},
   "source": [
    "### The Tree preprocessor"
   ]
  },
  {
   "cell_type": "code",
   "execution_count": 83,
   "metadata": {
    "execution": {
     "iopub.execute_input": "2022-01-26T21:25:04.133639Z",
     "iopub.status.busy": "2022-01-26T21:25:04.133294Z",
     "iopub.status.idle": "2022-01-26T21:25:04.140658Z",
     "shell.execute_reply": "2022-01-26T21:25:04.139700Z",
     "shell.execute_reply.started": "2022-01-26T21:25:04.133600Z"
    }
   },
   "outputs": [],
   "source": [
    "tree_transformer = ColumnTransformer(\n",
    "    transformers=[\n",
    "        ('minmax', MinMaxScaler(), numeric_columns),\n",
    "        ('ohe', OneHotEncoder(handle_unknown=\"ignore\", sparse=False), obj_columns)\n",
    "    ])"
   ]
  },
  {
   "cell_type": "code",
   "execution_count": 84,
   "metadata": {
    "execution": {
     "iopub.execute_input": "2022-01-26T21:25:05.093233Z",
     "iopub.status.busy": "2022-01-26T21:25:05.092954Z",
     "iopub.status.idle": "2022-01-26T21:25:05.098338Z",
     "shell.execute_reply": "2022-01-26T21:25:05.097622Z",
     "shell.execute_reply.started": "2022-01-26T21:25:05.093201Z"
    }
   },
   "outputs": [],
   "source": [
    "tree_preprocessor = Pipeline(\n",
    "    steps=[\n",
    "        ('tree', tree_transformer),\n",
    "        ('est', est)\n",
    "    ])"
   ]
  },
  {
   "cell_type": "markdown",
   "metadata": {},
   "source": [
    "### And a nice big function to score them\n",
    "\n",
    "This function will take in lists of target data and lists of predictions and probabilities and return a number of scoring metrics as well as print out confusion matrices for quick and easy comprehension."
   ]
  },
  {
   "cell_type": "code",
   "execution_count": 135,
   "metadata": {
    "execution": {
     "iopub.execute_input": "2022-01-26T22:13:22.291516Z",
     "iopub.status.busy": "2022-01-26T22:13:22.291197Z",
     "iopub.status.idle": "2022-01-26T22:13:22.312734Z",
     "shell.execute_reply": "2022-01-26T22:13:22.311897Z",
     "shell.execute_reply.started": "2022-01-26T22:13:22.291491Z"
    }
   },
   "outputs": [],
   "source": [
    "def all_metrics(y_actuals, y_hats, y_score=None, model_name=None, keep_score=False, save_fig=False, suppress_output=False):\n",
    "    \"\"\"\n",
    "    This function takes in y_data either as single dataframes or in groups\n",
    "    as lists and returns recall, precision, accuracy, and f1 score. \n",
    "    If y_score is provided, an AUC score will also be calculated.\n",
    "    If a name for the model is supplied and keep_score is set to True,\n",
    "    that name along with scores are stored in a model dictionary for later use. \n",
    "    \n",
    "    y_actuals: array/dataframe or a list of arrays/dataframes\n",
    "    \n",
    "    y_hats: if y_actuals is list, then list of same length. if \n",
    "    y_actuals is single array/dataframe, then single array/dataframe.\n",
    "    \n",
    "    y_score: if y_actuals is list, then list of same length. if \n",
    "    y_actuals is single array/dataframe, then single array/dataframe.\n",
    "    \n",
    "    model_name: string or list of strings. If y_actuals is \n",
    "    single array/dataframe, then string. If y_actuals is list, then\n",
    "    list of same length.\n",
    "    \n",
    "    keep_score: bool, saves scores in a score dictionary\n",
    "    \n",
    "    save_fig: bool, exports graph to graph folder\n",
    "    \n",
    "    Note: save_fig is only supported for single models.\n",
    "    \n",
    "    \"\"\"\n",
    "    if type(y_actuals) == list:\n",
    "        if len(y_actuals) != len(y_hats):\n",
    "            print('The size of each list for y_tests and y_hats needs to be the same size.')\n",
    "            return\n",
    "        elif model_name and len(y_actuals) != len(model_name):\n",
    "            print('The number of names does not match the number of models.')\n",
    "            return\n",
    "        else:\n",
    "            all_scores = {}\n",
    "            confusion_matrices = []\n",
    "            for i in range(len(y_actuals)):\n",
    "                y_actual = y_actuals[i]\n",
    "                y_hat = y_hats[i]\n",
    "                model_scores = {}\n",
    "                cf_matrix = confusion_matrix(y_actual, y_hat)\n",
    "                model_scores['recall'] = recall_score(y_actual, y_hat)\n",
    "                model_scores['precision'] = precision_score(y_actual, y_hat)\n",
    "                model_scores['accuracy'] = accuracy_score(y_actual, y_hat)\n",
    "                model_scores['f1'] = f1_score(y_actual, y_hat)\n",
    "                if y_score:\n",
    "                    model_scores['AUC'] = roc_auc_score(y_actual, y_score[i][:,1])\n",
    "                \n",
    "                if model_name:\n",
    "                    all_scores[model_name[i]] = model_scores\n",
    "                    if keep_score:\n",
    "                        model_scoring_dict[model_name[i]] = model_scores\n",
    "                else:\n",
    "                    all_scores[f'model number {i+1}'] = model_scores\n",
    "                    \n",
    "                confusion_matrices.append(cf_matrix)\n",
    "        \n",
    "        if suppress_output:\n",
    "            return\n",
    "        \n",
    "        row = len(all_scores) // 3\n",
    "        col = len(all_scores) % 3\n",
    "        \n",
    "        if len(all_scores) < 4:\n",
    "            ncols=len(all_scores)\n",
    "            nrows=1\n",
    "        else:\n",
    "            ncols=3\n",
    "            if col != 0:\n",
    "                nrows=row+1\n",
    "            else:\n",
    "                nrows=row\n",
    "                \n",
    "        sns.set_context('talk')\n",
    "        fig, axes = plt.subplots(figsize=(8*ncols,6*nrows), ncols=ncols, nrows=nrows)\n",
    "        \n",
    "        for i, model in zip(range(len(all_scores)), all_scores):\n",
    "            group_names = ['True Neg','False Pos','False Neg','True Pos']\n",
    "            categories = ['No vaccine', 'Vaccine']\n",
    "\n",
    "            group_counts = ['{0:0.0f}'.format(value) for value in confusion_matrices[i].flatten()]\n",
    "            labels = [f'{v1}\\n{v2}' for v1, v2 in zip(group_names,group_counts)]\n",
    "            labels = np.asarray(labels).reshape(2,2)\n",
    "\n",
    "            row = i // 3\n",
    "            col = i % 3\n",
    "            \n",
    "            if nrows < 2:\n",
    "                ax = axes[col]\n",
    "            else:\n",
    "                ax = axes[row][col]\n",
    "            sns.heatmap(cf_matrix, annot=labels, xticklabels=categories, yticklabels=categories, cbar=None, fmt='', cmap='Blues', ax=ax)\n",
    "            ax.set_ylabel('Actual')\n",
    "            ax.set_yticklabels(ax1.get_yticklabels(), va=\"center\")\n",
    "            ax.set_xlabel('Predicted')\n",
    "        \n",
    "            if model_name:\n",
    "                ax.set_title(model_name[i])\n",
    "            else:\n",
    "                ax.set_title('Model Performance')\n",
    "                \n",
    "        plt.tight_layout()        \n",
    "\n",
    "        \n",
    "        for model in all_scores:\n",
    "            print('Recall for {}:    {}'.format(model, all_scores[model]['recall']))\n",
    "        print('')\n",
    "        for model in all_scores:\n",
    "            print('Precision for {}: {}'.format(model, all_scores[model]['precision']))\n",
    "        print('')\n",
    "        for model in all_scores:\n",
    "            print('Accuracy for {}:  {}'.format(model, all_scores[model]['accuracy']))\n",
    "        print('')\n",
    "        for model in all_scores:\n",
    "            print('F1 score for {}:  {}'.format(model, all_scores[model]['f1']))\n",
    "        if y_score:\n",
    "            print('')\n",
    "            for model in all_scores:\n",
    "                print('AUROC for {}:     {}'.format(model, all_scores[model]['AUC']))\n",
    "            \n",
    "    else:\n",
    "        if model_name and type(model_name) != str:\n",
    "            print('There should only be one model name, and it should be a string.')\n",
    "            return\n",
    "        else:\n",
    "            all_scores = {}\n",
    "            model_scores = {}\n",
    "            cf_matrix = confusion_matrix(y_actuals, y_hats)\n",
    "            model_scores['recall'] = recall_score(y_actuals, y_hats)\n",
    "            model_scores['precision'] = precision_score(y_actuals, y_hats)\n",
    "            model_scores['accuracy'] = accuracy_score(y_actuals, y_hats)\n",
    "            model_scores['f1'] = f1_score(y_actuals, y_hats)\n",
    "            if y_score is not None:\n",
    "                model_scores['AUC'] = roc_auc_score(y_actuals, y_score[:,1])\n",
    "                \n",
    "            if model_name:\n",
    "                if keep_score:\n",
    "                    model_scoring_dict[model_name] = model_scores\n",
    "            else:\n",
    "                all_scores['model'] = model_scores\n",
    "        \n",
    "        if suppress_output:\n",
    "            return\n",
    "        \n",
    "        cf_matrix = confusion_matrix(y_actuals, y_hats)\n",
    "        group_names = ['True Neg','False Pos','False Neg','True Pos']\n",
    "        categories = ['No vaccine', 'Vaccine']\n",
    "\n",
    "        group_counts = ['{0:0.0f}'.format(value) for value in cf_matrix.flatten()]\n",
    "        labels = [f'{v1}\\n{v2}' for v1, v2 in zip(group_names,group_counts)]\n",
    "        labels = np.asarray(labels).reshape(2,2)\n",
    "\n",
    "        sns.set_context('talk')\n",
    "        fig, ax = plt.subplots(figsize=(8,6))\n",
    "\n",
    "        sns.heatmap(cf_matrix, annot=labels, xticklabels=categories, yticklabels=categories, cbar=None, fmt='', cmap='Blues', ax=ax)\n",
    "        ax.set_ylabel('Actual')\n",
    "        ax.set_yticklabels(ax.get_yticklabels(), va=\"center\")\n",
    "        ax.set_xlabel('Predicted')\n",
    "        if model_name:\n",
    "            ax.set_title(model_name)\n",
    "        else:\n",
    "            ax.set_title('Model Performance')\n",
    "        \n",
    "        if save_fig:\n",
    "            fig.savefig('./graphs/{}'.format(model_name if model_name else 'rename_me'), dpi=300, transparent=False, bbox_inches='tight');\n",
    "        \n",
    "        print('Recall:    {}'.format(model_scores['recall']))\n",
    "        print('Precision: {}'.format(model_scores['precision']))\n",
    "        print('Accuracy:  {}'.format(model_scores['accuracy']))\n",
    "        print('F1 score:  {}'.format(model_scores['f1']))\n",
    "        if y_score is not None:\n",
    "            print('AUROC:     {}'.format(model_scores['AUC']))"
   ]
  },
  {
   "cell_type": "markdown",
   "metadata": {},
   "source": [
    "# Keeping a model dictionary\n",
    "\n",
    "So now that the pipeline and scoring code is done, we can start throwing models at it. The easiest way to keep things organized would be to build a function or a dictionary or both to run the models through the pipeline and keep the models afterwards"
   ]
  },
  {
   "cell_type": "code",
   "execution_count": 136,
   "metadata": {
    "execution": {
     "iopub.execute_input": "2022-01-26T22:16:13.625035Z",
     "iopub.status.busy": "2022-01-26T22:16:13.624789Z",
     "iopub.status.idle": "2022-01-26T22:16:13.633261Z",
     "shell.execute_reply": "2022-01-26T22:16:13.632636Z",
     "shell.execute_reply.started": "2022-01-26T22:16:13.625008Z"
    }
   },
   "outputs": [],
   "source": [
    "def train_new_model(estimator, preprocessor, grid=None, suppress_output=False):\n",
    "    \"\"\"\n",
    "    This function takes in a preprocessor pipeline as well as a tuned estimator\n",
    "    and returns a number of scoring metrics. It also saves the model and it's\n",
    "    results in a scoring dictionary. It can alternatively do a grid search if passed\n",
    "    a grid list. Scoring output can be suppressed with suppress_output=True.\n",
    "    \n",
    "    Note: The grid search feature is not yet functional.\n",
    "    \n",
    "    estimator: the class of the regressor or classifier to be modeled. Any desired\n",
    "    hyperparameters should be included (e.g. LogisticRegression(max_iter=1000)).\n",
    "    \n",
    "    preprocessor: string - 'linear' or 'tree'\n",
    "    \n",
    "    grid: a list of hyperparameters with which do do a grid search\n",
    "    \n",
    "    suppress_output: bool\n",
    "    \"\"\"\n",
    "    \n",
    "    est = estimator\n",
    "    \n",
    "    ohe_transform = ColumnTransformer(\n",
    "        transformers=[\n",
    "            ('ohe', OneHotEncoder(handle_unknown=\"ignore\", sparse=False), all_columns)])\n",
    "        \n",
    "    linear_preprocessor = Pipeline(\n",
    "        steps=[\n",
    "            ('ohe', ohe_transform),\n",
    "            ('est', est)\n",
    "        ])\n",
    "        \n",
    "    tree_transformer = ColumnTransformer(\n",
    "        transformers=[\n",
    "            ('minmax', MinMaxScaler(), numeric_columns),\n",
    "            ('ohe', OneHotEncoder(handle_unknown=\"ignore\", sparse=False), obj_columns)\n",
    "        ])\n",
    "        \n",
    "    tree_preprocessor = Pipeline(\n",
    "        steps=[\n",
    "            ('tree', tree_transformer),\n",
    "            ('est', est)\n",
    "        ])\n",
    "    \n",
    "    if grid:\n",
    "        pass\n",
    "    \n",
    "    else:\n",
    "        \n",
    "        global y_hat_h1n1\n",
    "        global y_proba_h1n1\n",
    "        global y_proba_h1n1_comp\n",
    "        global y_hat_ssnl\n",
    "        global y_proba_ssnl\n",
    "        global y_proba_ssnl_comp\n",
    "        \n",
    "        if preprocessor == 'linear':\n",
    "            pipe = linear_preprocessor\n",
    "        elif preprocessor == 'tree':\n",
    "            pipe = tree_preprocessor\n",
    "        \n",
    "        clean(X_train)\n",
    "        clean(X_test)\n",
    "        clean(X_test_comp)\n",
    "        \n",
    "        pipe.fit(X_train, y_train_h1n1)\n",
    "        y_hat_h1n1 = pipe.predict(X_test)\n",
    "        y_proba_h1n1 = pipe.predict_proba(X_test)\n",
    "        y_proba_h1n1_comp = pipe.predict_proba(X_test_comp)\n",
    "\n",
    "        pipe.fit(X_train, y_train_ssnl)\n",
    "        y_hat_ssnl = pipe.predict(X_test)\n",
    "        y_proba_ssnl = pipe.predict_proba(X_test)\n",
    "        y_proba_ssnl_comp = pipe.predict_proba(X_test_comp)\n",
    "        \n",
    "        if suppress_output:\n",
    "            all_metrics([y_test_h1n1, y_test_ssnl], [y_hat_h1n1, y_hat_ssnl], [y_proba_h1n1, y_proba_ssnl], model_name=['H1N1','Seasonal Flu'], suppress_output=True)\n",
    "        else:\n",
    "            all_metrics([y_test_h1n1, y_test_ssnl], [y_hat_h1n1, y_hat_ssnl], [y_proba_h1n1, y_proba_ssnl], model_name=['H1N1','Seasonal Flu'])"
   ]
  },
  {
   "cell_type": "markdown",
   "metadata": {
    "execution": {
     "iopub.execute_input": "2022-01-26T21:24:57.995769Z",
     "iopub.status.busy": "2022-01-26T21:24:57.994640Z",
     "iopub.status.idle": "2022-01-26T21:24:58.007294Z",
     "shell.execute_reply": "2022-01-26T21:24:58.005315Z",
     "shell.execute_reply.started": "2022-01-26T21:24:57.995688Z"
    }
   },
   "source": [
    "- Save models in dictionary\n",
    "- Pickle models\n",
    "- produce predictions for competition\n",
    "- hooke up skylar slide to functions"
   ]
  },
  {
   "cell_type": "code",
   "execution_count": 83,
   "metadata": {
    "execution": {
     "iopub.execute_input": "2022-01-26T21:25:04.133639Z",
     "iopub.status.busy": "2022-01-26T21:25:04.133294Z",
     "iopub.status.idle": "2022-01-26T21:25:04.140658Z",
     "shell.execute_reply": "2022-01-26T21:25:04.139700Z",
     "shell.execute_reply.started": "2022-01-26T21:25:04.133600Z"
    }
   },
   "outputs": [],
   "source": []
  },
  {
   "cell_type": "code",
   "execution_count": 143,
   "metadata": {
    "execution": {
     "iopub.execute_input": "2022-01-26T22:25:33.090336Z",
     "iopub.status.busy": "2022-01-26T22:25:33.090060Z",
     "iopub.status.idle": "2022-01-26T22:25:45.779101Z",
     "shell.execute_reply": "2022-01-26T22:25:45.778504Z",
     "shell.execute_reply.started": "2022-01-26T22:25:33.090306Z"
    }
   },
   "outputs": [
    {
     "name": "stdout",
     "output_type": "stream",
     "text": [
      "Recall for H1N1:    0.5171806167400881\n",
      "Recall for Seasonal Flu:    0.7608080808080808\n",
      "\n",
      "Precision for H1N1: 0.7468193384223919\n",
      "Precision for Seasonal Flu: 0.7660699755899105\n",
      "\n",
      "Accuracy for H1N1:  0.8601647323099962\n",
      "Accuracy for Seasonal Flu:  0.7815424934481467\n",
      "\n",
      "F1 score for H1N1:  0.6111400312337325\n",
      "F1 score for Seasonal Flu:  0.7634299614838841\n",
      "\n",
      "AUROC for H1N1:     0.8735216845429634\n",
      "AUROC for Seasonal Flu:     0.8582966744529352\n"
     ]
    },
    {
     "data": {
      "image/png": "[encoded data removed]",
      "text/plain": [
       "<Figure size 1152x432 with 2 Axes>"
      ]
     },
     "metadata": {
      "needs_background": "light"
     },
     "output_type": "display_data"
    }
   ],
   "source": [
    "train_new_model(HistGradientBoostingClassifier(learning_rate=0.1, max_depth=9, max_iter=70), 'tree')"
   ]
  },
  {
   "cell_type": "code",
   "execution_count": 142,
   "metadata": {
    "execution": {
     "iopub.execute_input": "2022-01-26T22:23:30.566886Z",
     "iopub.status.busy": "2022-01-26T22:23:30.566531Z",
     "iopub.status.idle": "2022-01-26T22:23:30.572036Z",
     "shell.execute_reply": "2022-01-26T22:23:30.571393Z",
     "shell.execute_reply.started": "2022-01-26T22:23:30.566850Z"
    }
   },
   "outputs": [
    {
     "data": {
      "text/plain": [
       "0.8656796879467359"
      ]
     },
     "execution_count": 142,
     "metadata": {},
     "output_type": "execute_result"
    }
   ],
   "source": [
    "(0.8740639944543862 + 0.8572953814390856) / 2"
   ]
  },
  {
   "cell_type": "code",
   "execution_count": 144,
   "metadata": {
    "execution": {
     "iopub.execute_input": "2022-01-26T22:26:06.210714Z",
     "iopub.status.busy": "2022-01-26T22:26:06.210506Z",
     "iopub.status.idle": "2022-01-26T22:26:06.214553Z",
     "shell.execute_reply": "2022-01-26T22:26:06.213901Z",
     "shell.execute_reply.started": "2022-01-26T22:26:06.210693Z"
    }
   },
   "outputs": [
    {
     "data": {
      "text/plain": [
       "0.8659091794979493"
      ]
     },
     "execution_count": 144,
     "metadata": {},
     "output_type": "execute_result"
    }
   ],
   "source": [
    "(0.8735216845429634 + 0.8582966744529352) / 2"
   ]
  },
  {
   "cell_type": "code",
   "execution_count": null,
   "metadata": {},
   "outputs": [],
   "source": []
  },
  {
   "cell_type": "code",
   "execution_count": null,
   "metadata": {},
   "outputs": [],
   "source": []
  },
  {
   "cell_type": "code",
   "execution_count": null,
   "metadata": {},
   "outputs": [],
   "source": []
  },
  {
   "cell_type": "code",
   "execution_count": null,
   "metadata": {},
   "outputs": [],
   "source": []
  },
  {
   "cell_type": "code",
   "execution_count": null,
   "metadata": {},
   "outputs": [],
   "source": []
  },
  {
   "cell_type": "code",
   "execution_count": null,
   "metadata": {},
   "outputs": [],
   "source": []
  },
  {
   "cell_type": "code",
   "execution_count": null,
   "metadata": {},
   "outputs": [],
   "source": []
  },
  {
   "cell_type": "code",
   "execution_count": null,
   "metadata": {},
   "outputs": [],
   "source": []
  },
  {
   "cell_type": "code",
   "execution_count": null,
   "metadata": {},
   "outputs": [],
   "source": []
  },
  {
   "cell_type": "code",
   "execution_count": null,
   "metadata": {},
   "outputs": [],
   "source": []
  },
  {
   "cell_type": "code",
   "execution_count": null,
   "metadata": {},
   "outputs": [],
   "source": []
  },
  {
   "cell_type": "code",
   "execution_count": null,
   "metadata": {},
   "outputs": [],
   "source": []
  },
  {
   "cell_type": "code",
   "execution_count": null,
   "metadata": {},
   "outputs": [],
   "source": []
  },
  {
   "cell_type": "code",
   "execution_count": null,
   "metadata": {},
   "outputs": [],
   "source": []
  },
  {
   "cell_type": "code",
   "execution_count": null,
   "metadata": {},
   "outputs": [],
   "source": []
  },
  {
   "cell_type": "code",
   "execution_count": null,
   "metadata": {},
   "outputs": [],
   "source": []
  },
  {
   "cell_type": "code",
   "execution_count": null,
   "metadata": {},
   "outputs": [],
   "source": []
  },
  {
   "cell_type": "code",
   "execution_count": null,
   "metadata": {},
   "outputs": [],
   "source": []
  },
  {
   "cell_type": "code",
   "execution_count": null,
   "metadata": {},
   "outputs": [],
   "source": []
  },
  {
   "cell_type": "code",
   "execution_count": null,
   "metadata": {},
   "outputs": [],
   "source": []
  },
  {
   "cell_type": "code",
   "execution_count": null,
   "metadata": {},
   "outputs": [],
   "source": []
  },
  {
   "cell_type": "code",
   "execution_count": null,
   "metadata": {},
   "outputs": [],
   "source": []
  },
  {
   "cell_type": "code",
   "execution_count": null,
   "metadata": {},
   "outputs": [],
   "source": []
  },
  {
   "cell_type": "code",
   "execution_count": null,
   "metadata": {},
   "outputs": [],
   "source": []
  },
  {
   "cell_type": "code",
   "execution_count": null,
   "metadata": {},
   "outputs": [],
   "source": []
  },
  {
   "cell_type": "code",
   "execution_count": null,
   "metadata": {},
   "outputs": [],
   "source": []
  },
  {
   "cell_type": "code",
   "execution_count": null,
   "metadata": {},
   "outputs": [],
   "source": []
  },
  {
   "cell_type": "code",
   "execution_count": null,
   "metadata": {},
   "outputs": [],
   "source": []
  },
  {
   "cell_type": "code",
   "execution_count": null,
   "metadata": {},
   "outputs": [],
   "source": []
  },
  {
   "cell_type": "markdown",
   "metadata": {},
   "source": [
    "# Trying out a few models to diagnose any preprocessing issues"
   ]
  },
  {
   "cell_type": "markdown",
   "metadata": {},
   "source": [
    "### Preprocessing for Tree-based models (though, at the end, I do run a logistic model below, just because I had it ready to go)"
   ]
  },
  {
   "cell_type": "code",
   "execution_count": 236,
   "metadata": {
    "execution": {
     "iopub.execute_input": "2022-01-26T02:24:02.580072Z",
     "iopub.status.busy": "2022-01-26T02:24:02.579807Z",
     "iopub.status.idle": "2022-01-26T02:24:02.584883Z",
     "shell.execute_reply": "2022-01-26T02:24:02.583709Z",
     "shell.execute_reply.started": "2022-01-26T02:24:02.580046Z"
    }
   },
   "outputs": [],
   "source": [
    "ord_num_columns = ['h1n1_concern', 'h1n1_knowledge', 'opinion_h1n1_vacc_effective', 'opinion_h1n1_risk', 'opinion_h1n1_sick_from_vacc', 'opinion_seas_vacc_effective', 'opinion_seas_risk', 'opinion_seas_sick_from_vacc', 'household_adults', 'household_children']\n",
    "ord_obj_columns = ['age_group', 'education', 'income_poverty']\n",
    "cat_only_columns = ['race', 'sex', 'marital_status', 'rent_or_own', 'employment_status', 'hhs_geo_region', 'census_msa', 'employment_industry', 'employment_occupation', 'health_insurance']"
   ]
  },
  {
   "cell_type": "code",
   "execution_count": 237,
   "metadata": {
    "execution": {
     "iopub.execute_input": "2022-01-26T02:24:02.950491Z",
     "iopub.status.busy": "2022-01-26T02:24:02.950130Z",
     "iopub.status.idle": "2022-01-26T02:24:02.973414Z",
     "shell.execute_reply": "2022-01-26T02:24:02.972059Z",
     "shell.execute_reply.started": "2022-01-26T02:24:02.950453Z"
    }
   },
   "outputs": [
    {
     "name": "stdout",
     "output_type": "stream",
     "text": [
      "65+ Years        6843\n",
      "55 - 64 Years    5563\n",
      "45 - 54 Years    5238\n",
      "18 - 34 Years    5215\n",
      "35 - 44 Years    3848\n",
      "Name: age_group, dtype: int64\n",
      "College Graduate    10097\n",
      "Some College         7043\n",
      "12 Years             5797\n",
      "< 12 Years           2363\n",
      "Name: education, dtype: int64\n",
      "<= $75,000, Above Poverty    12777\n",
      "> $75,000                     6810\n",
      "Below Poverty                 2697\n",
      "Name: income_poverty, dtype: int64\n"
     ]
    }
   ],
   "source": [
    "for column in ord_obj_columns:\n",
    "    print(X[column].value_counts())"
   ]
  },
  {
   "cell_type": "code",
   "execution_count": 238,
   "metadata": {
    "execution": {
     "iopub.execute_input": "2022-01-26T02:24:03.368841Z",
     "iopub.status.busy": "2022-01-26T02:24:03.368427Z",
     "iopub.status.idle": "2022-01-26T02:24:03.379461Z",
     "shell.execute_reply": "2022-01-26T02:24:03.378043Z",
     "shell.execute_reply.started": "2022-01-26T02:24:03.368795Z"
    }
   },
   "outputs": [],
   "source": [
    "def ord_obj_as_num(df):\n",
    "    \n",
    "    \"\"\"\n",
    "    This function takes a dataframe and encodes some of the\n",
    "    categorical variables as numerical, according to a pre-defined\n",
    "    list of values. This operation is in place.\n",
    "    \"\"\"\n",
    "\n",
    "    age_group = ['18 - 34 Years', '35 - 44 Years', '45 - 54 Years', '55 - 64 Years', '65+ Years']\n",
    "    education = ['< 12 Years', '12 Years', 'Some College', 'College Graduate']\n",
    "    income_poverty = ['Below Poverty', '<= $75,000, Above Poverty', '> $75,000']\n",
    "\n",
    "    values_dict = {'age_group': age_group, 'education': education, 'income_poverty': income_poverty}\n",
    "\n",
    "    for column_name, values_list in values_dict.items():    \n",
    "        for num, value in enumerate(values_list):\n",
    "            df.loc[df[column_name] == value, column_name] = int(num)\n",
    "        df[column_name] = df[column_name].astype(int)"
   ]
  },
  {
   "cell_type": "code",
   "execution_count": 239,
   "metadata": {
    "execution": {
     "iopub.execute_input": "2022-01-26T02:24:04.918957Z",
     "iopub.status.busy": "2022-01-26T02:24:04.917797Z",
     "iopub.status.idle": "2022-01-26T02:24:06.681244Z",
     "shell.execute_reply": "2022-01-26T02:24:06.679139Z",
     "shell.execute_reply.started": "2022-01-26T02:24:04.918832Z"
    }
   },
   "outputs": [],
   "source": [
    "imputer = SimpleImputer(missing_values=np.nan, strategy='most_frequent')\n",
    "\n",
    "imputer.fit(X_train)\n",
    "\n",
    "X_train_imp = pd.DataFrame(imputer.transform(X_train), columns=X_train.columns, index=X_train.index)\n",
    "X_test_imp = pd.DataFrame(imputer.transform(X_test), columns=X_test.columns, index=X_test.index)"
   ]
  },
  {
   "cell_type": "code",
   "execution_count": 240,
   "metadata": {
    "execution": {
     "iopub.execute_input": "2022-01-26T02:24:06.684656Z",
     "iopub.status.busy": "2022-01-26T02:24:06.684221Z",
     "iopub.status.idle": "2022-01-26T02:24:06.787485Z",
     "shell.execute_reply": "2022-01-26T02:24:06.786769Z",
     "shell.execute_reply.started": "2022-01-26T02:24:06.684608Z"
    }
   },
   "outputs": [],
   "source": [
    "ord_obj_as_num(X_train_imp)\n",
    "ord_obj_as_num(X_test_imp)"
   ]
  },
  {
   "cell_type": "markdown",
   "metadata": {},
   "source": [
    "### minmax"
   ]
  },
  {
   "cell_type": "code",
   "execution_count": 241,
   "metadata": {
    "execution": {
     "iopub.execute_input": "2022-01-26T02:24:06.789180Z",
     "iopub.status.busy": "2022-01-26T02:24:06.788835Z",
     "iopub.status.idle": "2022-01-26T02:24:06.819410Z",
     "shell.execute_reply": "2022-01-26T02:24:06.818628Z",
     "shell.execute_reply.started": "2022-01-26T02:24:06.789152Z"
    }
   },
   "outputs": [],
   "source": [
    "X_train_num = X_train_imp.drop(cat_only_columns, axis=1)\n",
    "X_test_num = X_test_imp.drop(cat_only_columns, axis=1)"
   ]
  },
  {
   "cell_type": "code",
   "execution_count": 242,
   "metadata": {
    "execution": {
     "iopub.execute_input": "2022-01-26T02:24:06.821232Z",
     "iopub.status.busy": "2022-01-26T02:24:06.820871Z",
     "iopub.status.idle": "2022-01-26T02:24:06.925460Z",
     "shell.execute_reply": "2022-01-26T02:24:06.924314Z",
     "shell.execute_reply.started": "2022-01-26T02:24:06.821188Z"
    }
   },
   "outputs": [],
   "source": [
    "minmax = MinMaxScaler()\n",
    "\n",
    "X_train_scaled = pd.DataFrame(minmax.fit_transform(X_train_num), columns=X_train_num.columns, index=X_train_num.index)\n",
    "X_test_scaled = pd.DataFrame(minmax.transform(X_test_num), columns=X_test_num.columns, index=X_test_num.index)"
   ]
  },
  {
   "cell_type": "code",
   "execution_count": 243,
   "metadata": {
    "execution": {
     "iopub.execute_input": "2022-01-26T02:24:06.926782Z",
     "iopub.status.busy": "2022-01-26T02:24:06.926573Z",
     "iopub.status.idle": "2022-01-26T02:24:07.028725Z",
     "shell.execute_reply": "2022-01-26T02:24:07.027887Z",
     "shell.execute_reply.started": "2022-01-26T02:24:06.926758Z"
    }
   },
   "outputs": [],
   "source": [
    "X_train_obj = X_train_imp[cat_only_columns]\n",
    "X_test_obj = X_test_imp[cat_only_columns]\n",
    "\n",
    "ohe = OneHotEncoder(categories=\"auto\", handle_unknown=\"ignore\", sparse=False)\n",
    "\n",
    "X_train_ohe = pd.DataFrame(ohe.fit_transform(X_train_obj), columns=ohe.get_feature_names(), index=X_train_obj.index)\n",
    "X_test_ohe = pd.DataFrame(ohe.transform(X_test_obj), columns=ohe.get_feature_names(), index=X_test_obj.index)"
   ]
  },
  {
   "cell_type": "code",
   "execution_count": 244,
   "metadata": {
    "execution": {
     "iopub.execute_input": "2022-01-26T02:24:07.401287Z",
     "iopub.status.busy": "2022-01-26T02:24:07.400009Z",
     "iopub.status.idle": "2022-01-26T02:24:07.449471Z",
     "shell.execute_reply": "2022-01-26T02:24:07.448231Z",
     "shell.execute_reply.started": "2022-01-26T02:24:07.401135Z"
    }
   },
   "outputs": [],
   "source": [
    "X_train_clean = pd.concat([X_train_scaled, X_train_ohe], axis=1)\n",
    "X_test_clean = pd.concat([X_test_scaled, X_test_ohe], axis=1)"
   ]
  },
  {
   "cell_type": "code",
   "execution_count": 245,
   "metadata": {
    "execution": {
     "iopub.execute_input": "2022-01-26T02:24:08.133319Z",
     "iopub.status.busy": "2022-01-26T02:24:08.133040Z",
     "iopub.status.idle": "2022-01-26T02:24:11.059772Z",
     "shell.execute_reply": "2022-01-26T02:24:11.058854Z",
     "shell.execute_reply.started": "2022-01-26T02:24:08.133291Z"
    }
   },
   "outputs": [],
   "source": [
    "log_reg_h1n1 = LogisticRegression(max_iter=1000)\n",
    "log_reg_ssnl = LogisticRegression(max_iter=1000)\n",
    "\n",
    "log_reg_h1n1.fit(X_train_clean, y_train_h1n1)\n",
    "log_reg_ssnl.fit(X_train_clean, y_train_ssnl);"
   ]
  },
  {
   "cell_type": "markdown",
   "metadata": {},
   "source": [
    "### Now we'll score it and plot a confusion matrix"
   ]
  },
  {
   "cell_type": "code",
   "execution_count": 246,
   "metadata": {
    "execution": {
     "iopub.execute_input": "2022-01-26T02:24:53.754949Z",
     "iopub.status.busy": "2022-01-26T02:24:53.754670Z",
     "iopub.status.idle": "2022-01-26T02:24:53.791530Z",
     "shell.execute_reply": "2022-01-26T02:24:53.787914Z",
     "shell.execute_reply.started": "2022-01-26T02:24:53.754916Z"
    }
   },
   "outputs": [],
   "source": [
    "y_hat_h1n1 = log_reg_h1n1.predict(X_test_clean)\n",
    "y_hat_ssnl = log_reg_ssnl.predict(X_test_clean)\n",
    "\n",
    "y_proba_h1n1 = log_reg_h1n1.predict_proba(X_test_clean)\n",
    "y_proba_ssnl = log_reg_ssnl.predict_proba(X_test_clean)"
   ]
  },
  {
   "cell_type": "code",
   "execution_count": 248,
   "metadata": {
    "execution": {
     "iopub.execute_input": "2022-01-26T02:25:15.653590Z",
     "iopub.status.busy": "2022-01-26T02:25:15.653166Z",
     "iopub.status.idle": "2022-01-26T02:25:16.092455Z",
     "shell.execute_reply": "2022-01-26T02:25:16.091465Z",
     "shell.execute_reply.started": "2022-01-26T02:25:15.653541Z"
    }
   },
   "outputs": [
    {
     "name": "stdout",
     "output_type": "stream",
     "text": [
      "Recall for H1N1:    0.42555066079295156\n",
      "Recall for Seasonal Flu:    0.7422222222222222\n",
      "\n",
      "Precision for H1N1: 0.6764705882352942\n",
      "Precision for Seasonal Flu: 0.7673350041771094\n",
      "\n",
      "Accuracy for H1N1:  0.8347061025833021\n",
      "Accuracy for Seasonal Flu:  0.7763010108573568\n",
      "\n",
      "F1 score for H1N1:  0.5224445646295295\n",
      "F1 score for Seasonal Flu:  0.7545697268432942\n",
      "\n",
      "AUROC for H1N1:     0.8379208556328921\n",
      "AUROC for Seasonal Flu:     0.8502034647134054\n"
     ]
    },
    {
     "data": {
      "image/png": "[encoded data removed]",
      "text/plain": [
       "<Figure size 1152x432 with 2 Axes>"
      ]
     },
     "metadata": {
      "needs_background": "light"
     },
     "output_type": "display_data"
    }
   ],
   "source": [
    "all_metrics([y_test_h1n1, y_test_ssnl], [y_hat_h1n1, y_hat_ssnl], [y_proba_h1n1, y_proba_ssnl], model_name=['H1N1','Seasonal Flu'])"
   ]
  },
  {
   "cell_type": "code",
   "execution_count": null,
   "metadata": {},
   "outputs": [],
   "source": []
  },
  {
   "cell_type": "code",
   "execution_count": null,
   "metadata": {},
   "outputs": [],
   "source": []
  },
  {
   "cell_type": "code",
   "execution_count": null,
   "metadata": {},
   "outputs": [],
   "source": []
  },
  {
   "cell_type": "code",
   "execution_count": null,
   "metadata": {},
   "outputs": [],
   "source": []
  },
  {
   "cell_type": "code",
   "execution_count": null,
   "metadata": {},
   "outputs": [],
   "source": []
  },
  {
   "cell_type": "code",
   "execution_count": null,
   "metadata": {},
   "outputs": [],
   "source": []
  },
  {
   "cell_type": "markdown",
   "metadata": {},
   "source": [
    "# Logistic Regression, no tuning, dataset is fully OHE"
   ]
  },
  {
   "cell_type": "markdown",
   "metadata": {},
   "source": [
    "### Simple Imputer"
   ]
  },
  {
   "cell_type": "code",
   "execution_count": 58,
   "metadata": {
    "execution": {
     "iopub.execute_input": "2022-01-26T04:12:40.399182Z",
     "iopub.status.busy": "2022-01-26T04:12:40.398785Z",
     "iopub.status.idle": "2022-01-26T04:12:42.217446Z",
     "shell.execute_reply": "2022-01-26T04:12:42.216665Z",
     "shell.execute_reply.started": "2022-01-26T04:12:40.399140Z"
    }
   },
   "outputs": [],
   "source": [
    "imputer = SimpleImputer(missing_values=np.nan, strategy='most_frequent')\n",
    "\n",
    "imputer.fit(X_train)\n",
    "\n",
    "X_train_imp = pd.DataFrame(imputer.transform(X_train), columns=X_train.columns, index=X_train.index)\n",
    "X_test_imp = pd.DataFrame(imputer.transform(X_test), columns=X_test.columns, index=X_test.index)"
   ]
  },
  {
   "cell_type": "markdown",
   "metadata": {},
   "source": [
    "### One Hot Encoder"
   ]
  },
  {
   "cell_type": "code",
   "execution_count": 59,
   "metadata": {
    "execution": {
     "iopub.execute_input": "2022-01-26T04:12:42.218788Z",
     "iopub.status.busy": "2022-01-26T04:12:42.218502Z",
     "iopub.status.idle": "2022-01-26T04:12:42.642081Z",
     "shell.execute_reply": "2022-01-26T04:12:42.640934Z",
     "shell.execute_reply.started": "2022-01-26T04:12:42.218741Z"
    }
   },
   "outputs": [],
   "source": [
    "X_train_obj = X_train_imp\n",
    "X_test_obj = X_test_imp\n",
    "\n",
    "ohe = OneHotEncoder(categories=\"auto\", handle_unknown=\"ignore\", sparse=False)\n",
    "\n",
    "X_train_ohe = pd.DataFrame(ohe.fit_transform(X_train_obj), columns=ohe.get_feature_names(), index=X_train_obj.index)\n",
    "X_test_ohe = pd.DataFrame(ohe.transform(X_test_obj), columns=ohe.get_feature_names(), index=X_test_obj.index)\n",
    "\n",
    "X_train_ohe = pd.concat([X_train_imp[numeric_columns], X_train_ohe], axis=1)\n",
    "X_test_ohe = pd.concat([X_test_imp[numeric_columns], X_test_ohe], axis=1)"
   ]
  },
  {
   "cell_type": "markdown",
   "metadata": {},
   "source": [
    "### Standard Scaler"
   ]
  },
  {
   "cell_type": "markdown",
   "metadata": {},
   "source": [
    "## Fitting the model\n",
    "\n",
    "There is a class called MultiOutputClassifier that we could use here that would run regressions for both class labels at the same time, but, even though it's convenient for training, it can be slightly less convenient for scoring and analyzing, so for every model we fit for the H1N1 vaccine, we'll fit a second model for the seasonal flu vaccine as well."
   ]
  },
  {
   "cell_type": "code",
   "execution_count": 60,
   "metadata": {
    "execution": {
     "iopub.execute_input": "2022-01-26T04:12:42.644497Z",
     "iopub.status.busy": "2022-01-26T04:12:42.644072Z",
     "iopub.status.idle": "2022-01-26T04:12:56.340865Z",
     "shell.execute_reply": "2022-01-26T04:12:56.339730Z",
     "shell.execute_reply.started": "2022-01-26T04:12:42.644446Z"
    }
   },
   "outputs": [],
   "source": [
    "log_reg_h1n1 = LogisticRegression(max_iter=1000)\n",
    "log_reg_ssnl = LogisticRegression(max_iter=1000)\n",
    "\n",
    "log_reg_h1n1.fit(X_train_ohe, y_train_h1n1)\n",
    "log_reg_ssnl.fit(X_train_ohe, y_train_ssnl);"
   ]
  },
  {
   "cell_type": "markdown",
   "metadata": {},
   "source": [
    "### Now we'll score it and plot a confusion matrix"
   ]
  },
  {
   "cell_type": "code",
   "execution_count": 61,
   "metadata": {
    "execution": {
     "iopub.execute_input": "2022-01-26T04:12:56.343506Z",
     "iopub.status.busy": "2022-01-26T04:12:56.342946Z",
     "iopub.status.idle": "2022-01-26T04:12:56.824383Z",
     "shell.execute_reply": "2022-01-26T04:12:56.822923Z",
     "shell.execute_reply.started": "2022-01-26T04:12:56.343463Z"
    }
   },
   "outputs": [],
   "source": [
    "y_hat_h1n1 = log_reg_h1n1.predict(X_test_ohe)\n",
    "y_hat_ssnl = log_reg_ssnl.predict(X_test_ohe)\n",
    "\n",
    "\n",
    "y_proba_h1n1 = log_reg_h1n1.predict_proba(X_test_ohe)\n",
    "y_proba_ssnl = log_reg_ssnl.predict_proba(X_test_ohe)"
   ]
  },
  {
   "cell_type": "code",
   "execution_count": 62,
   "metadata": {
    "execution": {
     "iopub.execute_input": "2022-01-26T04:12:56.827922Z",
     "iopub.status.busy": "2022-01-26T04:12:56.827378Z",
     "iopub.status.idle": "2022-01-26T04:12:57.383189Z",
     "shell.execute_reply": "2022-01-26T04:12:57.382083Z",
     "shell.execute_reply.started": "2022-01-26T04:12:56.827869Z"
    }
   },
   "outputs": [
    {
     "name": "stdout",
     "output_type": "stream",
     "text": [
      "Recall for H1N1:    0.43083700440528633\n",
      "Recall for Seasonal Flu:    0.7470707070707071\n",
      "\n",
      "Precision for H1N1: 0.6735537190082644\n",
      "Precision for Seasonal Flu: 0.7707378074197583\n",
      "\n",
      "Accuracy for H1N1:  0.8347061025833021\n",
      "Accuracy for Seasonal Flu:  0.7798577311868214\n",
      "\n",
      "F1 score for H1N1:  0.5255239118753358\n",
      "F1 score for Seasonal Flu:  0.7587197373820271\n",
      "\n",
      "AUROC for H1N1:     0.8400664300845351\n",
      "AUROC for Seasonal Flu:     0.8549372342187131\n"
     ]
    },
    {
     "data": {
      "image/png": "[encoded data removed]",
      "text/plain": [
       "<Figure size 1152x432 with 2 Axes>"
      ]
     },
     "metadata": {
      "needs_background": "light"
     },
     "output_type": "display_data"
    }
   ],
   "source": [
    "all_metrics([y_test_h1n1, y_test_ssnl], [y_hat_h1n1, y_hat_ssnl], [y_proba_h1n1, y_proba_ssnl], model_name=['H1N1','Seasonal Flu'])"
   ]
  },
  {
   "cell_type": "markdown",
   "metadata": {},
   "source": [
    "### Submitting this score to the competition, to guage our low-performing models"
   ]
  },
  {
   "cell_type": "code",
   "execution_count": 63,
   "metadata": {
    "execution": {
     "iopub.execute_input": "2022-01-26T04:14:01.417816Z",
     "iopub.status.busy": "2022-01-26T04:14:01.416118Z",
     "iopub.status.idle": "2022-01-26T04:14:01.482838Z",
     "shell.execute_reply": "2022-01-26T04:14:01.481909Z",
     "shell.execute_reply.started": "2022-01-26T04:14:01.417610Z"
    }
   },
   "outputs": [],
   "source": [
    "submission_df = pd.read_csv('data/submission_format.csv', \n",
    "                            index_col=\"respondent_id\")"
   ]
  },
  {
   "cell_type": "code",
   "execution_count": 69,
   "metadata": {
    "execution": {
     "iopub.execute_input": "2022-01-26T04:19:10.553869Z",
     "iopub.status.busy": "2022-01-26T04:19:10.553340Z",
     "iopub.status.idle": "2022-01-26T04:19:10.561399Z",
     "shell.execute_reply": "2022-01-26T04:19:10.559041Z",
     "shell.execute_reply.started": "2022-01-26T04:19:10.553823Z"
    }
   },
   "outputs": [],
   "source": [
    "np.testing.assert_array_equal(X_test_comp.index.values, \n",
    "                              submission_df.index.values)"
   ]
  },
  {
   "cell_type": "code",
   "execution_count": 71,
   "metadata": {
    "execution": {
     "iopub.execute_input": "2022-01-26T04:20:48.296297Z",
     "iopub.status.busy": "2022-01-26T04:20:48.295767Z",
     "iopub.status.idle": "2022-01-26T04:20:50.138735Z",
     "shell.execute_reply": "2022-01-26T04:20:50.137811Z",
     "shell.execute_reply.started": "2022-01-26T04:20:48.296234Z"
    }
   },
   "outputs": [],
   "source": [
    "imputer = SimpleImputer(missing_values=np.nan, strategy='most_frequent')\n",
    "\n",
    "imputer.fit(X_train)\n",
    "\n",
    "X_test_imp_comp = pd.DataFrame(imputer.transform(X_test_comp), columns=X_test_comp.columns, index=X_test_comp.index)"
   ]
  },
  {
   "cell_type": "code",
   "execution_count": 73,
   "metadata": {
    "execution": {
     "iopub.execute_input": "2022-01-26T04:22:33.200696Z",
     "iopub.status.busy": "2022-01-26T04:22:33.200107Z",
     "iopub.status.idle": "2022-01-26T04:22:33.634557Z",
     "shell.execute_reply": "2022-01-26T04:22:33.633512Z",
     "shell.execute_reply.started": "2022-01-26T04:22:33.200627Z"
    }
   },
   "outputs": [],
   "source": [
    "X_test_obj_comp = X_test_imp_comp\n",
    "\n",
    "ohe = OneHotEncoder(categories=\"auto\", handle_unknown=\"ignore\", sparse=False)\n",
    "\n",
    "X_test_ohe_comp = pd.DataFrame(ohe.fit_transform(X_test_obj_comp), columns=ohe.get_feature_names(), index=X_test_obj_comp.index)\n",
    "\n",
    "X_test_ohe_comp = pd.concat([X_test_imp_comp[numeric_columns], X_test_ohe_comp], axis=1)"
   ]
  },
  {
   "cell_type": "code",
   "execution_count": 75,
   "metadata": {
    "execution": {
     "iopub.execute_input": "2022-01-26T04:22:47.407430Z",
     "iopub.status.busy": "2022-01-26T04:22:47.406521Z",
     "iopub.status.idle": "2022-01-26T04:22:48.166325Z",
     "shell.execute_reply": "2022-01-26T04:22:48.165260Z",
     "shell.execute_reply.started": "2022-01-26T04:22:47.407318Z"
    }
   },
   "outputs": [],
   "source": [
    "y_proba_h1n1_comp = log_reg_h1n1.predict_proba(X_test_ohe_comp)\n",
    "y_proba_ssnl_comp = log_reg_ssnl.predict_proba(X_test_ohe_comp)"
   ]
  },
  {
   "cell_type": "code",
   "execution_count": 76,
   "metadata": {
    "execution": {
     "iopub.execute_input": "2022-01-26T04:25:05.278925Z",
     "iopub.status.busy": "2022-01-26T04:25:05.278201Z",
     "iopub.status.idle": "2022-01-26T04:25:05.307790Z",
     "shell.execute_reply": "2022-01-26T04:25:05.306486Z",
     "shell.execute_reply.started": "2022-01-26T04:25:05.278854Z"
    }
   },
   "outputs": [
    {
     "data": {
      "text/html": [
       "<div>\n",
       "<style scoped>\n",
       "    .dataframe tbody tr th:only-of-type {\n",
       "        vertical-align: middle;\n",
       "    }\n",
       "\n",
       "    .dataframe tbody tr th {\n",
       "        vertical-align: top;\n",
       "    }\n",
       "\n",
       "    .dataframe thead th {\n",
       "        text-align: right;\n",
       "    }\n",
       "</style>\n",
       "<table border=\"1\" class=\"dataframe\">\n",
       "  <thead>\n",
       "    <tr style=\"text-align: right;\">\n",
       "      <th></th>\n",
       "      <th>h1n1_vaccine</th>\n",
       "      <th>seasonal_vaccine</th>\n",
       "    </tr>\n",
       "    <tr>\n",
       "      <th>respondent_id</th>\n",
       "      <th></th>\n",
       "      <th></th>\n",
       "    </tr>\n",
       "  </thead>\n",
       "  <tbody>\n",
       "    <tr>\n",
       "      <th>26707</th>\n",
       "      <td>0.063167</td>\n",
       "      <td>0.318644</td>\n",
       "    </tr>\n",
       "    <tr>\n",
       "      <th>26708</th>\n",
       "      <td>0.037067</td>\n",
       "      <td>0.031498</td>\n",
       "    </tr>\n",
       "    <tr>\n",
       "      <th>26709</th>\n",
       "      <td>0.396263</td>\n",
       "      <td>0.732449</td>\n",
       "    </tr>\n",
       "    <tr>\n",
       "      <th>26710</th>\n",
       "      <td>0.447803</td>\n",
       "      <td>0.846152</td>\n",
       "    </tr>\n",
       "    <tr>\n",
       "      <th>26711</th>\n",
       "      <td>0.206356</td>\n",
       "      <td>0.337308</td>\n",
       "    </tr>\n",
       "  </tbody>\n",
       "</table>\n",
       "</div>"
      ],
      "text/plain": [
       "               h1n1_vaccine  seasonal_vaccine\n",
       "respondent_id                                \n",
       "26707              0.063167          0.318644\n",
       "26708              0.037067          0.031498\n",
       "26709              0.396263          0.732449\n",
       "26710              0.447803          0.846152\n",
       "26711              0.206356          0.337308"
      ]
     },
     "execution_count": 76,
     "metadata": {},
     "output_type": "execute_result"
    }
   ],
   "source": [
    "submission_df[\"h1n1_vaccine\"] = y_proba_h1n1_comp[:, 1]\n",
    "submission_df[\"seasonal_vaccine\"] = y_proba_ssnl_comp[:, 1]\n",
    "\n",
    "submission_df.head()"
   ]
  },
  {
   "cell_type": "code",
   "execution_count": 77,
   "metadata": {
    "execution": {
     "iopub.execute_input": "2022-01-26T04:25:30.802033Z",
     "iopub.status.busy": "2022-01-26T04:25:30.800498Z",
     "iopub.status.idle": "2022-01-26T04:25:30.993725Z",
     "shell.execute_reply": "2022-01-26T04:25:30.992896Z",
     "shell.execute_reply.started": "2022-01-26T04:25:30.801861Z"
    }
   },
   "outputs": [],
   "source": [
    "submission_df.to_csv('data/my_submission.csv', index=True)"
   ]
  },
  {
   "cell_type": "code",
   "execution_count": 79,
   "metadata": {
    "execution": {
     "iopub.execute_input": "2022-01-26T04:25:39.009860Z",
     "iopub.status.busy": "2022-01-26T04:25:39.009383Z",
     "iopub.status.idle": "2022-01-26T04:25:39.165586Z",
     "shell.execute_reply": "2022-01-26T04:25:39.154838Z",
     "shell.execute_reply.started": "2022-01-26T04:25:39.009801Z"
    }
   },
   "outputs": [
    {
     "name": "stdout",
     "output_type": "stream",
     "text": [
      "respondent_id,h1n1_vaccine,seasonal_vaccine\n",
      "26707,0.06316673777509094,0.318644409195383\n",
      "26708,0.0370669600357851,0.031498393319783935\n",
      "26709,0.3962627864645949,0.7324491781802666\n",
      "26710,0.44780272545585964,0.8461520789716166\n",
      "26711,0.20635633316102836,0.33730823058077625\n",
      "26712,0.4879251639827327,0.9455146388294033\n",
      "26713,0.40716808436658614,0.5698070576015274\n",
      "26714,0.10365816878055854,0.18773172753498987\n",
      "26715,0.05173101047121089,0.16419234936578309\n"
     ]
    }
   ],
   "source": [
    "!head data/my_submission.csv"
   ]
  },
  {
   "cell_type": "code",
   "execution_count": null,
   "metadata": {},
   "outputs": [],
   "source": []
  },
  {
   "cell_type": "code",
   "execution_count": null,
   "metadata": {},
   "outputs": [],
   "source": []
  },
  {
   "cell_type": "code",
   "execution_count": null,
   "metadata": {},
   "outputs": [],
   "source": []
  },
  {
   "cell_type": "code",
   "execution_count": null,
   "metadata": {},
   "outputs": [],
   "source": []
  },
  {
   "cell_type": "code",
   "execution_count": null,
   "metadata": {},
   "outputs": [],
   "source": []
  },
  {
   "cell_type": "code",
   "execution_count": null,
   "metadata": {},
   "outputs": [],
   "source": []
  },
  {
   "cell_type": "markdown",
   "metadata": {},
   "source": [
    "### One more model - just numeric columns - competition baseline"
   ]
  },
  {
   "cell_type": "code",
   "execution_count": 257,
   "metadata": {
    "execution": {
     "iopub.execute_input": "2022-01-26T02:28:43.287819Z",
     "iopub.status.busy": "2022-01-26T02:28:43.287512Z",
     "iopub.status.idle": "2022-01-26T02:28:43.500252Z",
     "shell.execute_reply": "2022-01-26T02:28:43.499462Z",
     "shell.execute_reply.started": "2022-01-26T02:28:43.287785Z"
    }
   },
   "outputs": [],
   "source": [
    "X_train, X_test, y_train, y_test = train_test_split(X, y, test_size=0.33, shuffle=True, stratify=y, random_state=random_state)"
   ]
  },
  {
   "cell_type": "code",
   "execution_count": 258,
   "metadata": {
    "execution": {
     "iopub.execute_input": "2022-01-26T02:28:43.631888Z",
     "iopub.status.busy": "2022-01-26T02:28:43.631248Z",
     "iopub.status.idle": "2022-01-26T02:28:43.646265Z",
     "shell.execute_reply": "2022-01-26T02:28:43.643976Z",
     "shell.execute_reply.started": "2022-01-26T02:28:43.631822Z"
    }
   },
   "outputs": [],
   "source": [
    "y_train_h1n1 = y_train.iloc[:,0]\n",
    "y_train_ssnl =y_train.iloc[:,1]\n",
    "\n",
    "y_test_h1n1 = y_test.iloc[:,0]\n",
    "y_test_ssnl =y_test.iloc[:,1]"
   ]
  },
  {
   "cell_type": "code",
   "execution_count": 259,
   "metadata": {
    "execution": {
     "iopub.execute_input": "2022-01-26T02:28:44.794927Z",
     "iopub.status.busy": "2022-01-26T02:28:44.794256Z",
     "iopub.status.idle": "2022-01-26T02:28:44.804967Z",
     "shell.execute_reply": "2022-01-26T02:28:44.802489Z",
     "shell.execute_reply.started": "2022-01-26T02:28:44.794857Z"
    }
   },
   "outputs": [],
   "source": [
    "numeric_columns = list(X.columns[X.dtypes == 'float64'].values)"
   ]
  },
  {
   "cell_type": "code",
   "execution_count": 260,
   "metadata": {
    "execution": {
     "iopub.execute_input": "2022-01-26T02:28:45.154450Z",
     "iopub.status.busy": "2022-01-26T02:28:45.151963Z",
     "iopub.status.idle": "2022-01-26T02:28:45.180167Z",
     "shell.execute_reply": "2022-01-26T02:28:45.177559Z",
     "shell.execute_reply.started": "2022-01-26T02:28:45.154223Z"
    }
   },
   "outputs": [],
   "source": [
    "X_train_reduced = X_train[numeric_columns]\n",
    "X_test_reduced = X_test[numeric_columns]"
   ]
  },
  {
   "cell_type": "code",
   "execution_count": 261,
   "metadata": {
    "execution": {
     "iopub.execute_input": "2022-01-26T02:28:47.523552Z",
     "iopub.status.busy": "2022-01-26T02:28:47.522810Z",
     "iopub.status.idle": "2022-01-26T02:28:47.554811Z",
     "shell.execute_reply": "2022-01-26T02:28:47.554064Z",
     "shell.execute_reply.started": "2022-01-26T02:28:47.523425Z"
    }
   },
   "outputs": [],
   "source": [
    "ss = StandardScaler()\n",
    "\n",
    "X_train_scaled = pd.DataFrame(ss.fit_transform(X_train_reduced), columns=X_train_reduced.columns, index=X_train_reduced.index)\n",
    "X_test_scaled = pd.DataFrame(ss.transform(X_test_reduced), columns=X_test_reduced.columns, index=X_test_reduced.index)"
   ]
  },
  {
   "cell_type": "code",
   "execution_count": 262,
   "metadata": {
    "execution": {
     "iopub.execute_input": "2022-01-26T02:28:48.143864Z",
     "iopub.status.busy": "2022-01-26T02:28:48.143600Z",
     "iopub.status.idle": "2022-01-26T02:28:48.195178Z",
     "shell.execute_reply": "2022-01-26T02:28:48.194428Z",
     "shell.execute_reply.started": "2022-01-26T02:28:48.143835Z"
    }
   },
   "outputs": [],
   "source": [
    "imputer = SimpleImputer(missing_values=np.nan, strategy='median')\n",
    "\n",
    "imputer.fit(X_train_reduced)\n",
    "\n",
    "X_train_imp = pd.DataFrame(imputer.transform(X_train_scaled), columns=X_train_scaled.columns, index=X_train_scaled.index)\n",
    "X_test_imp = pd.DataFrame(imputer.transform(X_test_scaled), columns=X_test_scaled.columns, index=X_test_scaled.index)"
   ]
  },
  {
   "cell_type": "code",
   "execution_count": 263,
   "metadata": {
    "execution": {
     "iopub.execute_input": "2022-01-26T02:28:49.913738Z",
     "iopub.status.busy": "2022-01-26T02:28:49.912671Z",
     "iopub.status.idle": "2022-01-26T02:28:50.083923Z",
     "shell.execute_reply": "2022-01-26T02:28:50.082874Z",
     "shell.execute_reply.started": "2022-01-26T02:28:49.913619Z"
    }
   },
   "outputs": [
    {
     "name": "stdout",
     "output_type": "stream",
     "text": [
      "CPU times: user 276 ms, sys: 177 ms, total: 453 ms\n",
      "Wall time: 153 ms\n"
     ]
    },
    {
     "data": {
      "text/plain": [
       "LogisticRegression(C=1)"
      ]
     },
     "execution_count": 263,
     "metadata": {},
     "output_type": "execute_result"
    }
   ],
   "source": [
    "%%time\n",
    "\n",
    "log_reg_h1n1 = LogisticRegression(penalty=\"l2\", C=1)\n",
    "log_reg_ssnl = LogisticRegression(penalty=\"l2\", C=1)\n",
    "\n",
    "log_reg_h1n1.fit(X_train_imp, y_train_h1n1)\n",
    "log_reg_ssnl.fit(X_train_imp, y_train_ssnl);"
   ]
  },
  {
   "cell_type": "markdown",
   "metadata": {},
   "source": [
    "### Now we'll score it and plot a confusion matrix"
   ]
  },
  {
   "cell_type": "code",
   "execution_count": 266,
   "metadata": {
    "execution": {
     "iopub.execute_input": "2022-01-26T02:30:16.497049Z",
     "iopub.status.busy": "2022-01-26T02:30:16.496758Z",
     "iopub.status.idle": "2022-01-26T02:30:16.566881Z",
     "shell.execute_reply": "2022-01-26T02:30:16.565068Z",
     "shell.execute_reply.started": "2022-01-26T02:30:16.497019Z"
    }
   },
   "outputs": [],
   "source": [
    "y_hat_h1n1 = log_reg_h1n1.predict(X_test_imp)\n",
    "y_hat_ssnl = log_reg_ssnl.predict(X_test_imp)\n",
    "\n",
    "y_proba_h1n1 = log_reg_h1n1.predict_proba(X_test_imp)\n",
    "y_proba_ssnl = log_reg_ssnl.predict_proba(X_test_imp)"
   ]
  },
  {
   "cell_type": "code",
   "execution_count": 267,
   "metadata": {
    "execution": {
     "iopub.execute_input": "2022-01-26T02:30:16.923981Z",
     "iopub.status.busy": "2022-01-26T02:30:16.922885Z",
     "iopub.status.idle": "2022-01-26T02:30:17.405134Z",
     "shell.execute_reply": "2022-01-26T02:30:17.404026Z",
     "shell.execute_reply.started": "2022-01-26T02:30:16.923858Z"
    }
   },
   "outputs": [
    {
     "name": "stdout",
     "output_type": "stream",
     "text": [
      "Recall for H1N1:    0.4043803418803419\n",
      "Recall for Seasonal Flu:    0.7151559454191033\n",
      "\n",
      "Precision for H1N1: 0.6503436426116839\n",
      "Precision for Seasonal Flu: 0.7458703939008895\n",
      "\n",
      "Accuracy for H1N1:  0.8273201724529158\n",
      "Accuracy for Seasonal Flu:  0.7539142273655548\n",
      "\n",
      "F1 score for H1N1:  0.49868247694334655\n",
      "F1 score for Seasonal Flu:  0.7301903221793755\n",
      "\n",
      "AUROC for H1N1:     0.8206886901112268\n",
      "AUROC for Seasonal Flu:     0.8223370964270786\n"
     ]
    },
    {
     "data": {
      "image/png": "[encoded data removed]",
      "text/plain": [
       "<Figure size 1152x432 with 2 Axes>"
      ]
     },
     "metadata": {
      "needs_background": "light"
     },
     "output_type": "display_data"
    }
   ],
   "source": [
    "all_metrics([y_test_h1n1, y_test_ssnl], [y_hat_h1n1, y_hat_ssnl], [y_proba_h1n1, y_proba_ssnl], model_name=['H1N1','Seasonal Flu'])"
   ]
  },
  {
   "cell_type": "code",
   "execution_count": null,
   "metadata": {},
   "outputs": [],
   "source": []
  },
  {
   "cell_type": "code",
   "execution_count": null,
   "metadata": {},
   "outputs": [],
   "source": []
  },
  {
   "cell_type": "code",
   "execution_count": null,
   "metadata": {},
   "outputs": [],
   "source": []
  },
  {
   "cell_type": "code",
   "execution_count": null,
   "metadata": {},
   "outputs": [],
   "source": []
  },
  {
   "cell_type": "code",
   "execution_count": null,
   "metadata": {},
   "outputs": [],
   "source": []
  },
  {
   "cell_type": "code",
   "execution_count": null,
   "metadata": {},
   "outputs": [],
   "source": []
  },
  {
   "cell_type": "code",
   "execution_count": null,
   "metadata": {},
   "outputs": [],
   "source": []
  },
  {
   "cell_type": "code",
   "execution_count": null,
   "metadata": {},
   "outputs": [],
   "source": []
  },
  {
   "cell_type": "markdown",
   "metadata": {},
   "source": [
    "# First models after getting pipeline working\n",
    "\n",
    "### Untuned Logistic Regression"
   ]
  },
  {
   "cell_type": "code",
   "execution_count": 383,
   "metadata": {
    "execution": {
     "iopub.execute_input": "2022-01-26T19:30:24.600560Z",
     "iopub.status.busy": "2022-01-26T19:30:24.600178Z",
     "iopub.status.idle": "2022-01-26T19:30:27.171303Z",
     "shell.execute_reply": "2022-01-26T19:30:27.170858Z",
     "shell.execute_reply.started": "2022-01-26T19:30:24.600523Z"
    }
   },
   "outputs": [],
   "source": [
    "linear_preprocessor.fit(X_train, y_train_h1n1)\n",
    "y_hat_h1n1 = linear_preprocessor.predict(X_test)\n",
    "y_proba_h1n1 = linear_preprocessor.predict_proba(X_test)\n",
    "y_proba_h1n1_comp = linear_preprocessor.predict_proba(X_test_comp)\n",
    "\n",
    "linear_preprocessor.fit(X_train, y_train_ssnl)\n",
    "y_hat_ssnl = linear_preprocessor.predict(X_test)\n",
    "y_proba_ssnl = linear_preprocessor.predict_proba(X_test)\n",
    "y_proba_ssnl_comp = linear_preprocessor.predict_proba(X_test_comp)"
   ]
  },
  {
   "cell_type": "code",
   "execution_count": 384,
   "metadata": {
    "execution": {
     "iopub.execute_input": "2022-01-26T19:30:30.002679Z",
     "iopub.status.busy": "2022-01-26T19:30:30.002215Z",
     "iopub.status.idle": "2022-01-26T19:30:30.271547Z",
     "shell.execute_reply": "2022-01-26T19:30:30.270757Z",
     "shell.execute_reply.started": "2022-01-26T19:30:30.002626Z"
    }
   },
   "outputs": [
    {
     "name": "stdout",
     "output_type": "stream",
     "text": [
      "Recall for H1N1:    0.5004405286343613\n",
      "Recall for Seasonal Flu:    0.7442424242424243\n",
      "\n",
      "Precision for H1N1: 0.7244897959183674\n",
      "Precision for Seasonal Flu: 0.76814011676397\n",
      "\n",
      "Accuracy for H1N1:  0.8534256832646949\n",
      "Accuracy for Seasonal Flu:  0.7774241856982403\n",
      "\n",
      "F1 score for H1N1:  0.5919749869723814\n",
      "F1 score for Seasonal Flu:  0.7560024625487379\n",
      "\n",
      "AUROC for H1N1:     0.8691042514625823\n",
      "AUROC for Seasonal Flu:     0.8564199370756748\n"
     ]
    },
    {
     "data": {
      "image/png": "[encoded data removed]",
      "text/plain": [
       "<Figure size 1152x432 with 2 Axes>"
      ]
     },
     "metadata": {
      "needs_background": "light"
     },
     "output_type": "display_data"
    }
   ],
   "source": [
    "all_metrics([y_test_h1n1, y_test_ssnl], [y_hat_h1n1, y_hat_ssnl], [y_proba_h1n1, y_proba_ssnl], ['H1N1', 'Seasonal Flu'])"
   ]
  },
  {
   "cell_type": "code",
   "execution_count": 258,
   "metadata": {
    "execution": {
     "iopub.execute_input": "2022-01-26T17:05:41.948099Z",
     "iopub.status.busy": "2022-01-26T17:05:41.947838Z",
     "iopub.status.idle": "2022-01-26T17:05:41.955896Z",
     "shell.execute_reply": "2022-01-26T17:05:41.954558Z",
     "shell.execute_reply.started": "2022-01-26T17:05:41.948069Z"
    }
   },
   "outputs": [
    {
     "data": {
      "text/plain": [
       "0.8627648187789907"
      ]
     },
     "execution_count": 258,
     "metadata": {},
     "output_type": "execute_result"
    }
   ],
   "source": [
    "(0.8691092776984864+0.8564203598594949) / 2"
   ]
  },
  {
   "cell_type": "code",
   "execution_count": 252,
   "metadata": {
    "execution": {
     "iopub.execute_input": "2022-01-26T16:55:41.097344Z",
     "iopub.status.busy": "2022-01-26T16:55:41.097060Z",
     "iopub.status.idle": "2022-01-26T16:55:41.120436Z",
     "shell.execute_reply": "2022-01-26T16:55:41.119770Z",
     "shell.execute_reply.started": "2022-01-26T16:55:41.097319Z"
    }
   },
   "outputs": [],
   "source": [
    "submission_df = pd.read_csv('data/submission_format.csv', \n",
    "                            index_col=\"respondent_id\")"
   ]
  },
  {
   "cell_type": "code",
   "execution_count": 253,
   "metadata": {
    "execution": {
     "iopub.execute_input": "2022-01-26T16:55:42.834478Z",
     "iopub.status.busy": "2022-01-26T16:55:42.834264Z",
     "iopub.status.idle": "2022-01-26T16:55:42.838253Z",
     "shell.execute_reply": "2022-01-26T16:55:42.837594Z",
     "shell.execute_reply.started": "2022-01-26T16:55:42.834453Z"
    }
   },
   "outputs": [],
   "source": [
    "np.testing.assert_array_equal(X_test_comp.index.values, \n",
    "                              submission_df.index.values)"
   ]
  },
  {
   "cell_type": "code",
   "execution_count": 254,
   "metadata": {
    "execution": {
     "iopub.execute_input": "2022-01-26T16:55:44.766370Z",
     "iopub.status.busy": "2022-01-26T16:55:44.766041Z",
     "iopub.status.idle": "2022-01-26T16:55:44.779202Z",
     "shell.execute_reply": "2022-01-26T16:55:44.778264Z",
     "shell.execute_reply.started": "2022-01-26T16:55:44.766297Z"
    }
   },
   "outputs": [
    {
     "data": {
      "text/html": [
       "<div>\n",
       "<style scoped>\n",
       "    .dataframe tbody tr th:only-of-type {\n",
       "        vertical-align: middle;\n",
       "    }\n",
       "\n",
       "    .dataframe tbody tr th {\n",
       "        vertical-align: top;\n",
       "    }\n",
       "\n",
       "    .dataframe thead th {\n",
       "        text-align: right;\n",
       "    }\n",
       "</style>\n",
       "<table border=\"1\" class=\"dataframe\">\n",
       "  <thead>\n",
       "    <tr style=\"text-align: right;\">\n",
       "      <th></th>\n",
       "      <th>h1n1_vaccine</th>\n",
       "      <th>seasonal_vaccine</th>\n",
       "    </tr>\n",
       "    <tr>\n",
       "      <th>respondent_id</th>\n",
       "      <th></th>\n",
       "      <th></th>\n",
       "    </tr>\n",
       "  </thead>\n",
       "  <tbody>\n",
       "    <tr>\n",
       "      <th>26707</th>\n",
       "      <td>0.113173</td>\n",
       "      <td>0.375069</td>\n",
       "    </tr>\n",
       "    <tr>\n",
       "      <th>26708</th>\n",
       "      <td>0.025997</td>\n",
       "      <td>0.028402</td>\n",
       "    </tr>\n",
       "    <tr>\n",
       "      <th>26709</th>\n",
       "      <td>0.244246</td>\n",
       "      <td>0.695510</td>\n",
       "    </tr>\n",
       "    <tr>\n",
       "      <th>26710</th>\n",
       "      <td>0.500280</td>\n",
       "      <td>0.859745</td>\n",
       "    </tr>\n",
       "    <tr>\n",
       "      <th>26711</th>\n",
       "      <td>0.322239</td>\n",
       "      <td>0.403610</td>\n",
       "    </tr>\n",
       "  </tbody>\n",
       "</table>\n",
       "</div>"
      ],
      "text/plain": [
       "               h1n1_vaccine  seasonal_vaccine\n",
       "respondent_id                                \n",
       "26707              0.113173          0.375069\n",
       "26708              0.025997          0.028402\n",
       "26709              0.244246          0.695510\n",
       "26710              0.500280          0.859745\n",
       "26711              0.322239          0.403610"
      ]
     },
     "execution_count": 254,
     "metadata": {},
     "output_type": "execute_result"
    }
   ],
   "source": [
    "submission_df[\"h1n1_vaccine\"] = y_proba_h1n1_comp[:, 1]\n",
    "submission_df[\"seasonal_vaccine\"] = y_proba_ssnl_comp[:, 1]\n",
    "\n",
    "submission_df.head()"
   ]
  },
  {
   "cell_type": "code",
   "execution_count": 255,
   "metadata": {
    "execution": {
     "iopub.execute_input": "2022-01-26T16:56:10.322315Z",
     "iopub.status.busy": "2022-01-26T16:56:10.322018Z",
     "iopub.status.idle": "2022-01-26T16:56:10.461188Z",
     "shell.execute_reply": "2022-01-26T16:56:10.460527Z",
     "shell.execute_reply.started": "2022-01-26T16:56:10.322282Z"
    }
   },
   "outputs": [],
   "source": [
    "submission_df.to_csv('data/my_submission.csv', index=True)"
   ]
  },
  {
   "cell_type": "code",
   "execution_count": 256,
   "metadata": {
    "execution": {
     "iopub.execute_input": "2022-01-26T16:56:11.641215Z",
     "iopub.status.busy": "2022-01-26T16:56:11.640618Z",
     "iopub.status.idle": "2022-01-26T16:56:11.782907Z",
     "shell.execute_reply": "2022-01-26T16:56:11.782136Z",
     "shell.execute_reply.started": "2022-01-26T16:56:11.641114Z"
    }
   },
   "outputs": [
    {
     "name": "stdout",
     "output_type": "stream",
     "text": [
      "respondent_id,h1n1_vaccine,seasonal_vaccine\n",
      "26707,0.11317282884027721,0.37506939114042215\n",
      "26708,0.02599737885236411,0.028402248436015777\n",
      "26709,0.2442462051065385,0.6955101258538736\n",
      "26710,0.5002803932105893,0.859745437477238\n",
      "26711,0.3222389143238363,0.4036097227087465\n",
      "26712,0.6852679617965983,0.9589032310334851\n",
      "26713,0.19983915048877718,0.4959990653500269\n",
      "26714,0.17226834641640074,0.2301630679050126\n",
      "26715,0.01923289882731021,0.13394514386092657\n"
     ]
    }
   ],
   "source": [
    "!head data/my_submission.csv"
   ]
  },
  {
   "cell_type": "code",
   "execution_count": null,
   "metadata": {},
   "outputs": [],
   "source": []
  },
  {
   "cell_type": "code",
   "execution_count": null,
   "metadata": {},
   "outputs": [],
   "source": []
  },
  {
   "cell_type": "code",
   "execution_count": null,
   "metadata": {},
   "outputs": [],
   "source": []
  },
  {
   "cell_type": "code",
   "execution_count": null,
   "metadata": {},
   "outputs": [],
   "source": []
  },
  {
   "cell_type": "markdown",
   "metadata": {},
   "source": [
    "### Randomly Tuned Random Forest"
   ]
  },
  {
   "cell_type": "code",
   "execution_count": 381,
   "metadata": {
    "execution": {
     "iopub.execute_input": "2022-01-26T19:28:57.778146Z",
     "iopub.status.busy": "2022-01-26T19:28:57.777956Z",
     "iopub.status.idle": "2022-01-26T19:29:19.120866Z",
     "shell.execute_reply": "2022-01-26T19:29:19.120155Z",
     "shell.execute_reply.started": "2022-01-26T19:28:57.778126Z"
    }
   },
   "outputs": [],
   "source": [
    "tree_preprocessor.fit(X_train, y_train_h1n1)\n",
    "y_hat_h1n1 = tree_preprocessor.predict(X_test)\n",
    "y_proba_h1n1 = tree_preprocessor.predict_proba(X_test)\n",
    "y_proba_h1n1_comp = tree_preprocessor.predict_proba(X_test_comp)\n",
    "\n",
    "tree_preprocessor.fit(X_train, y_train_ssnl)\n",
    "y_hat_ssnl = tree_preprocessor.predict(X_test)\n",
    "y_proba_ssnl = tree_preprocessor.predict_proba(X_test)\n",
    "y_proba_ssnl_comp = tree_preprocessor.predict_proba(X_test_comp)"
   ]
  },
  {
   "cell_type": "code",
   "execution_count": 382,
   "metadata": {
    "execution": {
     "iopub.execute_input": "2022-01-26T19:29:20.524491Z",
     "iopub.status.busy": "2022-01-26T19:29:20.524220Z",
     "iopub.status.idle": "2022-01-26T19:29:20.793157Z",
     "shell.execute_reply": "2022-01-26T19:29:20.792360Z",
     "shell.execute_reply.started": "2022-01-26T19:29:20.524465Z"
    }
   },
   "outputs": [
    {
     "name": "stdout",
     "output_type": "stream",
     "text": [
      "Recall for H1N1:    0.39118942731277534\n",
      "Recall for Seasonal Flu:    0.7442424242424243\n",
      "\n",
      "Precision for H1N1: 0.7775831873905429\n",
      "Precision for Seasonal Flu: 0.7691022964509394\n",
      "\n",
      "Accuracy for H1N1:  0.8468738300262074\n",
      "Accuracy for Seasonal Flu:  0.7779857731186821\n",
      "\n",
      "F1 score for H1N1:  0.5205158264947245\n",
      "F1 score for Seasonal Flu:  0.7564681724845996\n",
      "\n",
      "AUROC for H1N1:     0.8673921898576842\n",
      "AUROC for Seasonal Flu:     0.8528471319402605\n"
     ]
    },
    {
     "data": {
      "image/png": "[encoded data removed]",
      "text/plain": [
       "<Figure size 1152x432 with 2 Axes>"
      ]
     },
     "metadata": {
      "needs_background": "light"
     },
     "output_type": "display_data"
    }
   ],
   "source": [
    "all_metrics([y_test_h1n1, y_test_ssnl], [y_hat_h1n1, y_hat_ssnl], [y_proba_h1n1, y_proba_ssnl], ['H1N1', 'Seasonal Flu'])"
   ]
  }
 ],
 "metadata": {
  "kernelspec": {
   "display_name": "Python (learn-env)",
   "language": "python",
   "name": "learn-env"
  },
  "language_info": {
   "codemirror_mode": {
    "name": "ipython",
    "version": 3
   },
   "file_extension": ".py",
   "mimetype": "text/x-python",
   "name": "python",
   "nbconvert_exporter": "python",
   "pygments_lexer": "ipython3",
   "version": "3.8.5"
  }
 },
 "nbformat": 4,
 "nbformat_minor": 4
}
