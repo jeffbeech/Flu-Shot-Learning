{
 "cells": [
  {
   "cell_type": "code",
   "execution_count": null,
   "id": "56a8955f-94e3-4b6c-9cc6-177f4053bb0e",
   "metadata": {},
   "outputs": [],
   "source": []
  },
  {
   "cell_type": "code",
   "execution_count": 56,
   "id": "4424594a-c028-4b74-9c46-2dc497ea8f2d",
   "metadata": {
    "tags": []
   },
   "outputs": [],
   "source": [
    "import pandas as pd\n",
    "import numpy as np\n",
    "from matplotlib import pyplot as plt\n",
    "import seaborn as sns\n",
    "\n",
    "from sklearn.model_selection import train_test_split, GridSearchCV, RandomizedSearchCV, cross_val_score\n",
    "from sklearn.pipeline import Pipeline\n",
    "from sklearn.preprocessing import StandardScaler, OneHotEncoder, FunctionTransformer\n",
    "from sklearn.impute import SimpleImputer\n",
    "from sklearn.compose import ColumnTransformer\n",
    "from sklearn.linear_model import LogisticRegression\n",
    "from sklearn.svm import SVC\n",
    "from sklearn.ensemble import RandomForestClassifier, GradientBoostingClassifier\n",
    "from sklearn.metrics import confusion_matrix, ConfusionMatrixDisplay, plot_confusion_matrix, recall_score, accuracy_score, precision_score, f1_score, roc_auc_score\n",
    "from sklearn.multioutput import MultiOutputClassifier\n",
    "\n",
    "# import xgboost as xgb\n",
    "\n",
    "# Next two only necessary if target classes are imbalanced\n",
    "from imblearn.over_sampling import SMOTE\n",
    "from imblearn.pipeline import Pipeline as ImPipeline\n",
    "\n",
    "pd.set_option(\"display.max_columns\", 50)\n",
    "%matplotlib inline\n",
    "\n",
    "random_state = 1232022"
   ]
  },
  {
   "cell_type": "markdown",
   "id": "4d9df400-244d-49cf-97a7-a3b16819a00c",
   "metadata": {},
   "source": [
    "### Importing the data\n",
    "\n",
    "Because this dataset is part of a competition and a train-test split has already been performed, we'll treat the training data as the entire dataset. That way, we can perform our own train-test split, and, subsequently, we'll be able to acquire test scores of our own without necessarily having to submit to the competition. However, if at any point we're satisfied with a model, we can use that model to make predictions on the competition's original test data and submit those predictions to the competition if we so wish. As such, we'll import the competition's testing data as 'y_test_comp'.\n",
    "\n",
    "We'll also combine our X and y into a single dataframe in case we need it for EDA, graphs, cleaning or the like."
   ]
  },
  {
   "cell_type": "code",
   "execution_count": 2,
   "id": "7a494a77-ea42-4939-a1e8-b0a0ff479a02",
   "metadata": {
    "tags": []
   },
   "outputs": [
    {
     "data": {
      "text/html": [
       "<div>\n",
       "<style scoped>\n",
       "    .dataframe tbody tr th:only-of-type {\n",
       "        vertical-align: middle;\n",
       "    }\n",
       "\n",
       "    .dataframe tbody tr th {\n",
       "        vertical-align: top;\n",
       "    }\n",
       "\n",
       "    .dataframe thead th {\n",
       "        text-align: right;\n",
       "    }\n",
       "</style>\n",
       "<table border=\"1\" class=\"dataframe\">\n",
       "  <thead>\n",
       "    <tr style=\"text-align: right;\">\n",
       "      <th></th>\n",
       "      <th>h1n1_concern</th>\n",
       "      <th>h1n1_knowledge</th>\n",
       "      <th>behavioral_antiviral_meds</th>\n",
       "      <th>behavioral_avoidance</th>\n",
       "      <th>behavioral_face_mask</th>\n",
       "      <th>behavioral_wash_hands</th>\n",
       "      <th>behavioral_large_gatherings</th>\n",
       "      <th>behavioral_outside_home</th>\n",
       "      <th>behavioral_touch_face</th>\n",
       "      <th>doctor_recc_h1n1</th>\n",
       "      <th>doctor_recc_seasonal</th>\n",
       "      <th>chronic_med_condition</th>\n",
       "      <th>child_under_6_months</th>\n",
       "      <th>health_worker</th>\n",
       "      <th>health_insurance</th>\n",
       "      <th>opinion_h1n1_vacc_effective</th>\n",
       "      <th>opinion_h1n1_risk</th>\n",
       "      <th>opinion_h1n1_sick_from_vacc</th>\n",
       "      <th>opinion_seas_vacc_effective</th>\n",
       "      <th>opinion_seas_risk</th>\n",
       "      <th>opinion_seas_sick_from_vacc</th>\n",
       "      <th>age_group</th>\n",
       "      <th>education</th>\n",
       "      <th>race</th>\n",
       "      <th>sex</th>\n",
       "      <th>income_poverty</th>\n",
       "      <th>marital_status</th>\n",
       "      <th>rent_or_own</th>\n",
       "      <th>employment_status</th>\n",
       "      <th>hhs_geo_region</th>\n",
       "      <th>census_msa</th>\n",
       "      <th>household_adults</th>\n",
       "      <th>household_children</th>\n",
       "      <th>employment_industry</th>\n",
       "      <th>employment_occupation</th>\n",
       "      <th>h1n1_vaccine</th>\n",
       "      <th>seasonal_vaccine</th>\n",
       "    </tr>\n",
       "    <tr>\n",
       "      <th>respondent_id</th>\n",
       "      <th></th>\n",
       "      <th></th>\n",
       "      <th></th>\n",
       "      <th></th>\n",
       "      <th></th>\n",
       "      <th></th>\n",
       "      <th></th>\n",
       "      <th></th>\n",
       "      <th></th>\n",
       "      <th></th>\n",
       "      <th></th>\n",
       "      <th></th>\n",
       "      <th></th>\n",
       "      <th></th>\n",
       "      <th></th>\n",
       "      <th></th>\n",
       "      <th></th>\n",
       "      <th></th>\n",
       "      <th></th>\n",
       "      <th></th>\n",
       "      <th></th>\n",
       "      <th></th>\n",
       "      <th></th>\n",
       "      <th></th>\n",
       "      <th></th>\n",
       "      <th></th>\n",
       "      <th></th>\n",
       "      <th></th>\n",
       "      <th></th>\n",
       "      <th></th>\n",
       "      <th></th>\n",
       "      <th></th>\n",
       "      <th></th>\n",
       "      <th></th>\n",
       "      <th></th>\n",
       "      <th></th>\n",
       "      <th></th>\n",
       "    </tr>\n",
       "  </thead>\n",
       "  <tbody>\n",
       "    <tr>\n",
       "      <th>0</th>\n",
       "      <td>1.0</td>\n",
       "      <td>0.0</td>\n",
       "      <td>0.0</td>\n",
       "      <td>0.0</td>\n",
       "      <td>0.0</td>\n",
       "      <td>0.0</td>\n",
       "      <td>0.0</td>\n",
       "      <td>1.0</td>\n",
       "      <td>1.0</td>\n",
       "      <td>0.0</td>\n",
       "      <td>0.0</td>\n",
       "      <td>0.0</td>\n",
       "      <td>0.0</td>\n",
       "      <td>0.0</td>\n",
       "      <td>1.0</td>\n",
       "      <td>3.0</td>\n",
       "      <td>1.0</td>\n",
       "      <td>2.0</td>\n",
       "      <td>2.0</td>\n",
       "      <td>1.0</td>\n",
       "      <td>2.0</td>\n",
       "      <td>55 - 64 Years</td>\n",
       "      <td>&lt; 12 Years</td>\n",
       "      <td>White</td>\n",
       "      <td>Female</td>\n",
       "      <td>Below Poverty</td>\n",
       "      <td>Not Married</td>\n",
       "      <td>Own</td>\n",
       "      <td>Not in Labor Force</td>\n",
       "      <td>oxchjgsf</td>\n",
       "      <td>Non-MSA</td>\n",
       "      <td>0.0</td>\n",
       "      <td>0.0</td>\n",
       "      <td>NaN</td>\n",
       "      <td>NaN</td>\n",
       "      <td>0</td>\n",
       "      <td>0</td>\n",
       "    </tr>\n",
       "    <tr>\n",
       "      <th>1</th>\n",
       "      <td>3.0</td>\n",
       "      <td>2.0</td>\n",
       "      <td>0.0</td>\n",
       "      <td>1.0</td>\n",
       "      <td>0.0</td>\n",
       "      <td>1.0</td>\n",
       "      <td>0.0</td>\n",
       "      <td>1.0</td>\n",
       "      <td>1.0</td>\n",
       "      <td>0.0</td>\n",
       "      <td>0.0</td>\n",
       "      <td>0.0</td>\n",
       "      <td>0.0</td>\n",
       "      <td>0.0</td>\n",
       "      <td>1.0</td>\n",
       "      <td>5.0</td>\n",
       "      <td>4.0</td>\n",
       "      <td>4.0</td>\n",
       "      <td>4.0</td>\n",
       "      <td>2.0</td>\n",
       "      <td>4.0</td>\n",
       "      <td>35 - 44 Years</td>\n",
       "      <td>12 Years</td>\n",
       "      <td>White</td>\n",
       "      <td>Male</td>\n",
       "      <td>Below Poverty</td>\n",
       "      <td>Not Married</td>\n",
       "      <td>Rent</td>\n",
       "      <td>Employed</td>\n",
       "      <td>bhuqouqj</td>\n",
       "      <td>MSA, Not Principle  City</td>\n",
       "      <td>0.0</td>\n",
       "      <td>0.0</td>\n",
       "      <td>pxcmvdjn</td>\n",
       "      <td>xgwztkwe</td>\n",
       "      <td>0</td>\n",
       "      <td>1</td>\n",
       "    </tr>\n",
       "    <tr>\n",
       "      <th>2</th>\n",
       "      <td>1.0</td>\n",
       "      <td>1.0</td>\n",
       "      <td>0.0</td>\n",
       "      <td>1.0</td>\n",
       "      <td>0.0</td>\n",
       "      <td>0.0</td>\n",
       "      <td>0.0</td>\n",
       "      <td>0.0</td>\n",
       "      <td>0.0</td>\n",
       "      <td>NaN</td>\n",
       "      <td>NaN</td>\n",
       "      <td>1.0</td>\n",
       "      <td>0.0</td>\n",
       "      <td>0.0</td>\n",
       "      <td>NaN</td>\n",
       "      <td>3.0</td>\n",
       "      <td>1.0</td>\n",
       "      <td>1.0</td>\n",
       "      <td>4.0</td>\n",
       "      <td>1.0</td>\n",
       "      <td>2.0</td>\n",
       "      <td>18 - 34 Years</td>\n",
       "      <td>College Graduate</td>\n",
       "      <td>White</td>\n",
       "      <td>Male</td>\n",
       "      <td>&lt;= $75,000, Above Poverty</td>\n",
       "      <td>Not Married</td>\n",
       "      <td>Own</td>\n",
       "      <td>Employed</td>\n",
       "      <td>qufhixun</td>\n",
       "      <td>MSA, Not Principle  City</td>\n",
       "      <td>2.0</td>\n",
       "      <td>0.0</td>\n",
       "      <td>rucpziij</td>\n",
       "      <td>xtkaffoo</td>\n",
       "      <td>0</td>\n",
       "      <td>0</td>\n",
       "    </tr>\n",
       "    <tr>\n",
       "      <th>3</th>\n",
       "      <td>1.0</td>\n",
       "      <td>1.0</td>\n",
       "      <td>0.0</td>\n",
       "      <td>1.0</td>\n",
       "      <td>0.0</td>\n",
       "      <td>1.0</td>\n",
       "      <td>1.0</td>\n",
       "      <td>0.0</td>\n",
       "      <td>0.0</td>\n",
       "      <td>0.0</td>\n",
       "      <td>1.0</td>\n",
       "      <td>1.0</td>\n",
       "      <td>0.0</td>\n",
       "      <td>0.0</td>\n",
       "      <td>NaN</td>\n",
       "      <td>3.0</td>\n",
       "      <td>3.0</td>\n",
       "      <td>5.0</td>\n",
       "      <td>5.0</td>\n",
       "      <td>4.0</td>\n",
       "      <td>1.0</td>\n",
       "      <td>65+ Years</td>\n",
       "      <td>12 Years</td>\n",
       "      <td>White</td>\n",
       "      <td>Female</td>\n",
       "      <td>Below Poverty</td>\n",
       "      <td>Not Married</td>\n",
       "      <td>Rent</td>\n",
       "      <td>Not in Labor Force</td>\n",
       "      <td>lrircsnp</td>\n",
       "      <td>MSA, Principle City</td>\n",
       "      <td>0.0</td>\n",
       "      <td>0.0</td>\n",
       "      <td>NaN</td>\n",
       "      <td>NaN</td>\n",
       "      <td>0</td>\n",
       "      <td>1</td>\n",
       "    </tr>\n",
       "    <tr>\n",
       "      <th>4</th>\n",
       "      <td>2.0</td>\n",
       "      <td>1.0</td>\n",
       "      <td>0.0</td>\n",
       "      <td>1.0</td>\n",
       "      <td>0.0</td>\n",
       "      <td>1.0</td>\n",
       "      <td>1.0</td>\n",
       "      <td>0.0</td>\n",
       "      <td>1.0</td>\n",
       "      <td>0.0</td>\n",
       "      <td>0.0</td>\n",
       "      <td>0.0</td>\n",
       "      <td>0.0</td>\n",
       "      <td>0.0</td>\n",
       "      <td>NaN</td>\n",
       "      <td>3.0</td>\n",
       "      <td>3.0</td>\n",
       "      <td>2.0</td>\n",
       "      <td>3.0</td>\n",
       "      <td>1.0</td>\n",
       "      <td>4.0</td>\n",
       "      <td>45 - 54 Years</td>\n",
       "      <td>Some College</td>\n",
       "      <td>White</td>\n",
       "      <td>Female</td>\n",
       "      <td>&lt;= $75,000, Above Poverty</td>\n",
       "      <td>Married</td>\n",
       "      <td>Own</td>\n",
       "      <td>Employed</td>\n",
       "      <td>qufhixun</td>\n",
       "      <td>MSA, Not Principle  City</td>\n",
       "      <td>1.0</td>\n",
       "      <td>0.0</td>\n",
       "      <td>wxleyezf</td>\n",
       "      <td>emcorrxb</td>\n",
       "      <td>0</td>\n",
       "      <td>0</td>\n",
       "    </tr>\n",
       "  </tbody>\n",
       "</table>\n",
       "</div>"
      ],
      "text/plain": [
       "               h1n1_concern  h1n1_knowledge  behavioral_antiviral_meds  \\\n",
       "respondent_id                                                            \n",
       "0                       1.0             0.0                        0.0   \n",
       "1                       3.0             2.0                        0.0   \n",
       "2                       1.0             1.0                        0.0   \n",
       "3                       1.0             1.0                        0.0   \n",
       "4                       2.0             1.0                        0.0   \n",
       "\n",
       "               behavioral_avoidance  behavioral_face_mask  \\\n",
       "respondent_id                                               \n",
       "0                               0.0                   0.0   \n",
       "1                               1.0                   0.0   \n",
       "2                               1.0                   0.0   \n",
       "3                               1.0                   0.0   \n",
       "4                               1.0                   0.0   \n",
       "\n",
       "               behavioral_wash_hands  behavioral_large_gatherings  \\\n",
       "respondent_id                                                       \n",
       "0                                0.0                          0.0   \n",
       "1                                1.0                          0.0   \n",
       "2                                0.0                          0.0   \n",
       "3                                1.0                          1.0   \n",
       "4                                1.0                          1.0   \n",
       "\n",
       "               behavioral_outside_home  behavioral_touch_face  \\\n",
       "respondent_id                                                   \n",
       "0                                  1.0                    1.0   \n",
       "1                                  1.0                    1.0   \n",
       "2                                  0.0                    0.0   \n",
       "3                                  0.0                    0.0   \n",
       "4                                  0.0                    1.0   \n",
       "\n",
       "               doctor_recc_h1n1  doctor_recc_seasonal  chronic_med_condition  \\\n",
       "respondent_id                                                                  \n",
       "0                           0.0                   0.0                    0.0   \n",
       "1                           0.0                   0.0                    0.0   \n",
       "2                           NaN                   NaN                    1.0   \n",
       "3                           0.0                   1.0                    1.0   \n",
       "4                           0.0                   0.0                    0.0   \n",
       "\n",
       "               child_under_6_months  health_worker  health_insurance  \\\n",
       "respondent_id                                                          \n",
       "0                               0.0            0.0               1.0   \n",
       "1                               0.0            0.0               1.0   \n",
       "2                               0.0            0.0               NaN   \n",
       "3                               0.0            0.0               NaN   \n",
       "4                               0.0            0.0               NaN   \n",
       "\n",
       "               opinion_h1n1_vacc_effective  opinion_h1n1_risk  \\\n",
       "respondent_id                                                   \n",
       "0                                      3.0                1.0   \n",
       "1                                      5.0                4.0   \n",
       "2                                      3.0                1.0   \n",
       "3                                      3.0                3.0   \n",
       "4                                      3.0                3.0   \n",
       "\n",
       "               opinion_h1n1_sick_from_vacc  opinion_seas_vacc_effective  \\\n",
       "respondent_id                                                             \n",
       "0                                      2.0                          2.0   \n",
       "1                                      4.0                          4.0   \n",
       "2                                      1.0                          4.0   \n",
       "3                                      5.0                          5.0   \n",
       "4                                      2.0                          3.0   \n",
       "\n",
       "               opinion_seas_risk  opinion_seas_sick_from_vacc      age_group  \\\n",
       "respondent_id                                                                  \n",
       "0                            1.0                          2.0  55 - 64 Years   \n",
       "1                            2.0                          4.0  35 - 44 Years   \n",
       "2                            1.0                          2.0  18 - 34 Years   \n",
       "3                            4.0                          1.0      65+ Years   \n",
       "4                            1.0                          4.0  45 - 54 Years   \n",
       "\n",
       "                      education   race     sex             income_poverty  \\\n",
       "respondent_id                                                               \n",
       "0                    < 12 Years  White  Female              Below Poverty   \n",
       "1                      12 Years  White    Male              Below Poverty   \n",
       "2              College Graduate  White    Male  <= $75,000, Above Poverty   \n",
       "3                      12 Years  White  Female              Below Poverty   \n",
       "4                  Some College  White  Female  <= $75,000, Above Poverty   \n",
       "\n",
       "              marital_status rent_or_own   employment_status hhs_geo_region  \\\n",
       "respondent_id                                                                 \n",
       "0                Not Married         Own  Not in Labor Force       oxchjgsf   \n",
       "1                Not Married        Rent            Employed       bhuqouqj   \n",
       "2                Not Married         Own            Employed       qufhixun   \n",
       "3                Not Married        Rent  Not in Labor Force       lrircsnp   \n",
       "4                    Married         Own            Employed       qufhixun   \n",
       "\n",
       "                             census_msa  household_adults  household_children  \\\n",
       "respondent_id                                                                   \n",
       "0                               Non-MSA               0.0                 0.0   \n",
       "1              MSA, Not Principle  City               0.0                 0.0   \n",
       "2              MSA, Not Principle  City               2.0                 0.0   \n",
       "3                   MSA, Principle City               0.0                 0.0   \n",
       "4              MSA, Not Principle  City               1.0                 0.0   \n",
       "\n",
       "              employment_industry employment_occupation  h1n1_vaccine  \\\n",
       "respondent_id                                                           \n",
       "0                             NaN                   NaN             0   \n",
       "1                        pxcmvdjn              xgwztkwe             0   \n",
       "2                        rucpziij              xtkaffoo             0   \n",
       "3                             NaN                   NaN             0   \n",
       "4                        wxleyezf              emcorrxb             0   \n",
       "\n",
       "               seasonal_vaccine  \n",
       "respondent_id                    \n",
       "0                             0  \n",
       "1                             1  \n",
       "2                             0  \n",
       "3                             1  \n",
       "4                             0  "
      ]
     },
     "execution_count": 2,
     "metadata": {},
     "output_type": "execute_result"
    }
   ],
   "source": [
    "X = pd.read_csv('data/training_set_features.csv', index_col='respondent_id')\n",
    "y = pd.read_csv('data/training_set_labels.csv', index_col='respondent_id')\n",
    "\n",
    "df = pd.concat([X, y], axis=1)\n",
    "\n",
    "y_test_comp = pd.read_csv('data/test_set_features.csv')\n",
    "\n",
    "df.head()"
   ]
  },
  {
   "cell_type": "code",
   "execution_count": 3,
   "id": "b51613bd-1c88-4728-9b14-dadc1d49575c",
   "metadata": {},
   "outputs": [
    {
     "data": {
      "text/plain": [
       "lzgpxyit    4297\n",
       "fpwskwrf    3265\n",
       "qufhixun    3102\n",
       "oxchjgsf    2859\n",
       "kbazzjca    2858\n",
       "bhuqouqj    2846\n",
       "mlyzmhmf    2243\n",
       "lrircsnp    2078\n",
       "atmpeygn    2033\n",
       "dqpwygqj    1126\n",
       "Name: hhs_geo_region, dtype: int64"
      ]
     },
     "execution_count": 3,
     "metadata": {},
     "output_type": "execute_result"
    }
   ],
   "source": [
    "X['hhs_geo_region'].value_counts()"
   ]
  },
  {
   "cell_type": "code",
   "execution_count": 4,
   "id": "3b52f761-4c49-4123-b59a-1f9d399d4c42",
   "metadata": {},
   "outputs": [
    {
     "data": {
      "text/plain": [
       "College Graduate    10097\n",
       "Some College         7043\n",
       "12 Years             5797\n",
       "< 12 Years           2363\n",
       "Name: education, dtype: int64"
      ]
     },
     "execution_count": 4,
     "metadata": {},
     "output_type": "execute_result"
    }
   ],
   "source": [
    "X['education'].value_counts()"
   ]
  },
  {
   "cell_type": "code",
   "execution_count": 5,
   "id": "1b85ce5f-4840-49ab-ab5d-7d82082f837e",
   "metadata": {},
   "outputs": [
    {
     "data": {
      "text/plain": [
       "65+ Years        6843\n",
       "55 - 64 Years    5563\n",
       "45 - 54 Years    5238\n",
       "18 - 34 Years    5215\n",
       "35 - 44 Years    3848\n",
       "Name: age_group, dtype: int64"
      ]
     },
     "execution_count": 5,
     "metadata": {},
     "output_type": "execute_result"
    }
   ],
   "source": [
    "X['age_group'].value_counts()"
   ]
  },
  {
   "cell_type": "code",
   "execution_count": 6,
   "id": "480f22ce-4af0-47c2-81bc-834e39a48c06",
   "metadata": {},
   "outputs": [
    {
     "data": {
      "text/plain": [
       "Married        13555\n",
       "Not Married    11744\n",
       "Name: marital_status, dtype: int64"
      ]
     },
     "execution_count": 6,
     "metadata": {},
     "output_type": "execute_result"
    }
   ],
   "source": [
    "X['marital_status'].value_counts()"
   ]
  },
  {
   "cell_type": "code",
   "execution_count": 7,
   "id": "496b6d83-be20-4cbd-ac7e-d23cdcc6d93c",
   "metadata": {},
   "outputs": [
    {
     "data": {
      "text/plain": [
       "Own     18736\n",
       "Rent     5929\n",
       "Name: rent_or_own, dtype: int64"
      ]
     },
     "execution_count": 7,
     "metadata": {},
     "output_type": "execute_result"
    }
   ],
   "source": [
    "X['rent_or_own'].value_counts()"
   ]
  },
  {
   "cell_type": "code",
   "execution_count": 8,
   "id": "c1f1b05f-fba6-4471-adc7-1189e2f8356a",
   "metadata": {},
   "outputs": [
    {
     "data": {
      "text/plain": [
       "fcxhlnwr    2468\n",
       "wxleyezf    1804\n",
       "ldnlellj    1231\n",
       "pxcmvdjn    1037\n",
       "atmlpfrs     926\n",
       "arjwrbjb     871\n",
       "xicduogh     851\n",
       "mfikgejo     614\n",
       "vjjrobsf     527\n",
       "rucpziij     523\n",
       "xqicxuve     511\n",
       "saaquncn     338\n",
       "cfqqtusy     325\n",
       "nduyfdeo     286\n",
       "mcubkhph     275\n",
       "wlfvacwt     215\n",
       "dotnnunm     201\n",
       "haxffmxo     148\n",
       "msuufmds     124\n",
       "phxvnwax      89\n",
       "qnlwzans      13\n",
       "Name: employment_industry, dtype: int64"
      ]
     },
     "execution_count": 8,
     "metadata": {},
     "output_type": "execute_result"
    }
   ],
   "source": [
    "X['employment_industry'].value_counts()"
   ]
  },
  {
   "cell_type": "code",
   "execution_count": 9,
   "id": "3b96cd26-8574-429f-87af-242c46cbb5b2",
   "metadata": {},
   "outputs": [
    {
     "data": {
      "text/html": [
       "<div>\n",
       "<style scoped>\n",
       "    .dataframe tbody tr th:only-of-type {\n",
       "        vertical-align: middle;\n",
       "    }\n",
       "\n",
       "    .dataframe tbody tr th {\n",
       "        vertical-align: top;\n",
       "    }\n",
       "\n",
       "    .dataframe thead th {\n",
       "        text-align: right;\n",
       "    }\n",
       "</style>\n",
       "<table border=\"1\" class=\"dataframe\">\n",
       "  <thead>\n",
       "    <tr style=\"text-align: right;\">\n",
       "      <th></th>\n",
       "      <th>h1n1_concern</th>\n",
       "      <th>h1n1_knowledge</th>\n",
       "      <th>behavioral_antiviral_meds</th>\n",
       "      <th>behavioral_avoidance</th>\n",
       "      <th>behavioral_face_mask</th>\n",
       "      <th>behavioral_wash_hands</th>\n",
       "      <th>behavioral_large_gatherings</th>\n",
       "      <th>behavioral_outside_home</th>\n",
       "      <th>behavioral_touch_face</th>\n",
       "      <th>doctor_recc_h1n1</th>\n",
       "      <th>doctor_recc_seasonal</th>\n",
       "      <th>chronic_med_condition</th>\n",
       "      <th>child_under_6_months</th>\n",
       "      <th>health_worker</th>\n",
       "      <th>health_insurance</th>\n",
       "      <th>opinion_h1n1_vacc_effective</th>\n",
       "      <th>opinion_h1n1_risk</th>\n",
       "      <th>opinion_h1n1_sick_from_vacc</th>\n",
       "      <th>opinion_seas_vacc_effective</th>\n",
       "      <th>opinion_seas_risk</th>\n",
       "      <th>opinion_seas_sick_from_vacc</th>\n",
       "      <th>household_adults</th>\n",
       "      <th>household_children</th>\n",
       "    </tr>\n",
       "  </thead>\n",
       "  <tbody>\n",
       "    <tr>\n",
       "      <th>count</th>\n",
       "      <td>26615.000000</td>\n",
       "      <td>26591.000000</td>\n",
       "      <td>26636.000000</td>\n",
       "      <td>26499.000000</td>\n",
       "      <td>26688.000000</td>\n",
       "      <td>26665.000000</td>\n",
       "      <td>26620.00000</td>\n",
       "      <td>26625.000000</td>\n",
       "      <td>26579.000000</td>\n",
       "      <td>24547.000000</td>\n",
       "      <td>24547.000000</td>\n",
       "      <td>25736.000000</td>\n",
       "      <td>25887.000000</td>\n",
       "      <td>25903.000000</td>\n",
       "      <td>14433.00000</td>\n",
       "      <td>26316.000000</td>\n",
       "      <td>26319.000000</td>\n",
       "      <td>26312.000000</td>\n",
       "      <td>26245.000000</td>\n",
       "      <td>26193.000000</td>\n",
       "      <td>26170.000000</td>\n",
       "      <td>26458.000000</td>\n",
       "      <td>26458.000000</td>\n",
       "    </tr>\n",
       "    <tr>\n",
       "      <th>mean</th>\n",
       "      <td>1.618486</td>\n",
       "      <td>1.262532</td>\n",
       "      <td>0.048844</td>\n",
       "      <td>0.725612</td>\n",
       "      <td>0.068982</td>\n",
       "      <td>0.825614</td>\n",
       "      <td>0.35864</td>\n",
       "      <td>0.337315</td>\n",
       "      <td>0.677264</td>\n",
       "      <td>0.220312</td>\n",
       "      <td>0.329735</td>\n",
       "      <td>0.283261</td>\n",
       "      <td>0.082590</td>\n",
       "      <td>0.111918</td>\n",
       "      <td>0.87972</td>\n",
       "      <td>3.850623</td>\n",
       "      <td>2.342566</td>\n",
       "      <td>2.357670</td>\n",
       "      <td>4.025986</td>\n",
       "      <td>2.719162</td>\n",
       "      <td>2.118112</td>\n",
       "      <td>0.886499</td>\n",
       "      <td>0.534583</td>\n",
       "    </tr>\n",
       "    <tr>\n",
       "      <th>std</th>\n",
       "      <td>0.910311</td>\n",
       "      <td>0.618149</td>\n",
       "      <td>0.215545</td>\n",
       "      <td>0.446214</td>\n",
       "      <td>0.253429</td>\n",
       "      <td>0.379448</td>\n",
       "      <td>0.47961</td>\n",
       "      <td>0.472802</td>\n",
       "      <td>0.467531</td>\n",
       "      <td>0.414466</td>\n",
       "      <td>0.470126</td>\n",
       "      <td>0.450591</td>\n",
       "      <td>0.275266</td>\n",
       "      <td>0.315271</td>\n",
       "      <td>0.32530</td>\n",
       "      <td>1.007436</td>\n",
       "      <td>1.285539</td>\n",
       "      <td>1.362766</td>\n",
       "      <td>1.086565</td>\n",
       "      <td>1.385055</td>\n",
       "      <td>1.332950</td>\n",
       "      <td>0.753422</td>\n",
       "      <td>0.928173</td>\n",
       "    </tr>\n",
       "    <tr>\n",
       "      <th>min</th>\n",
       "      <td>0.000000</td>\n",
       "      <td>0.000000</td>\n",
       "      <td>0.000000</td>\n",
       "      <td>0.000000</td>\n",
       "      <td>0.000000</td>\n",
       "      <td>0.000000</td>\n",
       "      <td>0.00000</td>\n",
       "      <td>0.000000</td>\n",
       "      <td>0.000000</td>\n",
       "      <td>0.000000</td>\n",
       "      <td>0.000000</td>\n",
       "      <td>0.000000</td>\n",
       "      <td>0.000000</td>\n",
       "      <td>0.000000</td>\n",
       "      <td>0.00000</td>\n",
       "      <td>1.000000</td>\n",
       "      <td>1.000000</td>\n",
       "      <td>1.000000</td>\n",
       "      <td>1.000000</td>\n",
       "      <td>1.000000</td>\n",
       "      <td>1.000000</td>\n",
       "      <td>0.000000</td>\n",
       "      <td>0.000000</td>\n",
       "    </tr>\n",
       "    <tr>\n",
       "      <th>25%</th>\n",
       "      <td>1.000000</td>\n",
       "      <td>1.000000</td>\n",
       "      <td>0.000000</td>\n",
       "      <td>0.000000</td>\n",
       "      <td>0.000000</td>\n",
       "      <td>1.000000</td>\n",
       "      <td>0.00000</td>\n",
       "      <td>0.000000</td>\n",
       "      <td>0.000000</td>\n",
       "      <td>0.000000</td>\n",
       "      <td>0.000000</td>\n",
       "      <td>0.000000</td>\n",
       "      <td>0.000000</td>\n",
       "      <td>0.000000</td>\n",
       "      <td>1.00000</td>\n",
       "      <td>3.000000</td>\n",
       "      <td>1.000000</td>\n",
       "      <td>1.000000</td>\n",
       "      <td>4.000000</td>\n",
       "      <td>2.000000</td>\n",
       "      <td>1.000000</td>\n",
       "      <td>0.000000</td>\n",
       "      <td>0.000000</td>\n",
       "    </tr>\n",
       "    <tr>\n",
       "      <th>50%</th>\n",
       "      <td>2.000000</td>\n",
       "      <td>1.000000</td>\n",
       "      <td>0.000000</td>\n",
       "      <td>1.000000</td>\n",
       "      <td>0.000000</td>\n",
       "      <td>1.000000</td>\n",
       "      <td>0.00000</td>\n",
       "      <td>0.000000</td>\n",
       "      <td>1.000000</td>\n",
       "      <td>0.000000</td>\n",
       "      <td>0.000000</td>\n",
       "      <td>0.000000</td>\n",
       "      <td>0.000000</td>\n",
       "      <td>0.000000</td>\n",
       "      <td>1.00000</td>\n",
       "      <td>4.000000</td>\n",
       "      <td>2.000000</td>\n",
       "      <td>2.000000</td>\n",
       "      <td>4.000000</td>\n",
       "      <td>2.000000</td>\n",
       "      <td>2.000000</td>\n",
       "      <td>1.000000</td>\n",
       "      <td>0.000000</td>\n",
       "    </tr>\n",
       "    <tr>\n",
       "      <th>75%</th>\n",
       "      <td>2.000000</td>\n",
       "      <td>2.000000</td>\n",
       "      <td>0.000000</td>\n",
       "      <td>1.000000</td>\n",
       "      <td>0.000000</td>\n",
       "      <td>1.000000</td>\n",
       "      <td>1.00000</td>\n",
       "      <td>1.000000</td>\n",
       "      <td>1.000000</td>\n",
       "      <td>0.000000</td>\n",
       "      <td>1.000000</td>\n",
       "      <td>1.000000</td>\n",
       "      <td>0.000000</td>\n",
       "      <td>0.000000</td>\n",
       "      <td>1.00000</td>\n",
       "      <td>5.000000</td>\n",
       "      <td>4.000000</td>\n",
       "      <td>4.000000</td>\n",
       "      <td>5.000000</td>\n",
       "      <td>4.000000</td>\n",
       "      <td>4.000000</td>\n",
       "      <td>1.000000</td>\n",
       "      <td>1.000000</td>\n",
       "    </tr>\n",
       "    <tr>\n",
       "      <th>max</th>\n",
       "      <td>3.000000</td>\n",
       "      <td>2.000000</td>\n",
       "      <td>1.000000</td>\n",
       "      <td>1.000000</td>\n",
       "      <td>1.000000</td>\n",
       "      <td>1.000000</td>\n",
       "      <td>1.00000</td>\n",
       "      <td>1.000000</td>\n",
       "      <td>1.000000</td>\n",
       "      <td>1.000000</td>\n",
       "      <td>1.000000</td>\n",
       "      <td>1.000000</td>\n",
       "      <td>1.000000</td>\n",
       "      <td>1.000000</td>\n",
       "      <td>1.00000</td>\n",
       "      <td>5.000000</td>\n",
       "      <td>5.000000</td>\n",
       "      <td>5.000000</td>\n",
       "      <td>5.000000</td>\n",
       "      <td>5.000000</td>\n",
       "      <td>5.000000</td>\n",
       "      <td>3.000000</td>\n",
       "      <td>3.000000</td>\n",
       "    </tr>\n",
       "  </tbody>\n",
       "</table>\n",
       "</div>"
      ],
      "text/plain": [
       "       h1n1_concern  h1n1_knowledge  behavioral_antiviral_meds  \\\n",
       "count  26615.000000    26591.000000               26636.000000   \n",
       "mean       1.618486        1.262532                   0.048844   \n",
       "std        0.910311        0.618149                   0.215545   \n",
       "min        0.000000        0.000000                   0.000000   \n",
       "25%        1.000000        1.000000                   0.000000   \n",
       "50%        2.000000        1.000000                   0.000000   \n",
       "75%        2.000000        2.000000                   0.000000   \n",
       "max        3.000000        2.000000                   1.000000   \n",
       "\n",
       "       behavioral_avoidance  behavioral_face_mask  behavioral_wash_hands  \\\n",
       "count          26499.000000          26688.000000           26665.000000   \n",
       "mean               0.725612              0.068982               0.825614   \n",
       "std                0.446214              0.253429               0.379448   \n",
       "min                0.000000              0.000000               0.000000   \n",
       "25%                0.000000              0.000000               1.000000   \n",
       "50%                1.000000              0.000000               1.000000   \n",
       "75%                1.000000              0.000000               1.000000   \n",
       "max                1.000000              1.000000               1.000000   \n",
       "\n",
       "       behavioral_large_gatherings  behavioral_outside_home  \\\n",
       "count                  26620.00000             26625.000000   \n",
       "mean                       0.35864                 0.337315   \n",
       "std                        0.47961                 0.472802   \n",
       "min                        0.00000                 0.000000   \n",
       "25%                        0.00000                 0.000000   \n",
       "50%                        0.00000                 0.000000   \n",
       "75%                        1.00000                 1.000000   \n",
       "max                        1.00000                 1.000000   \n",
       "\n",
       "       behavioral_touch_face  doctor_recc_h1n1  doctor_recc_seasonal  \\\n",
       "count           26579.000000      24547.000000          24547.000000   \n",
       "mean                0.677264          0.220312              0.329735   \n",
       "std                 0.467531          0.414466              0.470126   \n",
       "min                 0.000000          0.000000              0.000000   \n",
       "25%                 0.000000          0.000000              0.000000   \n",
       "50%                 1.000000          0.000000              0.000000   \n",
       "75%                 1.000000          0.000000              1.000000   \n",
       "max                 1.000000          1.000000              1.000000   \n",
       "\n",
       "       chronic_med_condition  child_under_6_months  health_worker  \\\n",
       "count           25736.000000          25887.000000   25903.000000   \n",
       "mean                0.283261              0.082590       0.111918   \n",
       "std                 0.450591              0.275266       0.315271   \n",
       "min                 0.000000              0.000000       0.000000   \n",
       "25%                 0.000000              0.000000       0.000000   \n",
       "50%                 0.000000              0.000000       0.000000   \n",
       "75%                 1.000000              0.000000       0.000000   \n",
       "max                 1.000000              1.000000       1.000000   \n",
       "\n",
       "       health_insurance  opinion_h1n1_vacc_effective  opinion_h1n1_risk  \\\n",
       "count       14433.00000                 26316.000000       26319.000000   \n",
       "mean            0.87972                     3.850623           2.342566   \n",
       "std             0.32530                     1.007436           1.285539   \n",
       "min             0.00000                     1.000000           1.000000   \n",
       "25%             1.00000                     3.000000           1.000000   \n",
       "50%             1.00000                     4.000000           2.000000   \n",
       "75%             1.00000                     5.000000           4.000000   \n",
       "max             1.00000                     5.000000           5.000000   \n",
       "\n",
       "       opinion_h1n1_sick_from_vacc  opinion_seas_vacc_effective  \\\n",
       "count                 26312.000000                 26245.000000   \n",
       "mean                      2.357670                     4.025986   \n",
       "std                       1.362766                     1.086565   \n",
       "min                       1.000000                     1.000000   \n",
       "25%                       1.000000                     4.000000   \n",
       "50%                       2.000000                     4.000000   \n",
       "75%                       4.000000                     5.000000   \n",
       "max                       5.000000                     5.000000   \n",
       "\n",
       "       opinion_seas_risk  opinion_seas_sick_from_vacc  household_adults  \\\n",
       "count       26193.000000                 26170.000000      26458.000000   \n",
       "mean            2.719162                     2.118112          0.886499   \n",
       "std             1.385055                     1.332950          0.753422   \n",
       "min             1.000000                     1.000000          0.000000   \n",
       "25%             2.000000                     1.000000          0.000000   \n",
       "50%             2.000000                     2.000000          1.000000   \n",
       "75%             4.000000                     4.000000          1.000000   \n",
       "max             5.000000                     5.000000          3.000000   \n",
       "\n",
       "       household_children  \n",
       "count        26458.000000  \n",
       "mean             0.534583  \n",
       "std              0.928173  \n",
       "min              0.000000  \n",
       "25%              0.000000  \n",
       "50%              0.000000  \n",
       "75%              1.000000  \n",
       "max              3.000000  "
      ]
     },
     "execution_count": 9,
     "metadata": {},
     "output_type": "execute_result"
    }
   ],
   "source": [
    "X.describe()"
   ]
  },
  {
   "cell_type": "code",
   "execution_count": 10,
   "id": "1c52de15-c5b2-4d05-92c5-013f722adae4",
   "metadata": {},
   "outputs": [
    {
     "data": {
      "image/png": "[encoded data removed]",
      "text/plain": [
       "<Figure size 1440x1440 with 25 Axes>"
      ]
     },
     "metadata": {
      "needs_background": "light"
     },
     "output_type": "display_data"
    }
   ],
   "source": [
    "X.hist(figsize=(20,20));"
   ]
  },
  {
   "cell_type": "code",
   "execution_count": 11,
   "id": "99e918ca-e432-4f43-9d1c-f91bb5283754",
   "metadata": {},
   "outputs": [
    {
     "data": {
      "image/png": "[encoded data removed]",
      "text/plain": [
       "<Figure size 432x432 with 2 Axes>"
      ]
     },
     "metadata": {
      "needs_background": "light"
     },
     "output_type": "display_data"
    }
   ],
   "source": [
    "y.hist(figsize=(6,6));"
   ]
  },
  {
   "cell_type": "code",
   "execution_count": null,
   "id": "3bae72a9-9819-4317-b4db-158ded41ee33",
   "metadata": {},
   "outputs": [],
   "source": []
  },
  {
   "cell_type": "code",
   "execution_count": null,
   "id": "4978f5f9-5c3a-430e-bb02-642faf244953",
   "metadata": {},
   "outputs": [],
   "source": []
  },
  {
   "cell_type": "code",
   "execution_count": null,
   "id": "18beb20b-f41e-4f99-a57d-284a6a5d1216",
   "metadata": {},
   "outputs": [],
   "source": []
  },
  {
   "cell_type": "markdown",
   "id": "26d5063d-fc59-46b4-9d8d-664746d72389",
   "metadata": {},
   "source": [
    "We'll first check to see if the classes are imbalanced."
   ]
  },
  {
   "cell_type": "code",
   "execution_count": 12,
   "id": "b4a08986-0fa0-4710-93d8-9c5e7a48e9d9",
   "metadata": {
    "tags": []
   },
   "outputs": [
    {
     "name": "stdout",
     "output_type": "stream",
     "text": [
      "0    21033\n",
      "1     5674\n",
      "Name: h1n1_vaccine, dtype: int64\n",
      "0    14272\n",
      "1    12435\n",
      "Name: seasonal_vaccine, dtype: int64\n"
     ]
    }
   ],
   "source": [
    "print(y['h1n1_vaccine'].value_counts())\n",
    "print(y['seasonal_vaccine'].value_counts())"
   ]
  },
  {
   "cell_type": "markdown",
   "id": "3f831d51-d088-44b7-8d15-379c0efe6748",
   "metadata": {},
   "source": [
    "It looks as though the seasonal vaccine classes are very balanced, while the H1N1 vaccine classes are less so, with the minority class comprising about 20% of the samples. This is likely not a problem though, so we won't do anything about it for now."
   ]
  },
  {
   "cell_type": "code",
   "execution_count": 13,
   "id": "16703a53-c2eb-4f54-9ee8-c543be1ee8e9",
   "metadata": {
    "tags": []
   },
   "outputs": [
    {
     "name": "stdout",
     "output_type": "stream",
     "text": [
      "<class 'pandas.core.frame.DataFrame'>\n",
      "Int64Index: 26707 entries, 0 to 26706\n",
      "Data columns (total 35 columns):\n",
      " #   Column                       Non-Null Count  Dtype  \n",
      "---  ------                       --------------  -----  \n",
      " 0   h1n1_concern                 26615 non-null  float64\n",
      " 1   h1n1_knowledge               26591 non-null  float64\n",
      " 2   behavioral_antiviral_meds    26636 non-null  float64\n",
      " 3   behavioral_avoidance         26499 non-null  float64\n",
      " 4   behavioral_face_mask         26688 non-null  float64\n",
      " 5   behavioral_wash_hands        26665 non-null  float64\n",
      " 6   behavioral_large_gatherings  26620 non-null  float64\n",
      " 7   behavioral_outside_home      26625 non-null  float64\n",
      " 8   behavioral_touch_face        26579 non-null  float64\n",
      " 9   doctor_recc_h1n1             24547 non-null  float64\n",
      " 10  doctor_recc_seasonal         24547 non-null  float64\n",
      " 11  chronic_med_condition        25736 non-null  float64\n",
      " 12  child_under_6_months         25887 non-null  float64\n",
      " 13  health_worker                25903 non-null  float64\n",
      " 14  health_insurance             14433 non-null  float64\n",
      " 15  opinion_h1n1_vacc_effective  26316 non-null  float64\n",
      " 16  opinion_h1n1_risk            26319 non-null  float64\n",
      " 17  opinion_h1n1_sick_from_vacc  26312 non-null  float64\n",
      " 18  opinion_seas_vacc_effective  26245 non-null  float64\n",
      " 19  opinion_seas_risk            26193 non-null  float64\n",
      " 20  opinion_seas_sick_from_vacc  26170 non-null  float64\n",
      " 21  age_group                    26707 non-null  object \n",
      " 22  education                    25300 non-null  object \n",
      " 23  race                         26707 non-null  object \n",
      " 24  sex                          26707 non-null  object \n",
      " 25  income_poverty               22284 non-null  object \n",
      " 26  marital_status               25299 non-null  object \n",
      " 27  rent_or_own                  24665 non-null  object \n",
      " 28  employment_status            25244 non-null  object \n",
      " 29  hhs_geo_region               26707 non-null  object \n",
      " 30  census_msa                   26707 non-null  object \n",
      " 31  household_adults             26458 non-null  float64\n",
      " 32  household_children           26458 non-null  float64\n",
      " 33  employment_industry          13377 non-null  object \n",
      " 34  employment_occupation        13237 non-null  object \n",
      "dtypes: float64(23), object(12)\n",
      "memory usage: 7.3+ MB\n"
     ]
    }
   ],
   "source": [
    "X.info()"
   ]
  },
  {
   "cell_type": "code",
   "execution_count": 14,
   "id": "34f39dc9-1e93-47cc-acf9-34f02dd97ad9",
   "metadata": {},
   "outputs": [
    {
     "name": "stdout",
     "output_type": "stream",
     "text": [
      "<class 'pandas.core.frame.DataFrame'>\n",
      "Int64Index: 26707 entries, 0 to 26706\n",
      "Data columns (total 2 columns):\n",
      " #   Column            Non-Null Count  Dtype\n",
      "---  ------            --------------  -----\n",
      " 0   h1n1_vaccine      26707 non-null  int64\n",
      " 1   seasonal_vaccine  26707 non-null  int64\n",
      "dtypes: int64(2)\n",
      "memory usage: 625.9 KB\n"
     ]
    }
   ],
   "source": [
    "y.info()"
   ]
  },
  {
   "cell_type": "code",
   "execution_count": null,
   "id": "85e35787-4bae-4962-ac5d-7eb8d65e3070",
   "metadata": {},
   "outputs": [],
   "source": []
  },
  {
   "cell_type": "code",
   "execution_count": null,
   "id": "4176c3b9-cc49-4d9b-961c-e9c98da558d0",
   "metadata": {},
   "outputs": [],
   "source": []
  },
  {
   "cell_type": "code",
   "execution_count": null,
   "id": "04426246-7358-4ac8-96d6-60e793ce8fb9",
   "metadata": {},
   "outputs": [],
   "source": []
  },
  {
   "cell_type": "code",
   "execution_count": null,
   "id": "4d15d46e-6991-4ac2-aaaa-66289d693269",
   "metadata": {},
   "outputs": [],
   "source": []
  },
  {
   "cell_type": "code",
   "execution_count": null,
   "id": "7cce0c69-02a4-4261-aa17-a716452b3846",
   "metadata": {},
   "outputs": [],
   "source": []
  },
  {
   "cell_type": "code",
   "execution_count": null,
   "id": "e381e3dd-eba0-415c-8466-8771a80db319",
   "metadata": {},
   "outputs": [],
   "source": []
  },
  {
   "cell_type": "markdown",
   "id": "dd862fa2-3582-4f32-aa68-b6f1d4c5e304",
   "metadata": {},
   "source": [
    "### To Pipeline? Or not to Pipeline?\n",
    "\n",
    "For now, while exploring and experimenting with the data, we'll do things manually. Once we've settled on some models and cleaning strategies, we'll refactor the code into a pipeline."
   ]
  },
  {
   "cell_type": "markdown",
   "id": "212d21c7-19e6-44a4-8b5c-7ae5bcc38b8c",
   "metadata": {},
   "source": [
    "# First Model: Basic Logistic Regression\n",
    "\n",
    "To begin, we'll fit a basic logistic regression to the data. The only thing we'll do to prepare the data is to impute missing values (since most categories, including the numeric ones, are categorical, we'll go with the mode), one-hot encode the non-numeric columns, and scale the numeric columns. But first, a train-test split!"
   ]
  },
  {
   "cell_type": "code",
   "execution_count": 15,
   "id": "8ddb9de2-c580-41f7-b605-07678698c6a5",
   "metadata": {
    "tags": []
   },
   "outputs": [],
   "source": [
    "X_train, X_test, y_train, y_test = train_test_split(X, y, test_size=.2, random_state=42)"
   ]
  },
  {
   "cell_type": "code",
   "execution_count": 16,
   "id": "d7794547-2cc8-4aec-b043-ee1f26fae667",
   "metadata": {
    "tags": []
   },
   "outputs": [],
   "source": [
    "numeric_columns = list(X.columns[X.dtypes == 'float64'].values)\n",
    "cat_columns = list(X.columns[X.dtypes == 'object'].values)"
   ]
  },
  {
   "cell_type": "markdown",
   "id": "b40c5828-d889-487f-aa25-9d82bec78496",
   "metadata": {},
   "source": [
    "### Simple Imputer"
   ]
  },
  {
   "cell_type": "code",
   "execution_count": 17,
   "id": "c1289cf4-fbfe-4fa8-96a8-fe2f087cf95b",
   "metadata": {
    "tags": []
   },
   "outputs": [],
   "source": [
    "imputer = SimpleImputer(missing_values=np.nan, strategy='most_frequent')\n",
    "\n",
    "imputer.fit(X_train)\n",
    "\n",
    "X_train_imp = pd.DataFrame(imputer.transform(X_train), columns=X_train.columns, index=X_train.index)\n",
    "X_test_imp = pd.DataFrame(imputer.transform(X_test), columns=X_test.columns, index=X_test.index)"
   ]
  },
  {
   "cell_type": "code",
   "execution_count": 18,
   "id": "d0a27c29-b65a-4887-a1ac-f2cd5833189e",
   "metadata": {},
   "outputs": [
    {
     "data": {
      "text/plain": [
       "h1n1_concern                   0\n",
       "h1n1_knowledge                 0\n",
       "behavioral_antiviral_meds      0\n",
       "behavioral_avoidance           0\n",
       "behavioral_face_mask           0\n",
       "behavioral_wash_hands          0\n",
       "behavioral_large_gatherings    0\n",
       "behavioral_outside_home        0\n",
       "behavioral_touch_face          0\n",
       "doctor_recc_h1n1               0\n",
       "doctor_recc_seasonal           0\n",
       "chronic_med_condition          0\n",
       "child_under_6_months           0\n",
       "health_worker                  0\n",
       "health_insurance               0\n",
       "opinion_h1n1_vacc_effective    0\n",
       "opinion_h1n1_risk              0\n",
       "opinion_h1n1_sick_from_vacc    0\n",
       "opinion_seas_vacc_effective    0\n",
       "opinion_seas_risk              0\n",
       "opinion_seas_sick_from_vacc    0\n",
       "age_group                      0\n",
       "education                      0\n",
       "race                           0\n",
       "sex                            0\n",
       "income_poverty                 0\n",
       "marital_status                 0\n",
       "rent_or_own                    0\n",
       "employment_status              0\n",
       "hhs_geo_region                 0\n",
       "census_msa                     0\n",
       "household_adults               0\n",
       "household_children             0\n",
       "employment_industry            0\n",
       "employment_occupation          0\n",
       "dtype: int64"
      ]
     },
     "execution_count": 18,
     "metadata": {},
     "output_type": "execute_result"
    }
   ],
   "source": [
    "X_train_imp.isna().sum()"
   ]
  },
  {
   "cell_type": "markdown",
   "id": "1551b212-b41b-49f1-8235-3595ca8a6532",
   "metadata": {},
   "source": [
    "### One Hot Encoder"
   ]
  },
  {
   "cell_type": "code",
   "execution_count": 19,
   "id": "2e7360e8-543d-494f-885e-1685a664c18d",
   "metadata": {
    "tags": []
   },
   "outputs": [
    {
     "name": "stderr",
     "output_type": "stream",
     "text": [
      "/Users/jeff/opt/anaconda3/lib/python3.9/site-packages/sklearn/utils/deprecation.py:87: FutureWarning: Function get_feature_names is deprecated; get_feature_names is deprecated in 1.0 and will be removed in 1.2. Please use get_feature_names_out instead.\n",
      "  warnings.warn(msg, category=FutureWarning)\n",
      "/Users/jeff/opt/anaconda3/lib/python3.9/site-packages/sklearn/utils/deprecation.py:87: FutureWarning: Function get_feature_names is deprecated; get_feature_names is deprecated in 1.0 and will be removed in 1.2. Please use get_feature_names_out instead.\n",
      "  warnings.warn(msg, category=FutureWarning)\n"
     ]
    }
   ],
   "source": [
    "X_train_cat = X_train_imp[cat_columns]\n",
    "X_test_cat = X_test_imp[cat_columns]\n",
    "\n",
    "ohe = OneHotEncoder(categories=\"auto\", handle_unknown=\"ignore\", sparse=False)\n",
    "\n",
    "X_train_ohe = pd.DataFrame(ohe.fit_transform(X_train_cat), columns=ohe.get_feature_names(), index=X_train_cat.index)\n",
    "X_test_ohe = pd.DataFrame(ohe.transform(X_test_cat), columns=ohe.get_feature_names(), index=X_test_cat.index)\n",
    "\n",
    "X_train_ohe = pd.concat([X_train_imp[numeric_columns], X_train_ohe], axis=1)\n",
    "X_test_ohe = pd.concat([X_test_imp[numeric_columns], X_test_ohe], axis=1)"
   ]
  },
  {
   "cell_type": "code",
   "execution_count": 20,
   "id": "9761df01-0e4d-419a-b511-f22e58cf74c0",
   "metadata": {},
   "outputs": [
    {
     "data": {
      "text/plain": [
       "h1n1_concern                 0\n",
       "h1n1_knowledge               0\n",
       "behavioral_antiviral_meds    0\n",
       "behavioral_avoidance         0\n",
       "behavioral_face_mask         0\n",
       "                            ..\n",
       "x11_vlluhbov                 0\n",
       "x11_xgwztkwe                 0\n",
       "x11_xqwwgdyp                 0\n",
       "x11_xtkaffoo                 0\n",
       "x11_xzmlyyjv                 0\n",
       "Length: 105, dtype: int64"
      ]
     },
     "execution_count": 20,
     "metadata": {},
     "output_type": "execute_result"
    }
   ],
   "source": [
    "X_train_ohe.isna().sum()"
   ]
  },
  {
   "cell_type": "markdown",
   "id": "6454cbe7-5ea7-40e2-b15e-7053a11637c6",
   "metadata": {},
   "source": [
    "### Standard Scaler"
   ]
  },
  {
   "cell_type": "code",
   "execution_count": 21,
   "id": "7a6c5e66-1fe9-4c1b-94fe-ef36a182d518",
   "metadata": {
    "tags": []
   },
   "outputs": [],
   "source": [
    "ss = StandardScaler()\n",
    "\n",
    "X_train_scaled = pd.DataFrame(ss.fit_transform(X_train_ohe), columns=X_train_ohe.columns, index=X_train_ohe.index)\n",
    "X_test_scaled = pd.DataFrame(ss.transform(X_test_ohe), columns=X_test_ohe.columns, index=X_test_ohe.index)"
   ]
  },
  {
   "cell_type": "markdown",
   "id": "08941494-5801-42b2-9727-833003eb8002",
   "metadata": {},
   "source": [
    "Something that we're doing is indroducing NaNs back into the data, perhaps something like dividing by zero. We'll remove those for now, but we'll need to figure out what caused that to avoid it moving forward."
   ]
  },
  {
   "cell_type": "code",
   "execution_count": null,
   "id": "f845076d-a1bc-4d21-877e-1c385a352a45",
   "metadata": {},
   "outputs": [],
   "source": []
  },
  {
   "cell_type": "markdown",
   "id": "e687426d-d079-402a-bff1-d567a58b583c",
   "metadata": {},
   "source": [
    "### Fitting a model"
   ]
  },
  {
   "cell_type": "code",
   "execution_count": 22,
   "id": "5e7bd46d-d1ed-4f59-8976-294cd526901c",
   "metadata": {
    "tags": []
   },
   "outputs": [],
   "source": [
    "log_reg = LogisticRegression()\n",
    "multi_reg = MultiOutputClassifier(log_reg)\n",
    "\n",
    "multi_reg.fit(X_train_scaled, y_train);"
   ]
  },
  {
   "cell_type": "code",
   "execution_count": 23,
   "id": "e81f8854-fd30-4a8d-9c74-ce0d4b9cab0a",
   "metadata": {
    "tags": []
   },
   "outputs": [
    {
     "name": "stderr",
     "output_type": "stream",
     "text": [
      "/Users/jeff/opt/anaconda3/lib/python3.9/site-packages/sklearn/utils/deprecation.py:87: FutureWarning: Function plot_confusion_matrix is deprecated; Function `plot_confusion_matrix` is deprecated in 1.0 and will be removed in 1.2. Use one of the class methods: ConfusionMatrixDisplay.from_predictions or ConfusionMatrixDisplay.from_estimator.\n",
      "  warnings.warn(msg, category=FutureWarning)\n",
      "/Users/jeff/opt/anaconda3/lib/python3.9/site-packages/sklearn/utils/deprecation.py:87: FutureWarning: Function plot_confusion_matrix is deprecated; Function `plot_confusion_matrix` is deprecated in 1.0 and will be removed in 1.2. Use one of the class methods: ConfusionMatrixDisplay.from_predictions or ConfusionMatrixDisplay.from_estimator.\n",
      "  warnings.warn(msg, category=FutureWarning)\n"
     ]
    },
    {
     "data": {
      "image/png": "[encoded data removed]",
      "text/plain": [
       "<Figure size 432x288 with 2 Axes>"
      ]
     },
     "metadata": {
      "needs_background": "light"
     },
     "output_type": "display_data"
    },
    {
     "data": {
      "image/png": "[encoded data removed]",
      "text/plain": [
       "<Figure size 432x288 with 2 Axes>"
      ]
     },
     "metadata": {
      "needs_background": "light"
     },
     "output_type": "display_data"
    }
   ],
   "source": [
    "log_reg.fit(X_train_scaled, y_train.iloc[:,0])\n",
    "plot_confusion_matrix(log_reg, X_test_scaled, y_test.iloc[:,0]);\n",
    "\n",
    "log_reg.fit(X_train_scaled, y_train.iloc[:,1])\n",
    "plot_confusion_matrix(log_reg, X_test_scaled, y_test.iloc[:,1]);"
   ]
  },
  {
   "cell_type": "code",
   "execution_count": 24,
   "id": "d35860c6-5ae8-4a8c-a88f-5c382ba41436",
   "metadata": {
    "tags": []
   },
   "outputs": [
    {
     "name": "stdout",
     "output_type": "stream",
     "text": [
      "Recall for H1N1:            0.4265486725663717\n",
      "Recall for seasonal flu:    0.7458180334557324\n",
      "\n",
      "Precision for H1N1:         0.6985507246376812\n",
      "Precision for seasonal flu: 0.7801963294921042\n",
      "\n",
      "Accuracy for H1N1:          0.8397603893672781\n",
      "Accuracy for seasonal flu:  0.7869711718457506\n",
      "\n",
      "F1 score for H1N1:          0.5296703296703297\n",
      "F1 score for seasonal flu:  0.7626199415936588\n",
      "\n",
      "AUROC for H1N1:             0.6885829782584945\n",
      "AUROC for seasonal flu:     0.7838394906123352\n"
     ]
    }
   ],
   "source": [
    "y_hat = multi_reg.predict(X_test_scaled)\n",
    "\n",
    "print(f'Recall for H1N1:            {recall_score(y_test.iloc[:,0], y_hat[:,0])}')\n",
    "print(f'Recall for seasonal flu:    {recall_score(y_test.iloc[:,1], y_hat[:,1])}\\n')\n",
    "print(f'Precision for H1N1:         {precision_score(y_test.iloc[:,0], y_hat[:,0])}')\n",
    "print(f'Precision for seasonal flu: {precision_score(y_test.iloc[:,1], y_hat[:,1])}\\n')\n",
    "print(f'Accuracy for H1N1:          {accuracy_score(y_test.iloc[:,0], y_hat[:,0])}')\n",
    "print(f'Accuracy for seasonal flu:  {accuracy_score(y_test.iloc[:,1], y_hat[:,1])}\\n')\n",
    "print(f'F1 score for H1N1:          {f1_score(y_test.iloc[:,0], y_hat[:,0])}')\n",
    "print(f'F1 score for seasonal flu:  {f1_score(y_test.iloc[:,1], y_hat[:,1])}\\n')\n",
    "print(f'AUROC for H1N1:             {roc_auc_score(y_test.iloc[:,0], y_hat[:,0])}')\n",
    "print(f'AUROC for seasonal flu:     {roc_auc_score(y_test.iloc[:,1], y_hat[:,1])}')"
   ]
  },
  {
   "cell_type": "code",
   "execution_count": null,
   "id": "f474efcf-6bae-4e86-ad6f-9fa7ab22fa45",
   "metadata": {},
   "outputs": [],
   "source": []
  },
  {
   "cell_type": "markdown",
   "id": "ec95a851-29ef-4b63-8e0d-514572fd8808",
   "metadata": {},
   "source": [
    "## Hist Gradient Boosting Baseline Model"
   ]
  },
  {
   "cell_type": "code",
   "execution_count": 25,
   "id": "cd4126e1-57d9-4c5f-b599-ff16e3ca4f14",
   "metadata": {},
   "outputs": [],
   "source": [
    "from sklearn.ensemble import HistGradientBoostingClassifier\n",
    "\n",
    "y_train_h1n1 = y_train.iloc[:,0]\n",
    "y_train_ssnl =y_train.iloc[:,1]\n",
    "y_test_h1n1 = y_test.iloc[:,0]\n",
    "y_test_ssnl =y_test.iloc[:,1]"
   ]
  },
  {
   "cell_type": "code",
   "execution_count": 26,
   "id": "e6e58c44-8b19-4488-935a-58e71f5d1683",
   "metadata": {},
   "outputs": [
    {
     "name": "stderr",
     "output_type": "stream",
     "text": [
      "/Users/jeff/opt/anaconda3/lib/python3.9/site-packages/sklearn/utils/deprecation.py:87: FutureWarning: Function plot_confusion_matrix is deprecated; Function `plot_confusion_matrix` is deprecated in 1.0 and will be removed in 1.2. Use one of the class methods: ConfusionMatrixDisplay.from_predictions or ConfusionMatrixDisplay.from_estimator.\n",
      "  warnings.warn(msg, category=FutureWarning)\n",
      "/Users/jeff/opt/anaconda3/lib/python3.9/site-packages/sklearn/utils/deprecation.py:87: FutureWarning: Function plot_confusion_matrix is deprecated; Function `plot_confusion_matrix` is deprecated in 1.0 and will be removed in 1.2. Use one of the class methods: ConfusionMatrixDisplay.from_predictions or ConfusionMatrixDisplay.from_estimator.\n",
      "  warnings.warn(msg, category=FutureWarning)\n"
     ]
    },
    {
     "data": {
      "image/png": "[encoded data removed]",
      "text/plain": [
       "<Figure size 432x288 with 2 Axes>"
      ]
     },
     "metadata": {
      "needs_background": "light"
     },
     "output_type": "display_data"
    },
    {
     "data": {
      "image/png": "[encoded data removed]",
      "text/plain": [
       "<Figure size 432x288 with 2 Axes>"
      ]
     },
     "metadata": {
      "needs_background": "light"
     },
     "output_type": "display_data"
    }
   ],
   "source": [
    "model_baseline_h1n1 = HistGradientBoostingClassifier()\n",
    "model_baseline_ssnl = HistGradientBoostingClassifier()\n",
    "\n",
    "model_baseline_h1n1.fit(X_train_scaled, y_train_h1n1)\n",
    "plot_confusion_matrix(model_baseline_h1n1, X_test_scaled, y_test_h1n1);\n",
    "\n",
    "model_baseline_ssnl.fit(X_train_scaled, y_train_ssnl)\n",
    "plot_confusion_matrix(model_baseline_ssnl, X_test_scaled, y_test_ssnl);\n"
   ]
  },
  {
   "cell_type": "code",
   "execution_count": 27,
   "id": "74418953-9638-441f-831a-21d0247260b7",
   "metadata": {},
   "outputs": [],
   "source": [
    "# For scoring\n",
    "\n",
    "y_hat_h1n1_1 = model_baseline_h1n1.predict(X_test_scaled)\n",
    "y_hat_ssnl_1 = model_baseline_ssnl.predict(X_test_scaled)\n",
    "y_proba_h1n1_1 = model_baseline_h1n1.predict_proba(X_test_scaled)\n",
    "y_proba_ssnl_1 = model_baseline_ssnl.predict_proba(X_test_scaled)"
   ]
  },
  {
   "cell_type": "code",
   "execution_count": 28,
   "id": "bbbe37a0-8755-4f4c-81a7-90018322f086",
   "metadata": {},
   "outputs": [
    {
     "name": "stdout",
     "output_type": "stream",
     "text": [
      "Recall for H1N1:            0.4646017699115044\n",
      "Recall for seasonal flu:    0.762545899632803\n",
      "\n",
      "Precision for H1N1:         0.6653992395437263\n",
      "Precision for seasonal flu: 0.7691358024691358\n",
      "\n",
      "Accuracy for H1N1:          0.8373268438786972\n",
      "Accuracy for seasonal flu:  0.786035192811681\n",
      "\n",
      "F1 score for H1N1:          0.5471599791558103\n",
      "F1 score for seasonal flu:  0.7658266748617087\n",
      "\n",
      "AUROC for H1N1:             0.838498936876518\n",
      "AUROC for seasonal flu:     0.8608410772976701\n"
     ]
    }
   ],
   "source": [
    "print(f'Recall for H1N1:            {recall_score(y_test_h1n1, y_hat_h1n1_1)}')\n",
    "print(f'Recall for seasonal flu:    {recall_score(y_test_ssnl, y_hat_ssnl_1)}\\n')\n",
    "print(f'Precision for H1N1:         {precision_score(y_test_h1n1, y_hat_h1n1_1)}')\n",
    "print(f'Precision for seasonal flu: {precision_score(y_test_ssnl, y_hat_ssnl_1)}\\n')\n",
    "print(f'Accuracy for H1N1:          {accuracy_score(y_test_h1n1, y_hat_h1n1_1)}')\n",
    "print(f'Accuracy for seasonal flu:  {accuracy_score(y_test_ssnl, y_hat_ssnl_1)}\\n')\n",
    "print(f'F1 score for H1N1:          {f1_score(y_test_h1n1, y_hat_h1n1_1)}')\n",
    "print(f'F1 score for seasonal flu:  {f1_score(y_test_ssnl, y_hat_ssnl_1)}\\n')\n",
    "print(f'AUROC for H1N1:             {roc_auc_score(y_test_h1n1, y_proba_h1n1_1[:,1])}')\n",
    "print(f'AUROC for seasonal flu:     {roc_auc_score(y_test_ssnl, y_proba_ssnl_1[:,1])}')"
   ]
  },
  {
   "cell_type": "code",
   "execution_count": null,
   "id": "6340dda5-dae4-4221-8a7f-e1d5bcf2ee1d",
   "metadata": {},
   "outputs": [],
   "source": []
  },
  {
   "cell_type": "markdown",
   "id": "75ec738b-af83-461c-8208-8bb85bafead0",
   "metadata": {},
   "source": [
    "## Hist Gradient Boosting Model 2"
   ]
  },
  {
   "cell_type": "markdown",
   "id": "dfc90d30-d533-4ab0-a512-e9d2aa29a681",
   "metadata": {},
   "source": [
    "HistGradientBoosting(loss='auto', *, learning_rate=0.1, max_iter=100, max_leaf_nodes=31, max_depth=None, min_samples_leaf=20, l2_regularization=0.0, max_bins=255, categorical_features=None, monotonic_cst=None, warm_start=False, early_stopping='auto', scoring='loss', validation_fraction=0.1, n_iter_no_change=10, tol=1e-07, verbose=0, random_state=None)[source]¶"
   ]
  },
  {
   "cell_type": "markdown",
   "id": "b6f833be-a569-4843-a95b-a180f9fc557f",
   "metadata": {},
   "source": [
    "### H1N1 Model"
   ]
  },
  {
   "cell_type": "markdown",
   "id": "8185e6ca-7828-4f9d-b2e6-1c77f71dac9f",
   "metadata": {},
   "source": [
    "In the succeeding models, we'll use GridSearchCV to search for the best hyperparameters from lists we provide.  This model will use 3 of the most commonly adjusted hyperparameters - max_iter, max_depth and learning_rate."
   ]
  },
  {
   "cell_type": "code",
   "execution_count": 29,
   "id": "5ca961fa-8b82-4a51-acd6-1dea57488ebf",
   "metadata": {},
   "outputs": [],
   "source": [
    "# Create parameters to iterate\n",
    "\n",
    "model_2_h1n1 = HistGradientBoostingClassifier()\n",
    "parameters = {\n",
    "    \"max_iter\":[10, 30, 50, 70, 100],\n",
    "    \"max_depth\":[1,3,5,7,9],\n",
    "    \"learning_rate\":[0.01,0.1,1,10,100]\n",
    "}"
   ]
  },
  {
   "cell_type": "code",
   "execution_count": 30,
   "id": "eb4131a3-14ca-41e8-b361-a533c8756c2d",
   "metadata": {},
   "outputs": [
    {
     "data": {
      "text/plain": [
       "GridSearchCV(cv=5, estimator=HistGradientBoostingClassifier(),\n",
       "             param_grid={'learning_rate': [0.01, 0.1, 1, 10, 100],\n",
       "                         'max_depth': [1, 3, 5, 7, 9],\n",
       "                         'max_iter': [10, 30, 50, 70, 100]})"
      ]
     },
     "execution_count": 30,
     "metadata": {},
     "output_type": "execute_result"
    }
   ],
   "source": [
    "# GridSearchCV\n",
    "\n",
    "cv_h1n1 = GridSearchCV(model_2_h1n1,parameters,cv=5)\n",
    "cv_h1n1.fit(X_train_scaled, y_train_h1n1.values.ravel())"
   ]
  },
  {
   "cell_type": "code",
   "execution_count": 31,
   "id": "6588dfd2-0f9c-4257-8a0d-428e46428b49",
   "metadata": {},
   "outputs": [],
   "source": [
    "# Function to print the best parameters\n",
    "\n",
    "def display(results):\n",
    "    print(f'Best parameters are: {results.best_params_}')\n",
    "    print(\"\\n\")\n",
    "#    mean_score = results.cv_results_['mean_test_score']\n",
    "#    std_score = results.cv_results_['std_test_score']\n",
    "#    params = results.cv_results_['params']\n",
    "#    for mean,std,params in zip(mean_score,std_score,params):\n",
    "#        print(f'{round(mean,3)} + or -{round(std,3)} for the {params}')"
   ]
  },
  {
   "cell_type": "code",
   "execution_count": 32,
   "id": "11f06e15-8354-4c99-807a-f2e247151154",
   "metadata": {},
   "outputs": [
    {
     "name": "stdout",
     "output_type": "stream",
     "text": [
      "Best parameters are: {'learning_rate': 0.1, 'max_depth': 3, 'max_iter': 100}\n",
      "\n",
      "\n"
     ]
    }
   ],
   "source": [
    "display(cv_h1n1) # best parameters"
   ]
  },
  {
   "cell_type": "code",
   "execution_count": null,
   "id": "4acbad70-40db-43e9-96a2-af4488693d35",
   "metadata": {},
   "outputs": [],
   "source": []
  },
  {
   "cell_type": "markdown",
   "id": "6ca0ab65-5b4d-4cf6-a394-a4ca615f309e",
   "metadata": {},
   "source": [
    "#### SSNL Model"
   ]
  },
  {
   "cell_type": "code",
   "execution_count": 33,
   "id": "f9277dce-0dbb-4b1e-a1cb-f8096b240c56",
   "metadata": {},
   "outputs": [],
   "source": [
    "# Create parameters to iterate\n",
    "\n",
    "model_2_ssnl = HistGradientBoostingClassifier()\n",
    "parameters = {\n",
    "    \"max_iter\":[10, 30, 50, 70, 100],\n",
    "    \"max_depth\":[1,3,5,7,9],\n",
    "    \"learning_rate\":[0.01,0.1,1,10,100]\n",
    "}"
   ]
  },
  {
   "cell_type": "code",
   "execution_count": 34,
   "id": "fb3fb358-e489-40ad-9288-925b964b1371",
   "metadata": {},
   "outputs": [
    {
     "ename": "KeyboardInterrupt",
     "evalue": "",
     "output_type": "error",
     "traceback": [
      "\u001b[0;31m---------------------------------------------------------------------------\u001b[0m",
      "\u001b[0;31mKeyboardInterrupt\u001b[0m                         Traceback (most recent call last)",
      "\u001b[0;32m/var/folders/vy/49_tcw8x7j3_jxs3gwg4y6v00000gn/T/ipykernel_14588/3737606535.py\u001b[0m in \u001b[0;36m<module>\u001b[0;34m\u001b[0m\n\u001b[1;32m      2\u001b[0m \u001b[0;34m\u001b[0m\u001b[0m\n\u001b[1;32m      3\u001b[0m \u001b[0mcv_ssnl\u001b[0m \u001b[0;34m=\u001b[0m \u001b[0mGridSearchCV\u001b[0m\u001b[0;34m(\u001b[0m\u001b[0mmodel_2_ssnl\u001b[0m\u001b[0;34m,\u001b[0m\u001b[0mparameters\u001b[0m\u001b[0;34m,\u001b[0m\u001b[0mcv\u001b[0m\u001b[0;34m=\u001b[0m\u001b[0;36m5\u001b[0m\u001b[0;34m)\u001b[0m\u001b[0;34m\u001b[0m\u001b[0;34m\u001b[0m\u001b[0m\n\u001b[0;32m----> 4\u001b[0;31m \u001b[0mcv_ssnl\u001b[0m\u001b[0;34m.\u001b[0m\u001b[0mfit\u001b[0m\u001b[0;34m(\u001b[0m\u001b[0mX_train_scaled\u001b[0m\u001b[0;34m,\u001b[0m \u001b[0my_train_ssnl\u001b[0m\u001b[0;34m.\u001b[0m\u001b[0mvalues\u001b[0m\u001b[0;34m.\u001b[0m\u001b[0mravel\u001b[0m\u001b[0;34m(\u001b[0m\u001b[0;34m)\u001b[0m\u001b[0;34m)\u001b[0m\u001b[0;34m\u001b[0m\u001b[0;34m\u001b[0m\u001b[0m\n\u001b[0m",
      "\u001b[0;32m~/opt/anaconda3/lib/python3.9/site-packages/sklearn/model_selection/_search.py\u001b[0m in \u001b[0;36mfit\u001b[0;34m(self, X, y, groups, **fit_params)\u001b[0m\n\u001b[1;32m    889\u001b[0m                 \u001b[0;32mreturn\u001b[0m \u001b[0mresults\u001b[0m\u001b[0;34m\u001b[0m\u001b[0;34m\u001b[0m\u001b[0m\n\u001b[1;32m    890\u001b[0m \u001b[0;34m\u001b[0m\u001b[0m\n\u001b[0;32m--> 891\u001b[0;31m             \u001b[0mself\u001b[0m\u001b[0;34m.\u001b[0m\u001b[0m_run_search\u001b[0m\u001b[0;34m(\u001b[0m\u001b[0mevaluate_candidates\u001b[0m\u001b[0;34m)\u001b[0m\u001b[0;34m\u001b[0m\u001b[0;34m\u001b[0m\u001b[0m\n\u001b[0m\u001b[1;32m    892\u001b[0m \u001b[0;34m\u001b[0m\u001b[0m\n\u001b[1;32m    893\u001b[0m             \u001b[0;31m# multimetric is determined here because in the case of a callable\u001b[0m\u001b[0;34m\u001b[0m\u001b[0;34m\u001b[0m\u001b[0m\n",
      "\u001b[0;32m~/opt/anaconda3/lib/python3.9/site-packages/sklearn/model_selection/_search.py\u001b[0m in \u001b[0;36m_run_search\u001b[0;34m(self, evaluate_candidates)\u001b[0m\n\u001b[1;32m   1390\u001b[0m     \u001b[0;32mdef\u001b[0m \u001b[0m_run_search\u001b[0m\u001b[0;34m(\u001b[0m\u001b[0mself\u001b[0m\u001b[0;34m,\u001b[0m \u001b[0mevaluate_candidates\u001b[0m\u001b[0;34m)\u001b[0m\u001b[0;34m:\u001b[0m\u001b[0;34m\u001b[0m\u001b[0;34m\u001b[0m\u001b[0m\n\u001b[1;32m   1391\u001b[0m         \u001b[0;34m\"\"\"Search all candidates in param_grid\"\"\"\u001b[0m\u001b[0;34m\u001b[0m\u001b[0;34m\u001b[0m\u001b[0m\n\u001b[0;32m-> 1392\u001b[0;31m         \u001b[0mevaluate_candidates\u001b[0m\u001b[0;34m(\u001b[0m\u001b[0mParameterGrid\u001b[0m\u001b[0;34m(\u001b[0m\u001b[0mself\u001b[0m\u001b[0;34m.\u001b[0m\u001b[0mparam_grid\u001b[0m\u001b[0;34m)\u001b[0m\u001b[0;34m)\u001b[0m\u001b[0;34m\u001b[0m\u001b[0;34m\u001b[0m\u001b[0m\n\u001b[0m\u001b[1;32m   1393\u001b[0m \u001b[0;34m\u001b[0m\u001b[0m\n\u001b[1;32m   1394\u001b[0m \u001b[0;34m\u001b[0m\u001b[0m\n",
      "\u001b[0;32m~/opt/anaconda3/lib/python3.9/site-packages/sklearn/model_selection/_search.py\u001b[0m in \u001b[0;36mevaluate_candidates\u001b[0;34m(candidate_params, cv, more_results)\u001b[0m\n\u001b[1;32m    836\u001b[0m                     )\n\u001b[1;32m    837\u001b[0m \u001b[0;34m\u001b[0m\u001b[0m\n\u001b[0;32m--> 838\u001b[0;31m                 out = parallel(\n\u001b[0m\u001b[1;32m    839\u001b[0m                     delayed(_fit_and_score)(\n\u001b[1;32m    840\u001b[0m                         \u001b[0mclone\u001b[0m\u001b[0;34m(\u001b[0m\u001b[0mbase_estimator\u001b[0m\u001b[0;34m)\u001b[0m\u001b[0;34m,\u001b[0m\u001b[0;34m\u001b[0m\u001b[0;34m\u001b[0m\u001b[0m\n",
      "\u001b[0;32m~/opt/anaconda3/lib/python3.9/site-packages/joblib/parallel.py\u001b[0m in \u001b[0;36m__call__\u001b[0;34m(self, iterable)\u001b[0m\n\u001b[1;32m   1044\u001b[0m                 \u001b[0mself\u001b[0m\u001b[0;34m.\u001b[0m\u001b[0m_iterating\u001b[0m \u001b[0;34m=\u001b[0m \u001b[0mself\u001b[0m\u001b[0;34m.\u001b[0m\u001b[0m_original_iterator\u001b[0m \u001b[0;32mis\u001b[0m \u001b[0;32mnot\u001b[0m \u001b[0;32mNone\u001b[0m\u001b[0;34m\u001b[0m\u001b[0;34m\u001b[0m\u001b[0m\n\u001b[1;32m   1045\u001b[0m \u001b[0;34m\u001b[0m\u001b[0m\n\u001b[0;32m-> 1046\u001b[0;31m             \u001b[0;32mwhile\u001b[0m \u001b[0mself\u001b[0m\u001b[0;34m.\u001b[0m\u001b[0mdispatch_one_batch\u001b[0m\u001b[0;34m(\u001b[0m\u001b[0miterator\u001b[0m\u001b[0;34m)\u001b[0m\u001b[0;34m:\u001b[0m\u001b[0;34m\u001b[0m\u001b[0;34m\u001b[0m\u001b[0m\n\u001b[0m\u001b[1;32m   1047\u001b[0m                 \u001b[0;32mpass\u001b[0m\u001b[0;34m\u001b[0m\u001b[0;34m\u001b[0m\u001b[0m\n\u001b[1;32m   1048\u001b[0m \u001b[0;34m\u001b[0m\u001b[0m\n",
      "\u001b[0;32m~/opt/anaconda3/lib/python3.9/site-packages/joblib/parallel.py\u001b[0m in \u001b[0;36mdispatch_one_batch\u001b[0;34m(self, iterator)\u001b[0m\n\u001b[1;32m    859\u001b[0m                 \u001b[0;32mreturn\u001b[0m \u001b[0;32mFalse\u001b[0m\u001b[0;34m\u001b[0m\u001b[0;34m\u001b[0m\u001b[0m\n\u001b[1;32m    860\u001b[0m             \u001b[0;32melse\u001b[0m\u001b[0;34m:\u001b[0m\u001b[0;34m\u001b[0m\u001b[0;34m\u001b[0m\u001b[0m\n\u001b[0;32m--> 861\u001b[0;31m                 \u001b[0mself\u001b[0m\u001b[0;34m.\u001b[0m\u001b[0m_dispatch\u001b[0m\u001b[0;34m(\u001b[0m\u001b[0mtasks\u001b[0m\u001b[0;34m)\u001b[0m\u001b[0;34m\u001b[0m\u001b[0;34m\u001b[0m\u001b[0m\n\u001b[0m\u001b[1;32m    862\u001b[0m                 \u001b[0;32mreturn\u001b[0m \u001b[0;32mTrue\u001b[0m\u001b[0;34m\u001b[0m\u001b[0;34m\u001b[0m\u001b[0m\n\u001b[1;32m    863\u001b[0m \u001b[0;34m\u001b[0m\u001b[0m\n",
      "\u001b[0;32m~/opt/anaconda3/lib/python3.9/site-packages/joblib/parallel.py\u001b[0m in \u001b[0;36m_dispatch\u001b[0;34m(self, batch)\u001b[0m\n\u001b[1;32m    777\u001b[0m         \u001b[0;32mwith\u001b[0m \u001b[0mself\u001b[0m\u001b[0;34m.\u001b[0m\u001b[0m_lock\u001b[0m\u001b[0;34m:\u001b[0m\u001b[0;34m\u001b[0m\u001b[0;34m\u001b[0m\u001b[0m\n\u001b[1;32m    778\u001b[0m             \u001b[0mjob_idx\u001b[0m \u001b[0;34m=\u001b[0m \u001b[0mlen\u001b[0m\u001b[0;34m(\u001b[0m\u001b[0mself\u001b[0m\u001b[0;34m.\u001b[0m\u001b[0m_jobs\u001b[0m\u001b[0;34m)\u001b[0m\u001b[0;34m\u001b[0m\u001b[0;34m\u001b[0m\u001b[0m\n\u001b[0;32m--> 779\u001b[0;31m             \u001b[0mjob\u001b[0m \u001b[0;34m=\u001b[0m \u001b[0mself\u001b[0m\u001b[0;34m.\u001b[0m\u001b[0m_backend\u001b[0m\u001b[0;34m.\u001b[0m\u001b[0mapply_async\u001b[0m\u001b[0;34m(\u001b[0m\u001b[0mbatch\u001b[0m\u001b[0;34m,\u001b[0m \u001b[0mcallback\u001b[0m\u001b[0;34m=\u001b[0m\u001b[0mcb\u001b[0m\u001b[0;34m)\u001b[0m\u001b[0;34m\u001b[0m\u001b[0;34m\u001b[0m\u001b[0m\n\u001b[0m\u001b[1;32m    780\u001b[0m             \u001b[0;31m# A job can complete so quickly than its callback is\u001b[0m\u001b[0;34m\u001b[0m\u001b[0;34m\u001b[0m\u001b[0m\n\u001b[1;32m    781\u001b[0m             \u001b[0;31m# called before we get here, causing self._jobs to\u001b[0m\u001b[0;34m\u001b[0m\u001b[0;34m\u001b[0m\u001b[0m\n",
      "\u001b[0;32m~/opt/anaconda3/lib/python3.9/site-packages/joblib/_parallel_backends.py\u001b[0m in \u001b[0;36mapply_async\u001b[0;34m(self, func, callback)\u001b[0m\n\u001b[1;32m    206\u001b[0m     \u001b[0;32mdef\u001b[0m \u001b[0mapply_async\u001b[0m\u001b[0;34m(\u001b[0m\u001b[0mself\u001b[0m\u001b[0;34m,\u001b[0m \u001b[0mfunc\u001b[0m\u001b[0;34m,\u001b[0m \u001b[0mcallback\u001b[0m\u001b[0;34m=\u001b[0m\u001b[0;32mNone\u001b[0m\u001b[0;34m)\u001b[0m\u001b[0;34m:\u001b[0m\u001b[0;34m\u001b[0m\u001b[0;34m\u001b[0m\u001b[0m\n\u001b[1;32m    207\u001b[0m         \u001b[0;34m\"\"\"Schedule a func to be run\"\"\"\u001b[0m\u001b[0;34m\u001b[0m\u001b[0;34m\u001b[0m\u001b[0m\n\u001b[0;32m--> 208\u001b[0;31m         \u001b[0mresult\u001b[0m \u001b[0;34m=\u001b[0m \u001b[0mImmediateResult\u001b[0m\u001b[0;34m(\u001b[0m\u001b[0mfunc\u001b[0m\u001b[0;34m)\u001b[0m\u001b[0;34m\u001b[0m\u001b[0;34m\u001b[0m\u001b[0m\n\u001b[0m\u001b[1;32m    209\u001b[0m         \u001b[0;32mif\u001b[0m \u001b[0mcallback\u001b[0m\u001b[0;34m:\u001b[0m\u001b[0;34m\u001b[0m\u001b[0;34m\u001b[0m\u001b[0m\n\u001b[1;32m    210\u001b[0m             \u001b[0mcallback\u001b[0m\u001b[0;34m(\u001b[0m\u001b[0mresult\u001b[0m\u001b[0;34m)\u001b[0m\u001b[0;34m\u001b[0m\u001b[0;34m\u001b[0m\u001b[0m\n",
      "\u001b[0;32m~/opt/anaconda3/lib/python3.9/site-packages/joblib/_parallel_backends.py\u001b[0m in \u001b[0;36m__init__\u001b[0;34m(self, batch)\u001b[0m\n\u001b[1;32m    570\u001b[0m         \u001b[0;31m# Don't delay the application, to avoid keeping the input\u001b[0m\u001b[0;34m\u001b[0m\u001b[0;34m\u001b[0m\u001b[0m\n\u001b[1;32m    571\u001b[0m         \u001b[0;31m# arguments in memory\u001b[0m\u001b[0;34m\u001b[0m\u001b[0;34m\u001b[0m\u001b[0m\n\u001b[0;32m--> 572\u001b[0;31m         \u001b[0mself\u001b[0m\u001b[0;34m.\u001b[0m\u001b[0mresults\u001b[0m \u001b[0;34m=\u001b[0m \u001b[0mbatch\u001b[0m\u001b[0;34m(\u001b[0m\u001b[0;34m)\u001b[0m\u001b[0;34m\u001b[0m\u001b[0;34m\u001b[0m\u001b[0m\n\u001b[0m\u001b[1;32m    573\u001b[0m \u001b[0;34m\u001b[0m\u001b[0m\n\u001b[1;32m    574\u001b[0m     \u001b[0;32mdef\u001b[0m \u001b[0mget\u001b[0m\u001b[0;34m(\u001b[0m\u001b[0mself\u001b[0m\u001b[0;34m)\u001b[0m\u001b[0;34m:\u001b[0m\u001b[0;34m\u001b[0m\u001b[0;34m\u001b[0m\u001b[0m\n",
      "\u001b[0;32m~/opt/anaconda3/lib/python3.9/site-packages/joblib/parallel.py\u001b[0m in \u001b[0;36m__call__\u001b[0;34m(self)\u001b[0m\n\u001b[1;32m    260\u001b[0m         \u001b[0;31m# change the default number of processes to -1\u001b[0m\u001b[0;34m\u001b[0m\u001b[0;34m\u001b[0m\u001b[0m\n\u001b[1;32m    261\u001b[0m         \u001b[0;32mwith\u001b[0m \u001b[0mparallel_backend\u001b[0m\u001b[0;34m(\u001b[0m\u001b[0mself\u001b[0m\u001b[0;34m.\u001b[0m\u001b[0m_backend\u001b[0m\u001b[0;34m,\u001b[0m \u001b[0mn_jobs\u001b[0m\u001b[0;34m=\u001b[0m\u001b[0mself\u001b[0m\u001b[0;34m.\u001b[0m\u001b[0m_n_jobs\u001b[0m\u001b[0;34m)\u001b[0m\u001b[0;34m:\u001b[0m\u001b[0;34m\u001b[0m\u001b[0;34m\u001b[0m\u001b[0m\n\u001b[0;32m--> 262\u001b[0;31m             return [func(*args, **kwargs)\n\u001b[0m\u001b[1;32m    263\u001b[0m                     for func, args, kwargs in self.items]\n\u001b[1;32m    264\u001b[0m \u001b[0;34m\u001b[0m\u001b[0m\n",
      "\u001b[0;32m~/opt/anaconda3/lib/python3.9/site-packages/joblib/parallel.py\u001b[0m in \u001b[0;36m<listcomp>\u001b[0;34m(.0)\u001b[0m\n\u001b[1;32m    260\u001b[0m         \u001b[0;31m# change the default number of processes to -1\u001b[0m\u001b[0;34m\u001b[0m\u001b[0;34m\u001b[0m\u001b[0m\n\u001b[1;32m    261\u001b[0m         \u001b[0;32mwith\u001b[0m \u001b[0mparallel_backend\u001b[0m\u001b[0;34m(\u001b[0m\u001b[0mself\u001b[0m\u001b[0;34m.\u001b[0m\u001b[0m_backend\u001b[0m\u001b[0;34m,\u001b[0m \u001b[0mn_jobs\u001b[0m\u001b[0;34m=\u001b[0m\u001b[0mself\u001b[0m\u001b[0;34m.\u001b[0m\u001b[0m_n_jobs\u001b[0m\u001b[0;34m)\u001b[0m\u001b[0;34m:\u001b[0m\u001b[0;34m\u001b[0m\u001b[0;34m\u001b[0m\u001b[0m\n\u001b[0;32m--> 262\u001b[0;31m             return [func(*args, **kwargs)\n\u001b[0m\u001b[1;32m    263\u001b[0m                     for func, args, kwargs in self.items]\n\u001b[1;32m    264\u001b[0m \u001b[0;34m\u001b[0m\u001b[0m\n",
      "\u001b[0;32m~/opt/anaconda3/lib/python3.9/site-packages/sklearn/utils/fixes.py\u001b[0m in \u001b[0;36m__call__\u001b[0;34m(self, *args, **kwargs)\u001b[0m\n\u001b[1;32m    214\u001b[0m     \u001b[0;32mdef\u001b[0m \u001b[0m__call__\u001b[0m\u001b[0;34m(\u001b[0m\u001b[0mself\u001b[0m\u001b[0;34m,\u001b[0m \u001b[0;34m*\u001b[0m\u001b[0margs\u001b[0m\u001b[0;34m,\u001b[0m \u001b[0;34m**\u001b[0m\u001b[0mkwargs\u001b[0m\u001b[0;34m)\u001b[0m\u001b[0;34m:\u001b[0m\u001b[0;34m\u001b[0m\u001b[0;34m\u001b[0m\u001b[0m\n\u001b[1;32m    215\u001b[0m         \u001b[0;32mwith\u001b[0m \u001b[0mconfig_context\u001b[0m\u001b[0;34m(\u001b[0m\u001b[0;34m**\u001b[0m\u001b[0mself\u001b[0m\u001b[0;34m.\u001b[0m\u001b[0mconfig\u001b[0m\u001b[0;34m)\u001b[0m\u001b[0;34m:\u001b[0m\u001b[0;34m\u001b[0m\u001b[0;34m\u001b[0m\u001b[0m\n\u001b[0;32m--> 216\u001b[0;31m             \u001b[0;32mreturn\u001b[0m \u001b[0mself\u001b[0m\u001b[0;34m.\u001b[0m\u001b[0mfunction\u001b[0m\u001b[0;34m(\u001b[0m\u001b[0;34m*\u001b[0m\u001b[0margs\u001b[0m\u001b[0;34m,\u001b[0m \u001b[0;34m**\u001b[0m\u001b[0mkwargs\u001b[0m\u001b[0;34m)\u001b[0m\u001b[0;34m\u001b[0m\u001b[0;34m\u001b[0m\u001b[0m\n\u001b[0m\u001b[1;32m    217\u001b[0m \u001b[0;34m\u001b[0m\u001b[0m\n\u001b[1;32m    218\u001b[0m \u001b[0;34m\u001b[0m\u001b[0m\n",
      "\u001b[0;32m~/opt/anaconda3/lib/python3.9/site-packages/sklearn/model_selection/_validation.py\u001b[0m in \u001b[0;36m_fit_and_score\u001b[0;34m(estimator, X, y, scorer, train, test, verbose, parameters, fit_params, return_train_score, return_parameters, return_n_test_samples, return_times, return_estimator, split_progress, candidate_progress, error_score)\u001b[0m\n\u001b[1;32m    678\u001b[0m             \u001b[0mestimator\u001b[0m\u001b[0;34m.\u001b[0m\u001b[0mfit\u001b[0m\u001b[0;34m(\u001b[0m\u001b[0mX_train\u001b[0m\u001b[0;34m,\u001b[0m \u001b[0;34m**\u001b[0m\u001b[0mfit_params\u001b[0m\u001b[0;34m)\u001b[0m\u001b[0;34m\u001b[0m\u001b[0;34m\u001b[0m\u001b[0m\n\u001b[1;32m    679\u001b[0m         \u001b[0;32melse\u001b[0m\u001b[0;34m:\u001b[0m\u001b[0;34m\u001b[0m\u001b[0;34m\u001b[0m\u001b[0m\n\u001b[0;32m--> 680\u001b[0;31m             \u001b[0mestimator\u001b[0m\u001b[0;34m.\u001b[0m\u001b[0mfit\u001b[0m\u001b[0;34m(\u001b[0m\u001b[0mX_train\u001b[0m\u001b[0;34m,\u001b[0m \u001b[0my_train\u001b[0m\u001b[0;34m,\u001b[0m \u001b[0;34m**\u001b[0m\u001b[0mfit_params\u001b[0m\u001b[0;34m)\u001b[0m\u001b[0;34m\u001b[0m\u001b[0;34m\u001b[0m\u001b[0m\n\u001b[0m\u001b[1;32m    681\u001b[0m \u001b[0;34m\u001b[0m\u001b[0m\n\u001b[1;32m    682\u001b[0m     \u001b[0;32mexcept\u001b[0m \u001b[0mException\u001b[0m\u001b[0;34m:\u001b[0m\u001b[0;34m\u001b[0m\u001b[0;34m\u001b[0m\u001b[0m\n",
      "\u001b[0;32m~/opt/anaconda3/lib/python3.9/site-packages/sklearn/ensemble/_hist_gradient_boosting/gradient_boosting.py\u001b[0m in \u001b[0;36mfit\u001b[0;34m(self, X, y, sample_weight)\u001b[0m\n\u001b[1;32m    535\u001b[0m                     )\n\u001b[1;32m    536\u001b[0m \u001b[0;34m\u001b[0m\u001b[0m\n\u001b[0;32m--> 537\u001b[0;31m                 predictor = grower.make_predictor(\n\u001b[0m\u001b[1;32m    538\u001b[0m                     \u001b[0mbinning_thresholds\u001b[0m\u001b[0;34m=\u001b[0m\u001b[0mself\u001b[0m\u001b[0;34m.\u001b[0m\u001b[0m_bin_mapper\u001b[0m\u001b[0;34m.\u001b[0m\u001b[0mbin_thresholds_\u001b[0m\u001b[0;34m\u001b[0m\u001b[0;34m\u001b[0m\u001b[0m\n\u001b[1;32m    539\u001b[0m                 )\n",
      "\u001b[0;32m~/opt/anaconda3/lib/python3.9/site-packages/sklearn/ensemble/_hist_gradient_boosting/grower.py\u001b[0m in \u001b[0;36mmake_predictor\u001b[0;34m(self, binning_thresholds)\u001b[0m\n\u001b[1;32m    619\u001b[0m             \u001b[0;34m(\u001b[0m\u001b[0mself\u001b[0m\u001b[0;34m.\u001b[0m\u001b[0mn_categorical_splits\u001b[0m\u001b[0;34m,\u001b[0m \u001b[0;36m8\u001b[0m\u001b[0;34m)\u001b[0m\u001b[0;34m,\u001b[0m \u001b[0mdtype\u001b[0m\u001b[0;34m=\u001b[0m\u001b[0mX_BITSET_INNER_DTYPE\u001b[0m\u001b[0;34m\u001b[0m\u001b[0;34m\u001b[0m\u001b[0m\n\u001b[1;32m    620\u001b[0m         )\n\u001b[0;32m--> 621\u001b[0;31m         _fill_predictor_arrays(\n\u001b[0m\u001b[1;32m    622\u001b[0m             \u001b[0mpredictor_nodes\u001b[0m\u001b[0;34m,\u001b[0m\u001b[0;34m\u001b[0m\u001b[0;34m\u001b[0m\u001b[0m\n\u001b[1;32m    623\u001b[0m             \u001b[0mbinned_left_cat_bitsets\u001b[0m\u001b[0;34m,\u001b[0m\u001b[0;34m\u001b[0m\u001b[0;34m\u001b[0m\u001b[0m\n",
      "\u001b[0;32m~/opt/anaconda3/lib/python3.9/site-packages/sklearn/ensemble/_hist_gradient_boosting/grower.py\u001b[0m in \u001b[0;36m_fill_predictor_arrays\u001b[0;34m(predictor_nodes, binned_left_cat_bitsets, raw_left_cat_bitsets, grower_node, binning_thresholds, n_bins_non_missing, next_free_node_idx, next_free_bitset_idx)\u001b[0m\n\u001b[1;32m    686\u001b[0m \u001b[0;34m\u001b[0m\u001b[0m\n\u001b[1;32m    687\u001b[0m     \u001b[0mnode\u001b[0m\u001b[0;34m[\u001b[0m\u001b[0;34m\"left\"\u001b[0m\u001b[0;34m]\u001b[0m \u001b[0;34m=\u001b[0m \u001b[0mnext_free_node_idx\u001b[0m\u001b[0;34m\u001b[0m\u001b[0;34m\u001b[0m\u001b[0m\n\u001b[0;32m--> 688\u001b[0;31m     next_free_node_idx, next_free_bitset_idx = _fill_predictor_arrays(\n\u001b[0m\u001b[1;32m    689\u001b[0m         \u001b[0mpredictor_nodes\u001b[0m\u001b[0;34m,\u001b[0m\u001b[0;34m\u001b[0m\u001b[0;34m\u001b[0m\u001b[0m\n\u001b[1;32m    690\u001b[0m         \u001b[0mbinned_left_cat_bitsets\u001b[0m\u001b[0;34m,\u001b[0m\u001b[0;34m\u001b[0m\u001b[0;34m\u001b[0m\u001b[0m\n",
      "\u001b[0;32m~/opt/anaconda3/lib/python3.9/site-packages/sklearn/ensemble/_hist_gradient_boosting/grower.py\u001b[0m in \u001b[0;36m_fill_predictor_arrays\u001b[0;34m(predictor_nodes, binned_left_cat_bitsets, raw_left_cat_bitsets, grower_node, binning_thresholds, n_bins_non_missing, next_free_node_idx, next_free_bitset_idx)\u001b[0m\n\u001b[1;32m    686\u001b[0m \u001b[0;34m\u001b[0m\u001b[0m\n\u001b[1;32m    687\u001b[0m     \u001b[0mnode\u001b[0m\u001b[0;34m[\u001b[0m\u001b[0;34m\"left\"\u001b[0m\u001b[0;34m]\u001b[0m \u001b[0;34m=\u001b[0m \u001b[0mnext_free_node_idx\u001b[0m\u001b[0;34m\u001b[0m\u001b[0;34m\u001b[0m\u001b[0m\n\u001b[0;32m--> 688\u001b[0;31m     next_free_node_idx, next_free_bitset_idx = _fill_predictor_arrays(\n\u001b[0m\u001b[1;32m    689\u001b[0m         \u001b[0mpredictor_nodes\u001b[0m\u001b[0;34m,\u001b[0m\u001b[0;34m\u001b[0m\u001b[0;34m\u001b[0m\u001b[0m\n\u001b[1;32m    690\u001b[0m         \u001b[0mbinned_left_cat_bitsets\u001b[0m\u001b[0;34m,\u001b[0m\u001b[0;34m\u001b[0m\u001b[0;34m\u001b[0m\u001b[0m\n",
      "\u001b[0;32m~/opt/anaconda3/lib/python3.9/site-packages/sklearn/ensemble/_hist_gradient_boosting/grower.py\u001b[0m in \u001b[0;36m_fill_predictor_arrays\u001b[0;34m(predictor_nodes, binned_left_cat_bitsets, raw_left_cat_bitsets, grower_node, binning_thresholds, n_bins_non_missing, next_free_node_idx, next_free_bitset_idx)\u001b[0m\n\u001b[1;32m    686\u001b[0m \u001b[0;34m\u001b[0m\u001b[0m\n\u001b[1;32m    687\u001b[0m     \u001b[0mnode\u001b[0m\u001b[0;34m[\u001b[0m\u001b[0;34m\"left\"\u001b[0m\u001b[0;34m]\u001b[0m \u001b[0;34m=\u001b[0m \u001b[0mnext_free_node_idx\u001b[0m\u001b[0;34m\u001b[0m\u001b[0;34m\u001b[0m\u001b[0m\n\u001b[0;32m--> 688\u001b[0;31m     next_free_node_idx, next_free_bitset_idx = _fill_predictor_arrays(\n\u001b[0m\u001b[1;32m    689\u001b[0m         \u001b[0mpredictor_nodes\u001b[0m\u001b[0;34m,\u001b[0m\u001b[0;34m\u001b[0m\u001b[0;34m\u001b[0m\u001b[0m\n\u001b[1;32m    690\u001b[0m         \u001b[0mbinned_left_cat_bitsets\u001b[0m\u001b[0;34m,\u001b[0m\u001b[0;34m\u001b[0m\u001b[0;34m\u001b[0m\u001b[0m\n",
      "\u001b[0;32m~/opt/anaconda3/lib/python3.9/site-packages/sklearn/ensemble/_hist_gradient_boosting/grower.py\u001b[0m in \u001b[0;36m_fill_predictor_arrays\u001b[0;34m(predictor_nodes, binned_left_cat_bitsets, raw_left_cat_bitsets, grower_node, binning_thresholds, n_bins_non_missing, next_free_node_idx, next_free_bitset_idx)\u001b[0m\n\u001b[1;32m    698\u001b[0m \u001b[0;34m\u001b[0m\u001b[0m\n\u001b[1;32m    699\u001b[0m     \u001b[0mnode\u001b[0m\u001b[0;34m[\u001b[0m\u001b[0;34m\"right\"\u001b[0m\u001b[0;34m]\u001b[0m \u001b[0;34m=\u001b[0m \u001b[0mnext_free_node_idx\u001b[0m\u001b[0;34m\u001b[0m\u001b[0;34m\u001b[0m\u001b[0m\n\u001b[0;32m--> 700\u001b[0;31m     return _fill_predictor_arrays(\n\u001b[0m\u001b[1;32m    701\u001b[0m         \u001b[0mpredictor_nodes\u001b[0m\u001b[0;34m,\u001b[0m\u001b[0;34m\u001b[0m\u001b[0;34m\u001b[0m\u001b[0m\n\u001b[1;32m    702\u001b[0m         \u001b[0mbinned_left_cat_bitsets\u001b[0m\u001b[0;34m,\u001b[0m\u001b[0;34m\u001b[0m\u001b[0;34m\u001b[0m\u001b[0m\n",
      "\u001b[0;32m~/opt/anaconda3/lib/python3.9/site-packages/sklearn/ensemble/_hist_gradient_boosting/grower.py\u001b[0m in \u001b[0;36m_fill_predictor_arrays\u001b[0;34m(predictor_nodes, binned_left_cat_bitsets, raw_left_cat_bitsets, grower_node, binning_thresholds, n_bins_non_missing, next_free_node_idx, next_free_bitset_idx)\u001b[0m\n\u001b[1;32m    661\u001b[0m     \u001b[0mfeature_idx\u001b[0m\u001b[0;34m,\u001b[0m \u001b[0mbin_idx\u001b[0m \u001b[0;34m=\u001b[0m \u001b[0msplit_info\u001b[0m\u001b[0;34m.\u001b[0m\u001b[0mfeature_idx\u001b[0m\u001b[0;34m,\u001b[0m \u001b[0msplit_info\u001b[0m\u001b[0;34m.\u001b[0m\u001b[0mbin_idx\u001b[0m\u001b[0;34m\u001b[0m\u001b[0;34m\u001b[0m\u001b[0m\n\u001b[1;32m    662\u001b[0m     \u001b[0mnode\u001b[0m\u001b[0;34m[\u001b[0m\u001b[0;34m\"feature_idx\"\u001b[0m\u001b[0;34m]\u001b[0m \u001b[0;34m=\u001b[0m \u001b[0mfeature_idx\u001b[0m\u001b[0;34m\u001b[0m\u001b[0;34m\u001b[0m\u001b[0m\n\u001b[0;32m--> 663\u001b[0;31m     \u001b[0mnode\u001b[0m\u001b[0;34m[\u001b[0m\u001b[0;34m\"bin_threshold\"\u001b[0m\u001b[0;34m]\u001b[0m \u001b[0;34m=\u001b[0m \u001b[0mbin_idx\u001b[0m\u001b[0;34m\u001b[0m\u001b[0;34m\u001b[0m\u001b[0m\n\u001b[0m\u001b[1;32m    664\u001b[0m     \u001b[0mnode\u001b[0m\u001b[0;34m[\u001b[0m\u001b[0;34m\"missing_go_to_left\"\u001b[0m\u001b[0;34m]\u001b[0m \u001b[0;34m=\u001b[0m \u001b[0msplit_info\u001b[0m\u001b[0;34m.\u001b[0m\u001b[0mmissing_go_to_left\u001b[0m\u001b[0;34m\u001b[0m\u001b[0;34m\u001b[0m\u001b[0m\n\u001b[1;32m    665\u001b[0m     \u001b[0mnode\u001b[0m\u001b[0;34m[\u001b[0m\u001b[0;34m\"is_categorical\"\u001b[0m\u001b[0;34m]\u001b[0m \u001b[0;34m=\u001b[0m \u001b[0msplit_info\u001b[0m\u001b[0;34m.\u001b[0m\u001b[0mis_categorical\u001b[0m\u001b[0;34m\u001b[0m\u001b[0;34m\u001b[0m\u001b[0m\n",
      "\u001b[0;31mKeyboardInterrupt\u001b[0m: "
     ]
    }
   ],
   "source": [
    "# GridSearchCV\n",
    "\n",
    "cv_ssnl = GridSearchCV(model_2_ssnl,parameters,cv=5)\n",
    "cv_ssnl.fit(X_train_scaled, y_train_ssnl.values.ravel())"
   ]
  },
  {
   "cell_type": "code",
   "execution_count": null,
   "id": "3f2bd77f-87c2-457e-9919-0ee976771f73",
   "metadata": {},
   "outputs": [],
   "source": [
    "display(cv_ssnl) # best parameters"
   ]
  },
  {
   "cell_type": "markdown",
   "id": "8da4d51a-fa83-4fef-b2fa-9d2e442fc55c",
   "metadata": {},
   "source": [
    "### Results"
   ]
  },
  {
   "cell_type": "code",
   "execution_count": null,
   "id": "ab77c1bd-01c2-4ce5-b5f9-a039d1e000a9",
   "metadata": {},
   "outputs": [],
   "source": [
    "#H1N1 model with parameters from GridSearchCV\n",
    "\n",
    "model_2_h1n1 = HistGradientBoostingClassifier(max_iter = 70, max_depth = 9, learning_rate = .1)\n",
    "model_2_h1n1.fit(X_test_scaled, y_test_h1n1)"
   ]
  },
  {
   "cell_type": "code",
   "execution_count": null,
   "id": "931d492d-199e-405b-8947-30654d2ae017",
   "metadata": {},
   "outputs": [],
   "source": [
    "#SSNL model with parameters from GridSearchCV\n",
    "\n",
    "model_2_ssnl = HistGradientBoostingClassifier(max_iter = 7, max_depth = 5, learning_rate = .1)\n",
    "model_2_ssnl.fit(X_test_scaled, y_test_ssnl)"
   ]
  },
  {
   "cell_type": "code",
   "execution_count": null,
   "id": "a291292f-f69a-4175-9fd1-f1c408600a8e",
   "metadata": {},
   "outputs": [],
   "source": [
    "# Confusion Matrices\n",
    "\n",
    "model_2_h1n1.fit(X_train_scaled, y_train_h1n1)\n",
    "plot_confusion_matrix(model_2_h1n1, X_test_scaled, y_test_h1n1);\n",
    "\n",
    "model_2_ssnl.fit(X_train_scaled, y_train_ssnl)\n",
    "plot_confusion_matrix(model_2_ssnl, X_test_scaled, y_test_ssnl);"
   ]
  },
  {
   "cell_type": "code",
   "execution_count": null,
   "id": "c6367dd9-923c-4630-81dc-66290730ea72",
   "metadata": {},
   "outputs": [],
   "source": [
    "# For scoring\n",
    "\n",
    "y_hat_h1n1_2 = model_2_h1n1.predict(X_test_scaled)\n",
    "y_hat_ssnl_2 = model_2_ssnl.predict(X_test_scaled)\n",
    "y_proba_h1n1_2 = model_2_h1n1.predict_proba(X_test_scaled)\n",
    "y_proba_ssnl_2 = model_2_ssnl.predict_proba(X_test_scaled)"
   ]
  },
  {
   "cell_type": "code",
   "execution_count": null,
   "id": "b28b5e5d-0e60-4e70-9d3a-084ce4e95676",
   "metadata": {},
   "outputs": [],
   "source": [
    "# Print scoring\n",
    "\n",
    "print(f'Recall for H1N1:            {recall_score(y_test_h1n1, y_hat_h1n1_2)}')\n",
    "print(f'Recall for seasonal flu:    {recall_score(y_test_ssnl, y_hat_ssnl_2)}\\n')\n",
    "print(f'Precision for H1N1:         {precision_score(y_test_h1n1, y_hat_h1n1_2)}')\n",
    "print(f'Precision for seasonal flu: {precision_score(y_test_ssnl, y_hat_ssnl_2)}\\n')\n",
    "print(f'Accuracy for H1N1:          {accuracy_score(y_test_h1n1, y_hat_h1n1_2)}')\n",
    "print(f'Accuracy for seasonal flu:  {accuracy_score(y_test_ssnl, y_hat_ssnl_2)}\\n')\n",
    "print(f'F1 score for H1N1:          {f1_score(y_test_h1n1,y_hat_h1n1_2)}')\n",
    "print(f'F1 score for seasonal flu:  {f1_score(y_test_ssnl, y_hat_ssnl_2)}\\n')\n",
    "print(f'AUROC for H1N1:             {roc_auc_score(y_test_h1n1, y_proba_h1n1_2[:,1])}')\n",
    "print(f'AUROC for seasonal flu:     {roc_auc_score(y_test_ssnl, y_proba_ssnl_2[:,1])}')"
   ]
  },
  {
   "cell_type": "code",
   "execution_count": null,
   "id": "24a26126-f12a-47ed-be51-30edec5f54a4",
   "metadata": {},
   "outputs": [],
   "source": []
  },
  {
   "cell_type": "markdown",
   "id": "a2b9c5fc-dcc8-46a7-981e-69e541b83fa0",
   "metadata": {},
   "source": [
    "## Hist Gradient Boosting Model 3"
   ]
  },
  {
   "cell_type": "markdown",
   "id": "7ef1a5e6-b5d6-4a3d-aadc-9a5ba248b718",
   "metadata": {},
   "source": [
    "This model adds \"max_leaf_nodes\" to the mix without changing other parameters"
   ]
  },
  {
   "cell_type": "markdown",
   "id": "fa27f08d-2916-4111-8323-480c37ad414c",
   "metadata": {},
   "source": [
    "### H1N1 Model"
   ]
  },
  {
   "cell_type": "code",
   "execution_count": null,
   "id": "2baea166-1814-492f-b39d-8f1c3fe46f17",
   "metadata": {},
   "outputs": [],
   "source": [
    "# Create parameters to iterate\n",
    "\n",
    "model_3_h1n1 = HistGradientBoostingClassifier()\n",
    "parameters = {\n",
    "    \"max_iter\":[10, 30, 50, 70, 100],\n",
    "    \"max_depth\":[1,3,5,7,9],\n",
    "    \"learning_rate\":[0.01,0.1,1,10,100],\n",
    "    \"max_leaf_nodes\":[20,25,30,35,40]\n",
    "}"
   ]
  },
  {
   "cell_type": "code",
   "execution_count": null,
   "id": "f4088e5c-6aac-4af9-ac90-d00df717120e",
   "metadata": {},
   "outputs": [],
   "source": [
    "# GridSearchCV\n",
    "\n",
    "cv_h1n1 = GridSearchCV(model_3_h1n1,parameters,cv=5)\n",
    "cv_h1n1.fit(X_train_scaled, y_train_h1n1.values.ravel())"
   ]
  },
  {
   "cell_type": "code",
   "execution_count": null,
   "id": "d9bbd797-f07b-4336-a185-3854229ee155",
   "metadata": {},
   "outputs": [],
   "source": [
    "display(cv_h1n1) # best parameters"
   ]
  },
  {
   "cell_type": "code",
   "execution_count": null,
   "id": "b219ac0b-7c0e-4a4e-a3e5-32102d34ef94",
   "metadata": {},
   "outputs": [],
   "source": []
  },
  {
   "cell_type": "markdown",
   "id": "0745556b-6a3f-44b8-91f1-e31a01961a6e",
   "metadata": {},
   "source": [
    "#### SSNL Model"
   ]
  },
  {
   "cell_type": "code",
   "execution_count": null,
   "id": "43e15d76-6779-4589-8551-b28cc7074fbe",
   "metadata": {},
   "outputs": [],
   "source": [
    "# Create parameters to iterate\n",
    "\n",
    "model_3_ssnl = HistGradientBoostingClassifier()\n",
    "parameters = {\n",
    "    \"max_iter\":[10, 30, 50, 70, 100],\n",
    "    \"max_depth\":[1,3,5,7,9],\n",
    "    \"learning_rate\":[0.01,0.1,1,10,100],\n",
    "    \"max_leaf_nodes\":[20,25,30,35,40]\n",
    "}"
   ]
  },
  {
   "cell_type": "code",
   "execution_count": null,
   "id": "36650475-d7f4-4795-a58a-f88e54f0b114",
   "metadata": {},
   "outputs": [],
   "source": [
    "# GridSearchCV\n",
    "\n",
    "cv_ssnl = GridSearchCV(model_3_ssnl,parameters,cv=5)\n",
    "cv_ssnl.fit(X_train_scaled, y_train_ssnl.values.ravel())"
   ]
  },
  {
   "cell_type": "code",
   "execution_count": null,
   "id": "7628caf0-f311-4c3f-9263-b5cdb4a77418",
   "metadata": {},
   "outputs": [],
   "source": [
    "display(cv_ssnl) # best parameters"
   ]
  },
  {
   "cell_type": "markdown",
   "id": "dda3a60f-e040-4ade-a48f-bce791de4092",
   "metadata": {},
   "source": [
    "### Results"
   ]
  },
  {
   "cell_type": "code",
   "execution_count": null,
   "id": "544a0d16-76eb-4b50-b7cd-ac3d90884582",
   "metadata": {},
   "outputs": [],
   "source": [
    "#H1N1 model with parameters from GridSearchCV\n",
    "\n",
    "model_3_h1n1 = HistGradientBoostingClassifier(max_iter = 50, max_depth = 5, learning_rate = .1, max_leaf_nodes = 40)\n",
    "model_3_h1n1.fit(X_test_scaled, y_test_h1n1)"
   ]
  },
  {
   "cell_type": "code",
   "execution_count": null,
   "id": "032e2166-f3c3-454e-b87e-407fecf3229e",
   "metadata": {},
   "outputs": [],
   "source": [
    "#SSNL model with parameters from GridSearchCV\n",
    "\n",
    "model_3_ssnl = HistGradientBoostingClassifier(max_iter = 70, max_depth = 9, learning_rate = .1, max_leaf_nodes = 20)\n",
    "model_3_ssnl.fit(X_test_scaled, y_test_ssnl)"
   ]
  },
  {
   "cell_type": "code",
   "execution_count": null,
   "id": "fdeb9e5e-fa41-4dfa-ba25-d96f2fd32f3c",
   "metadata": {},
   "outputs": [],
   "source": [
    "# Confusion Matrices\n",
    "\n",
    "model_3_h1n1.fit(X_train_scaled, y_train_h1n1)\n",
    "plot_confusion_matrix(model_3_h1n1, X_test_scaled, y_test_h1n1);\n",
    "\n",
    "model_3_ssnl.fit(X_train_scaled, y_train_ssnl)\n",
    "plot_confusion_matrix(model_3_ssnl, X_test_scaled, y_test_ssnl);"
   ]
  },
  {
   "cell_type": "code",
   "execution_count": null,
   "id": "59349b7b-50db-41d4-8699-475ad0ebb207",
   "metadata": {},
   "outputs": [],
   "source": [
    "# For scoring\n",
    "\n",
    "y_hat_h1n1_3 = model_3_h1n1.predict(X_test_scaled)\n",
    "y_hat_ssnl_3 = model_3_ssnl.predict(X_test_scaled)\n",
    "y_proba_h1n1_3 = model_3_h1n1.predict_proba(X_test_scaled)\n",
    "y_proba_ssnl_3 = model_3_ssnl.predict_proba(X_test_scaled)"
   ]
  },
  {
   "cell_type": "code",
   "execution_count": null,
   "id": "1332ff98-4dfa-403e-96b5-0680a6f55368",
   "metadata": {},
   "outputs": [],
   "source": [
    "# Print scoring\n",
    "\n",
    "print(f'Recall for H1N1:            {recall_score(y_test_h1n1, y_hat_h1n1_3)}')\n",
    "print(f'Recall for seasonal flu:    {recall_score(y_test_ssnl, y_hat_ssnl_3)}\\n')\n",
    "print(f'Precision for H1N1:         {precision_score(y_test_h1n1, y_hat_h1n1_3)}')\n",
    "print(f'Precision for seasonal flu: {precision_score(y_test_ssnl, y_hat_ssnl_3)}\\n')\n",
    "print(f'Accuracy for H1N1:          {accuracy_score(y_test_h1n1, y_hat_h1n1_3)}')\n",
    "print(f'Accuracy for seasonal flu:  {accuracy_score(y_test_ssnl, y_hat_ssnl_3)}\\n')\n",
    "print(f'F1 score for H1N1:          {f1_score(y_test_h1n1, y_hat_h1n1_3)}')\n",
    "print(f'F1 score for seasonal flu:  {f1_score(y_test_ssnl, y_hat_ssnl_3)}\\n')\n",
    "print(f'AUROC for H1N1:             {roc_auc_score(y_test_h1n1, y_proba_h1n1_3[:,1])}')\n",
    "print(f'AUROC for seasonal flu:     {roc_auc_score(y_test_ssnl, y_proba_ssnl_3[:,1])}')"
   ]
  },
  {
   "cell_type": "code",
   "execution_count": null,
   "id": "11e110a1-9fe3-4691-9162-3759c8bad75b",
   "metadata": {},
   "outputs": [],
   "source": []
  },
  {
   "cell_type": "code",
   "execution_count": null,
   "id": "42b338e5-13e7-41a1-b4bc-00c3548f7ce9",
   "metadata": {},
   "outputs": [],
   "source": []
  },
  {
   "cell_type": "markdown",
   "id": "57a5e57e-237f-4456-8c39-18155dab034b",
   "metadata": {},
   "source": [
    "## Hist Gradient Boosting Model 4"
   ]
  },
  {
   "cell_type": "markdown",
   "id": "d7493058-f350-4316-94ae-95475691f71a",
   "metadata": {},
   "source": [
    "HistGradientBoosting(loss='auto', *, learning_rate=0.1, max_iter=100, max_leaf_nodes=31, max_depth=None, min_samples_leaf=20, l2_regularization=0.0, max_bins=255, categorical_features=None, monotonic_cst=None, warm_start=False, early_stopping='auto', scoring='loss', validation_fraction=0.1, n_iter_no_change=10, tol=1e-07, verbose=0, random_state=None)[source]¶"
   ]
  },
  {
   "cell_type": "markdown",
   "id": "e9f141f0-273b-4c6c-94af-05970e00c885",
   "metadata": {},
   "source": [
    "### H1N1 Model"
   ]
  },
  {
   "cell_type": "code",
   "execution_count": null,
   "id": "37301be3-f0c5-4463-adec-09e1e2281870",
   "metadata": {},
   "outputs": [],
   "source": [
    "# Create parameters to iterate\n",
    "\n",
    "model_4_h1n1 = HistGradientBoostingClassifier()\n",
    "parameters = {\n",
    "    \"max_iter\":[10, 30, 50, 70, 100],\n",
    "    \"max_depth\":[1,3,5,7,9],\n",
    "    \"learning_rate\":[0.01,0.1,0.25,1.5,2],\n",
    "    \"max_bins\":[10, 50, 150, 200, 255]\n",
    "}"
   ]
  },
  {
   "cell_type": "code",
   "execution_count": null,
   "id": "cd1a51d2-b4dd-4969-8dc4-4cf714da5128",
   "metadata": {},
   "outputs": [],
   "source": [
    "# GridSearchCV\n",
    "\n",
    "cv_h1n1 = GridSearchCV(model_4_h1n1,parameters,cv=5)\n",
    "cv_h1n1.fit(X_train_scaled, y_train_h1n1.values.ravel())"
   ]
  },
  {
   "cell_type": "code",
   "execution_count": null,
   "id": "221967c6-0b26-4fac-8e6d-336ee6621567",
   "metadata": {},
   "outputs": [],
   "source": [
    "display(cv_h1n1) # best parameters"
   ]
  },
  {
   "cell_type": "code",
   "execution_count": null,
   "id": "e558f751-bc63-4411-a6fd-893090e34b23",
   "metadata": {},
   "outputs": [],
   "source": []
  },
  {
   "cell_type": "markdown",
   "id": "bc9bfc34-4f49-4e4b-9efc-45e019f341c3",
   "metadata": {},
   "source": [
    "#### SSNL Model"
   ]
  },
  {
   "cell_type": "code",
   "execution_count": null,
   "id": "3c9d7922-4628-487a-a548-eaf44adf8a5a",
   "metadata": {},
   "outputs": [],
   "source": [
    "# Create parameters to iterate\n",
    "\n",
    "model_4_ssnl = HistGradientBoostingClassifier()\n",
    "parameters = {\n",
    "    \"max_iter\":[10, 30, 50, 70, 100],\n",
    "    \"max_depth\":[1,3,5,7,9],\n",
    "    \"learning_rate\":[0.01,0.1,0.25,1.5,2],\n",
    "    \"max_bins\":[10, 50, 150, 200, 255]\n",
    "}"
   ]
  },
  {
   "cell_type": "code",
   "execution_count": null,
   "id": "9aeff9d6-f7dd-4706-9088-e5413ecd2409",
   "metadata": {},
   "outputs": [],
   "source": [
    "# GridSearchCV\n",
    "\n",
    "cv_ssnl = GridSearchCV(model_4_ssnl,parameters,cv=5)\n",
    "cv_ssnl.fit(X_train_scaled, y_train_ssnl.values.ravel())"
   ]
  },
  {
   "cell_type": "code",
   "execution_count": null,
   "id": "3e569781-ec13-4a87-8efe-5f76f9ca9b3b",
   "metadata": {},
   "outputs": [],
   "source": [
    "display(cv_ssnl) # best parameters"
   ]
  },
  {
   "cell_type": "markdown",
   "id": "1fdece2d-52bf-4e5e-8ecd-dc8c516a304e",
   "metadata": {},
   "source": [
    "### Results"
   ]
  },
  {
   "cell_type": "code",
   "execution_count": null,
   "id": "00e70c79-1292-4e79-90e4-adfa6d4b0167",
   "metadata": {},
   "outputs": [],
   "source": [
    "#H1N1 model with parameters from GridSearchCV\n",
    "\n",
    "model_4_h1n1 = HistGradientBoostingClassifier(max_iter = 70, max_depth = 5, learning_rate = .1, max_bins = 150)\n",
    "model_4_h1n1.fit(X_test_scaled, y_test_h1n1)"
   ]
  },
  {
   "cell_type": "code",
   "execution_count": null,
   "id": "19f1acde-d485-4390-8934-b998411f2955",
   "metadata": {},
   "outputs": [],
   "source": [
    "#SSNL model with parameters from GridSearchCV\n",
    "\n",
    "model_4_ssnl = HistGradientBoostingClassifier(max_iter = 100, max_depth = 5, learning_rate = .1, max_bins = 10)\n",
    "model_4_ssnl.fit(X_test_scaled, y_test_ssnl)"
   ]
  },
  {
   "cell_type": "code",
   "execution_count": null,
   "id": "1776abba-01ec-4f57-859e-7a79bb38a8a8",
   "metadata": {},
   "outputs": [],
   "source": [
    "# Confusion Matrices\n",
    "\n",
    "model_4_h1n1.fit(X_train_scaled, y_train_h1n1)\n",
    "plot_confusion_matrix(model_4_h1n1, X_test_scaled, y_test_h1n1);\n",
    "\n",
    "model_4_ssnl.fit(X_train_scaled, y_train_ssnl)\n",
    "plot_confusion_matrix(model_4_ssnl, X_test_scaled, y_test_ssnl);"
   ]
  },
  {
   "cell_type": "code",
   "execution_count": null,
   "id": "310e9d96-02ba-475b-bcc2-22dfd228e22d",
   "metadata": {},
   "outputs": [],
   "source": [
    "# For scoring\n",
    "\n",
    "y_hat_h1n1_4 = model_4_h1n1.predict(X_test_scaled)\n",
    "y_hat_ssnl_4 = model_4_ssnl.predict(X_test_scaled)\n",
    "y_proba_h1n1_4 = model_4_h1n1.predict_proba(X_test_scaled)\n",
    "y_proba_ssnl_4 = model_4_ssnl.predict_proba(X_test_scaled)"
   ]
  },
  {
   "cell_type": "code",
   "execution_count": null,
   "id": "d182f5b7-4726-47b4-893d-db4faffe1adc",
   "metadata": {},
   "outputs": [],
   "source": [
    "# Print scoring\n",
    "\n",
    "print(f'Recall for H1N1:            {recall_score(y_test_h1n1, y_hat_h1n1_4)}')\n",
    "print(f'Recall for seasonal flu:    {recall_score(y_test_ssnl, y_hat_ssnl_4)}\\n')\n",
    "print(f'Precision for H1N1:         {precision_score(y_test_h1n1, y_hat_h1n1_4)}')\n",
    "print(f'Precision for seasonal flu: {precision_score(y_test_ssnl, y_hat_ssnl_4)}\\n')\n",
    "print(f'Accuracy for H1N1:          {accuracy_score(y_test_h1n1, y_hat_h1n1_4)}')\n",
    "print(f'Accuracy for seasonal flu:  {accuracy_score(y_test_ssnl, y_hat_ssnl_4)}\\n')\n",
    "print(f'F1 score for H1N1:          {f1_score(y_test_h1n1, y_hat_h1n1_4)}')\n",
    "print(f'F1 score for seasonal flu:  {f1_score(y_test_ssnl, y_hat_ssnl_4)}\\n')\n",
    "print(f'AUROC for H1N1:             {roc_auc_score(y_test_h1n1, y_proba_h1n1_4[:,1])}')\n",
    "print(f'AUROC for seasonal flu:     {roc_auc_score(y_test_ssnl, y_proba_ssnl_4[:,1])}')"
   ]
  },
  {
   "cell_type": "code",
   "execution_count": null,
   "id": "1fc9b953-fb42-4dae-8d59-38df7cd426ba",
   "metadata": {},
   "outputs": [],
   "source": []
  },
  {
   "cell_type": "code",
   "execution_count": null,
   "id": "04627827-e426-4772-8a9a-20cb5b3f13a8",
   "metadata": {},
   "outputs": [],
   "source": []
  },
  {
   "cell_type": "markdown",
   "id": "0a778624-7a42-4796-855f-31ba7d6a20ea",
   "metadata": {},
   "source": [
    "## Hist Gradient Boosting Model 5"
   ]
  },
  {
   "cell_type": "markdown",
   "id": "82cbb952-53c8-48e2-b900-870c835d446a",
   "metadata": {},
   "source": [
    "HistGradientBoosting(loss='auto', *, learning_rate=0.1, max_iter=100, max_leaf_nodes=31, max_depth=None, min_samples_leaf=20, l2_regularization=0.0, max_bins=255, categorical_features=None, monotonic_cst=None, warm_start=False, early_stopping='auto', scoring='loss', validation_fraction=0.1, n_iter_no_change=10, tol=1e-07, verbose=0, random_state=None)[source]¶"
   ]
  },
  {
   "cell_type": "markdown",
   "id": "1382f753-c2a9-4e58-8a41-613450bfb65f",
   "metadata": {},
   "source": [
    "### H1N1 Model"
   ]
  },
  {
   "cell_type": "code",
   "execution_count": null,
   "id": "ce2abec5-1ba9-45ea-8297-71d66abda1a3",
   "metadata": {},
   "outputs": [],
   "source": [
    "# Create parameters to iterate\n",
    "\n",
    "model_5_h1n1 = HistGradientBoostingClassifier()\n",
    "parameters = {\n",
    "    \"max_depth\":[1,3,5,7,9],\n",
    "    \"learning_rate\":[0.01,0.1,0.25,1.5,2]\n",
    "}"
   ]
  },
  {
   "cell_type": "code",
   "execution_count": null,
   "id": "64845b4e-7fec-4b3e-8c6e-917cb949938e",
   "metadata": {},
   "outputs": [],
   "source": [
    "# GridSearchCV\n",
    "\n",
    "cv_h1n1 = GridSearchCV(model_5_h1n1,parameters,cv=5)\n",
    "cv_h1n1.fit(X_train_scaled, y_train_h1n1.values.ravel())"
   ]
  },
  {
   "cell_type": "code",
   "execution_count": null,
   "id": "f7f9a919-2500-4ef2-a7c3-bb5f7f82d4eb",
   "metadata": {},
   "outputs": [],
   "source": [
    "display(cv_h1n1) # best parameters"
   ]
  },
  {
   "cell_type": "code",
   "execution_count": null,
   "id": "7f692e60-6c16-4527-a8fd-f0b08aea5b68",
   "metadata": {},
   "outputs": [],
   "source": []
  },
  {
   "cell_type": "markdown",
   "id": "bf00804c-94a7-48ff-8eaa-4d101cb561ef",
   "metadata": {},
   "source": [
    "#### SSNL Model"
   ]
  },
  {
   "cell_type": "code",
   "execution_count": null,
   "id": "5831ec8c-9a2a-4aff-a1e6-29194b527caa",
   "metadata": {},
   "outputs": [],
   "source": [
    "# Create parameters to iterate\n",
    "\n",
    "model_5_ssnl = HistGradientBoostingClassifier()\n",
    "parameters = {\n",
    "    \"max_depth\":[1,3,5,7,9],\n",
    "    \"learning_rate\":[0.01,0.1,0.25,1.5,2]\n",
    "}"
   ]
  },
  {
   "cell_type": "code",
   "execution_count": null,
   "id": "04dbfb2c-6293-42bf-b446-a16cc127efa5",
   "metadata": {},
   "outputs": [],
   "source": [
    "# GridSearchCV\n",
    "\n",
    "cv_ssnl = GridSearchCV(model_5_ssnl,parameters,cv=5)\n",
    "cv_ssnl.fit(X_train_scaled, y_train_ssnl.values.ravel())"
   ]
  },
  {
   "cell_type": "code",
   "execution_count": null,
   "id": "54e8f4fc-f46c-46c5-9070-b5406f01e054",
   "metadata": {},
   "outputs": [],
   "source": [
    "display(cv_ssnl) # best parameters"
   ]
  },
  {
   "cell_type": "markdown",
   "id": "a0dd5657-9d08-47ab-ae0a-92df3705c108",
   "metadata": {},
   "source": [
    "### Results"
   ]
  },
  {
   "cell_type": "code",
   "execution_count": null,
   "id": "2b402595-2d33-4ac8-bb11-dd80e8527ede",
   "metadata": {},
   "outputs": [],
   "source": [
    "#H1N1 model with parameters from GridSearchCV\n",
    "\n",
    "model_5_h1n1 = HistGradientBoostingClassifier(max_depth = 3, learning_rate = .25)\n",
    "model_5_h1n1.fit(X_test_scaled, y_test_h1n1)"
   ]
  },
  {
   "cell_type": "code",
   "execution_count": null,
   "id": "ca9a6ac4-9c6c-494f-b9eb-29d66172ddf2",
   "metadata": {},
   "outputs": [],
   "source": [
    "#SSNL model with parameters from GridSearchCV\n",
    "\n",
    "model_5_ssnl = HistGradientBoostingClassifier(max_depth = 9, learning_rate = .1)\n",
    "model_5_ssnl.fit(X_test_scaled, y_test_ssnl)"
   ]
  },
  {
   "cell_type": "code",
   "execution_count": null,
   "id": "abdd678b-f937-4d40-8294-cae518e10c0d",
   "metadata": {},
   "outputs": [],
   "source": [
    "# Confusion Matrices\n",
    "\n",
    "model_5_h1n1.fit(X_train_scaled, y_train_h1n1)\n",
    "plot_confusion_matrix(model_5_h1n1, X_test_scaled, y_test_h1n1);\n",
    "\n",
    "model_5_ssnl.fit(X_train_scaled, y_train_ssnl)\n",
    "plot_confusion_matrix(model_5_ssnl, X_test_scaled, y_test_ssnl);"
   ]
  },
  {
   "cell_type": "code",
   "execution_count": null,
   "id": "10c5d6df-ea54-4a0b-9ac6-6eb69eb8f3bc",
   "metadata": {},
   "outputs": [],
   "source": [
    "# For scoring\n",
    "\n",
    "y_hat_h1n1_5 = model_5_h1n1.predict(X_test_scaled)\n",
    "y_hat_ssnl_5 = model_5_ssnl.predict(X_test_scaled)\n",
    "y_proba_h1n1_5 = model_5_h1n1.predict_proba(X_test_scaled)\n",
    "y_proba_ssnl_5 = model_5_ssnl.predict_proba(X_test_scaled)"
   ]
  },
  {
   "cell_type": "code",
   "execution_count": null,
   "id": "bc1b4000-31ef-4b7a-91a1-7186a4fd7637",
   "metadata": {},
   "outputs": [],
   "source": [
    "# Print scoring\n",
    "\n",
    "print(f'Recall for H1N1:            {recall_score(y_test_h1n1, y_hat_h1n1_5)}')\n",
    "print(f'Recall for seasonal flu:    {recall_score(y_test_ssnl, y_hat_ssnl_5)}\\n')\n",
    "print(f'Precision for H1N1:         {precision_score(y_test_h1n1, y_hat_h1n1_5)}')\n",
    "print(f'Precision for seasonal flu: {precision_score(y_test_ssnl, y_hat_ssnl_5)}\\n')\n",
    "print(f'Accuracy for H1N1:          {accuracy_score(y_test_h1n1, y_hat_h1n1_5)}')\n",
    "print(f'Accuracy for seasonal flu:  {accuracy_score(y_test_ssnl, y_hat_ssnl_5)}\\n')\n",
    "print(f'F1 score for H1N1:          {f1_score(y_test_h1n1, y_hat_h1n1_5)}')\n",
    "print(f'F1 score for seasonal flu:  {f1_score(y_test_ssnl, y_hat_ssnl_5)}\\n')\n",
    "print(f'AUROC for H1N1:             {roc_auc_score(y_test_h1n1, y_proba_h1n1_5[:,1])}')\n",
    "print(f'AUROC for seasonal flu:     {roc_auc_score(y_test_ssnl, y_proba_ssnl_5[:,1])}')"
   ]
  },
  {
   "cell_type": "code",
   "execution_count": null,
   "id": "b00e9f0d-ce74-4e8f-b2d9-6bd69e9c9d36",
   "metadata": {},
   "outputs": [],
   "source": []
  },
  {
   "cell_type": "code",
   "execution_count": null,
   "id": "d45e91fd-8f27-4a1d-a435-f52219b2c18c",
   "metadata": {},
   "outputs": [],
   "source": []
  },
  {
   "cell_type": "code",
   "execution_count": 74,
   "id": "43f43c96-82a1-4648-b494-84364f27299f",
   "metadata": {
    "tags": []
   },
   "outputs": [],
   "source": [
    "def all_metrics(y_actuals, y_hats, y_score=None, model_name=None, keep_score=False, save_fig=False):\n",
    "    \"\"\"\n",
    "    This function takes in y_data either as single dataframes or in groups\n",
    "    as lists and returns recall, precision, accuracy, and f1 score. \n",
    "    If y_score is provided, an AUC score will also be calculated.\n",
    "    If a name for the model is supplied and keep_score is set to True,\n",
    "    that name along with scores are stored in a model dictionary for later use. \n",
    "    \n",
    "    y_actuals: array/dataframe or a list of arrays/dataframes\n",
    "    \n",
    "    y_hats: if y_actuals is list, then list of same length. if \n",
    "    y_actuals is single array/dataframe, then single array/dataframe.\n",
    "    \n",
    "    y_score: if y_actuals is list, then list of same length. if \n",
    "    y_actuals is single array/dataframe, then single array/dataframe.\n",
    "    \n",
    "    model_name: string or list of strings. If y_actuals is \n",
    "    single array/dataframe, then string. If y_actuals is list, then\n",
    "    list of same length.\n",
    "    \n",
    "    keep_score: bool, saves scores in a score dictionary\n",
    "    \n",
    "    save_fig: bool, exports graph to graph folder\n",
    "    \n",
    "    Note: save_fig is only supported for single models.\n",
    "    \n",
    "    \"\"\"\n",
    "    if type(y_actuals) == list:\n",
    "        if len(y_actuals) != len(y_hats):\n",
    "            print('The size of each list for y_tests and y_hats needs to be the same size.')\n",
    "            return\n",
    "        elif model_name and len(y_actuals) != len(model_name):\n",
    "            print('The number of names does not match the number of models.')\n",
    "            return\n",
    "        else:\n",
    "            all_scores = {}\n",
    "            confusion_matrices = []\n",
    "            for i in range(len(y_actuals)):\n",
    "                y_actual = y_actuals[i]\n",
    "                y_hat = y_hats[i]\n",
    "                model_scores = {}\n",
    "                cf_matrix = confusion_matrix(y_actual, y_hat)\n",
    "                model_scores['recall'] = recall_score(y_actual, y_hat)\n",
    "                model_scores['precision'] = precision_score(y_actual, y_hat)\n",
    "                model_scores['accuracy'] = accuracy_score(y_actual, y_hat)\n",
    "                model_scores['f1'] = f1_score(y_actual, y_hat)\n",
    "                if y_score:\n",
    "                    model_scores['AUC'] = roc_auc_score(y_actual, y_score[i][:,1])\n",
    "                \n",
    "                if model_name:\n",
    "                    all_scores[model_name[i]] = model_scores\n",
    "                    model_scoring_dict[model_name[i]] = model_scores\n",
    "                    if keep_score:\n",
    "                        model_scoring_dict[model_name[i]] = model_scores\n",
    "                else:\n",
    "                    all_scores[f'model number {i+1}'] = model_scores\n",
    "                    \n",
    "                confusion_matrices.append(cf_matrix)\n",
    "        \n",
    "        row = len(all_scores) // 3\n",
    "        col = len(all_scores) % 3\n",
    "        \n",
    "        if len(all_scores) < 4:\n",
    "            ncols=len(all_scores)\n",
    "            nrows=1\n",
    "        else:\n",
    "            ncols=3\n",
    "            if col != 0:\n",
    "                nrows=row+1\n",
    "            else:\n",
    "                nrows=row\n",
    "                \n",
    "        sns.set_context('talk')\n",
    "        fig, axes = plt.subplots(figsize=(8*ncols,6*nrows), ncols=ncols, nrows=nrows)\n",
    "        \n",
    "        for i, model in zip(range(len(all_scores)), all_scores):\n",
    "            group_names = ['True Neg','False Pos','False Neg','True Pos']\n",
    "            categories = ['No vaccine', 'Vaccine']\n",
    "\n",
    "            group_counts = ['{0:0.0f}'.format(value) for value in confusion_matrices[i].flatten()]\n",
    "            labels = [f'{v1}\\n{v2}' for v1, v2 in zip(group_names,group_counts)]\n",
    "            labels = np.asarray(labels).reshape(2,2)\n",
    "\n",
    "            row = i // 3\n",
    "            col = i % 3\n",
    "            \n",
    "            if nrows < 2:\n",
    "                ax = axes[col]\n",
    "            else:\n",
    "                ax = axes[row][col]\n",
    "            sns.heatmap(cf_matrix, annot=labels, xticklabels=categories, yticklabels=categories, cbar=None, fmt='', cmap='Blues', ax=ax)\n",
    "            ax.set_ylabel('Actual')\n",
    "            ax.set_yticklabels(ax1.get_yticklabels(), va=\"center\")\n",
    "            ax.set_xlabel('Predicted')\n",
    "        \n",
    "            if model_name:\n",
    "                ax.set_title(model_name[i])\n",
    "            else:\n",
    "                ax.set_title('Model Performance')\n",
    "                \n",
    "        plt.tight_layout()        \n",
    "\n",
    "        \n",
    "        for model in all_scores:\n",
    "            print('Recall for {}:    {}'.format(model, all_scores[model]['recall']))\n",
    "        print('')\n",
    "        for model in all_scores:\n",
    "            print('Precision for {}: {}'.format(model, all_scores[model]['precision']))\n",
    "        print('')\n",
    "        for model in all_scores:\n",
    "            print('Accuracy for {}:  {}'.format(model, all_scores[model]['accuracy']))\n",
    "        print('')\n",
    "        for model in all_scores:\n",
    "            print('F1 score for {}:  {}'.format(model, all_scores[model]['f1']))\n",
    "        if y_score:\n",
    "            print('')\n",
    "            for model in all_scores:\n",
    "                print('AUROC for {}:     {}'.format(model, all_scores[model]['AUC']))\n",
    "            \n",
    "    else:\n",
    "        if model_name and type(model_name) != str:\n",
    "            print('There should only be one model name, and it should be a string.')\n",
    "            return\n",
    "        else:\n",
    "            all_scores = {}\n",
    "            model_scores = {}\n",
    "            cf_matrix = confusion_matrix(y_actuals, y_hats)\n",
    "            model_scores['recall'] = recall_score(y_actuals, y_hats)\n",
    "            model_scores['precision'] = precision_score(y_actuals, y_hats)\n",
    "            model_scores['accuracy'] = accuracy_score(y_actuals, y_hats)\n",
    "            model_scores['f1'] = f1_score(y_actuals, y_hats)\n",
    "            if y_score is not None:\n",
    "                model_scores['AUC'] = roc_auc_score(y_actuals, y_score[:,1])\n",
    "                \n",
    "            if model_name:\n",
    "                if keep_score:\n",
    "                    model_scoring_dict[model_name] = model_scores\n",
    "                print(f'Scores for {model_name}:')\n",
    "            else:\n",
    "                all_scores['model'] = model_scores\n",
    "                print(f'Scores for this model:')\n",
    "            \n",
    "        cf_matrix = confusion_matrix(y_actuals, y_hats)\n",
    "        group_names = ['True Neg','False Pos','False Neg','True Pos']\n",
    "        categories = ['No vaccine', 'Vaccine']\n",
    "\n",
    "        group_counts = ['{0:0.0f}'.format(value) for value in cf_matrix.flatten()]\n",
    "        labels = [f'{v1}\\n{v2}' for v1, v2 in zip(group_names,group_counts)]\n",
    "        labels = np.asarray(labels).reshape(2,2)\n",
    "\n",
    "        sns.set_context('talk')\n",
    "        fig, ax = plt.subplots(figsize=(8,6))\n",
    "\n",
    "        sns.heatmap(cf_matrix, annot=labels, xticklabels=categories, yticklabels=categories, cbar=None, fmt='', cmap='Blues', ax=ax)\n",
    "        ax.set_ylabel('Actual')\n",
    "        ax.set_yticklabels(ax.get_yticklabels(), va=\"center\")\n",
    "        ax.set_xlabel('Predicted')\n",
    "        if model_name:\n",
    "            ax.set_title(model_name)\n",
    "        else:\n",
    "            ax.set_title('Model Performance')\n",
    "        \n",
    "        if save_fig:\n",
    "            fig.savefig('./graphs/{}'.format(model_name if model_name else 'rename_me'), dpi=300, transparent=False, bbox_inches='tight');\n",
    "        \n",
    "        print('Recall:    {}'.format(model_scores['recall']))\n",
    "        print('Precision: {}'.format(model_scores['precision']))\n",
    "        print('Accuracy:  {}'.format(model_scores['accuracy']))\n",
    "        print('F1 score:  {}'.format(model_scores['f1']))\n",
    "        if y_score is not None:\n",
    "            print('AUROC:     {}'.format(model_scores['AUC']))"
   ]
  },
  {
   "cell_type": "code",
   "execution_count": null,
   "id": "321e4f88-a3c9-4f88-9ff3-145c958cee92",
   "metadata": {
    "tags": []
   },
   "outputs": [],
   "source": [
    "# all_metrics(y_test_h1n1, y_hat_h1n1, y_proba_h1n1, model_name='jack')"
   ]
  },
  {
   "cell_type": "code",
   "execution_count": null,
   "id": "01f7cc8f-ab3d-4609-b3ea-a6348ef1210e",
   "metadata": {},
   "outputs": [],
   "source": []
  },
  {
   "cell_type": "code",
   "execution_count": null,
   "id": "37d87491-5c49-433b-b1c7-9c2ba42925a9",
   "metadata": {},
   "outputs": [],
   "source": []
  },
  {
   "cell_type": "code",
   "execution_count": null,
   "id": "49daf3f9-b52a-4055-a22b-b9a911a33d6c",
   "metadata": {},
   "outputs": [],
   "source": []
  },
  {
   "cell_type": "code",
   "execution_count": null,
   "id": "e9453077-1b7c-4712-9287-09ba2676f65f",
   "metadata": {},
   "outputs": [],
   "source": []
  },
  {
   "cell_type": "code",
   "execution_count": 116,
   "id": "02ead578-4cb9-49ca-ab43-ad2495802f57",
   "metadata": {},
   "outputs": [],
   "source": [
    "import pandas as pd\n",
    "import numpy as np\n",
    "from sklearn.metrics import classification_report, confusion_matrix\n",
    "from sklearn.svm import SVC\n",
    "from sklearn.metrics import accuracy_score"
   ]
  },
  {
   "cell_type": "markdown",
   "id": "50854300-2dc2-4c00-a20e-2e07ac2a7614",
   "metadata": {},
   "source": [
    "### SVM Model"
   ]
  },
  {
   "cell_type": "markdown",
   "id": "0e1db813-923f-47a5-b7b0-20657166f710",
   "metadata": {},
   "source": [
    "#### H1N1 Model"
   ]
  },
  {
   "cell_type": "code",
   "execution_count": 152,
   "id": "6b109bc9-249a-4c2d-907f-ebed9a58b1ee",
   "metadata": {},
   "outputs": [
    {
     "data": {
      "text/plain": [
       "SVC(kernel='linear', probability=True)"
      ]
     },
     "execution_count": 152,
     "metadata": {},
     "output_type": "execute_result"
    }
   ],
   "source": [
    "svm_1_h1n1 = SVC(kernel='linear', probability = True)\n",
    "svm_1_h1n1.fit(X_train_scaled, y_train_h1n1)"
   ]
  },
  {
   "cell_type": "code",
   "execution_count": null,
   "id": "4703a537-ed60-4ea9-ae48-82816e75cbc5",
   "metadata": {},
   "outputs": [],
   "source": []
  },
  {
   "cell_type": "code",
   "execution_count": null,
   "id": "e811a178-c00f-436a-8e35-3ef2d5fc5143",
   "metadata": {},
   "outputs": [],
   "source": []
  },
  {
   "cell_type": "code",
   "execution_count": 153,
   "id": "f4787730-f81c-43e9-b747-6bc2ff03f0cb",
   "metadata": {},
   "outputs": [
    {
     "name": "stdout",
     "output_type": "stream",
     "text": [
      "Fitting 5 folds for each of 25 candidates, totalling 125 fits\n",
      "[CV 1/5] END ........C=0.1, gamma=1, kernel=rbf;, score=0.788 total time= 1.2min\n",
      "[CV 2/5] END ........C=0.1, gamma=1, kernel=rbf;, score=0.787 total time= 1.2min\n",
      "[CV 3/5] END ........C=0.1, gamma=1, kernel=rbf;, score=0.787 total time= 1.1min\n",
      "[CV 4/5] END ........C=0.1, gamma=1, kernel=rbf;, score=0.787 total time= 1.7min\n",
      "[CV 5/5] END ........C=0.1, gamma=1, kernel=rbf;, score=0.787 total time= 1.8min\n",
      "[CV 1/5] END ......C=0.1, gamma=0.1, kernel=rbf;, score=0.788 total time= 1.5min\n",
      "[CV 2/5] END ......C=0.1, gamma=0.1, kernel=rbf;, score=0.787 total time= 1.1min\n",
      "[CV 3/5] END ......C=0.1, gamma=0.1, kernel=rbf;, score=0.787 total time=  57.4s\n",
      "[CV 4/5] END ......C=0.1, gamma=0.1, kernel=rbf;, score=0.787 total time=  56.5s\n",
      "[CV 5/5] END ......C=0.1, gamma=0.1, kernel=rbf;, score=0.787 total time=  58.4s\n",
      "[CV 1/5] END .....C=0.1, gamma=0.01, kernel=rbf;, score=0.818 total time=  16.8s\n",
      "[CV 2/5] END .....C=0.1, gamma=0.01, kernel=rbf;, score=0.821 total time=  16.4s\n",
      "[CV 3/5] END .....C=0.1, gamma=0.01, kernel=rbf;, score=0.821 total time=  16.2s\n",
      "[CV 4/5] END .....C=0.1, gamma=0.01, kernel=rbf;, score=0.819 total time=  16.3s\n",
      "[CV 5/5] END .....C=0.1, gamma=0.01, kernel=rbf;, score=0.818 total time=  16.1s\n",
      "[CV 1/5] END ....C=0.1, gamma=0.001, kernel=rbf;, score=0.788 total time=  14.7s\n",
      "[CV 2/5] END ....C=0.1, gamma=0.001, kernel=rbf;, score=0.788 total time=  14.9s\n",
      "[CV 3/5] END ....C=0.1, gamma=0.001, kernel=rbf;, score=0.787 total time=  16.0s\n",
      "[CV 4/5] END ....C=0.1, gamma=0.001, kernel=rbf;, score=0.788 total time=  15.6s\n",
      "[CV 5/5] END ....C=0.1, gamma=0.001, kernel=rbf;, score=0.789 total time=  15.3s\n",
      "[CV 1/5] END ...C=0.1, gamma=0.0001, kernel=rbf;, score=0.788 total time=  15.1s\n",
      "[CV 2/5] END ...C=0.1, gamma=0.0001, kernel=rbf;, score=0.787 total time=  14.7s\n",
      "[CV 3/5] END ...C=0.1, gamma=0.0001, kernel=rbf;, score=0.787 total time=  14.7s\n",
      "[CV 4/5] END ...C=0.1, gamma=0.0001, kernel=rbf;, score=0.787 total time=  14.9s\n",
      "[CV 5/5] END ...C=0.1, gamma=0.0001, kernel=rbf;, score=0.787 total time=  15.1s\n",
      "[CV 1/5] END ..........C=1, gamma=1, kernel=rbf;, score=0.788 total time= 1.6min\n",
      "[CV 2/5] END ..........C=1, gamma=1, kernel=rbf;, score=0.787 total time= 1.5min\n",
      "[CV 3/5] END ..........C=1, gamma=1, kernel=rbf;, score=0.787 total time= 1.6min\n",
      "[CV 4/5] END ..........C=1, gamma=1, kernel=rbf;, score=0.787 total time= 1.5min\n",
      "[CV 5/5] END ..........C=1, gamma=1, kernel=rbf;, score=0.787 total time= 1.5min\n",
      "[CV 1/5] END ........C=1, gamma=0.1, kernel=rbf;, score=0.789 total time= 1.4min\n",
      "[CV 2/5] END ........C=1, gamma=0.1, kernel=rbf;, score=0.791 total time= 1.8min\n",
      "[CV 3/5] END ........C=1, gamma=0.1, kernel=rbf;, score=0.789 total time= 1.7min\n",
      "[CV 4/5] END ........C=1, gamma=0.1, kernel=rbf;, score=0.791 total time= 1.2min\n",
      "[CV 5/5] END ........C=1, gamma=0.1, kernel=rbf;, score=0.791 total time= 1.1min\n",
      "[CV 1/5] END .......C=1, gamma=0.01, kernel=rbf;, score=0.828 total time=  18.9s\n",
      "[CV 2/5] END .......C=1, gamma=0.01, kernel=rbf;, score=0.830 total time=  19.0s\n",
      "[CV 3/5] END .......C=1, gamma=0.01, kernel=rbf;, score=0.837 total time=  19.2s\n",
      "[CV 4/5] END .......C=1, gamma=0.01, kernel=rbf;, score=0.834 total time=  18.7s\n",
      "[CV 5/5] END .......C=1, gamma=0.01, kernel=rbf;, score=0.829 total time=  18.6s\n",
      "[CV 1/5] END ......C=1, gamma=0.001, kernel=rbf;, score=0.825 total time=  14.4s\n",
      "[CV 2/5] END ......C=1, gamma=0.001, kernel=rbf;, score=0.832 total time=  14.3s\n",
      "[CV 3/5] END ......C=1, gamma=0.001, kernel=rbf;, score=0.832 total time=  14.3s\n",
      "[CV 4/5] END ......C=1, gamma=0.001, kernel=rbf;, score=0.837 total time=  14.4s\n",
      "[CV 5/5] END ......C=1, gamma=0.001, kernel=rbf;, score=0.833 total time=  14.5s\n",
      "[CV 1/5] END .....C=1, gamma=0.0001, kernel=rbf;, score=0.788 total time=  15.0s\n",
      "[CV 2/5] END .....C=1, gamma=0.0001, kernel=rbf;, score=0.789 total time=  14.4s\n",
      "[CV 3/5] END .....C=1, gamma=0.0001, kernel=rbf;, score=0.787 total time=  14.8s\n",
      "[CV 4/5] END .....C=1, gamma=0.0001, kernel=rbf;, score=0.789 total time=  15.0s\n",
      "[CV 5/5] END .....C=1, gamma=0.0001, kernel=rbf;, score=0.789 total time=  14.6s\n",
      "[CV 1/5] END .........C=10, gamma=1, kernel=rbf;, score=0.788 total time= 2.2min\n",
      "[CV 2/5] END .........C=10, gamma=1, kernel=rbf;, score=0.787 total time= 2.2min\n",
      "[CV 3/5] END .........C=10, gamma=1, kernel=rbf;, score=0.787 total time= 2.2min\n",
      "[CV 4/5] END .........C=10, gamma=1, kernel=rbf;, score=0.787 total time= 2.3min\n",
      "[CV 5/5] END .........C=10, gamma=1, kernel=rbf;, score=0.787 total time= 2.2min\n",
      "[CV 1/5] END .......C=10, gamma=0.1, kernel=rbf;, score=0.791 total time= 1.9min\n",
      "[CV 2/5] END .......C=10, gamma=0.1, kernel=rbf;, score=0.792 total time= 2.5min\n",
      "[CV 3/5] END .......C=10, gamma=0.1, kernel=rbf;, score=0.792 total time= 2.6min\n",
      "[CV 4/5] END .......C=10, gamma=0.1, kernel=rbf;, score=0.793 total time= 1.9min\n",
      "[CV 5/5] END .......C=10, gamma=0.1, kernel=rbf;, score=0.793 total time= 1.7min\n",
      "[CV 1/5] END ......C=10, gamma=0.01, kernel=rbf;, score=0.812 total time=  55.3s\n",
      "[CV 2/5] END ......C=10, gamma=0.01, kernel=rbf;, score=0.809 total time=  56.9s\n",
      "[CV 3/5] END ......C=10, gamma=0.01, kernel=rbf;, score=0.817 total time=  57.4s\n",
      "[CV 4/5] END ......C=10, gamma=0.01, kernel=rbf;, score=0.819 total time=  57.2s\n",
      "[CV 5/5] END ......C=10, gamma=0.01, kernel=rbf;, score=0.815 total time=  58.8s\n",
      "[CV 1/5] END .....C=10, gamma=0.001, kernel=rbf;, score=0.828 total time=  16.2s\n",
      "[CV 2/5] END .....C=10, gamma=0.001, kernel=rbf;, score=0.837 total time=  16.3s\n",
      "[CV 3/5] END .....C=10, gamma=0.001, kernel=rbf;, score=0.836 total time=  16.8s\n",
      "[CV 4/5] END .....C=10, gamma=0.001, kernel=rbf;, score=0.840 total time=  16.7s\n",
      "[CV 5/5] END .....C=10, gamma=0.001, kernel=rbf;, score=0.837 total time=  16.6s\n",
      "[CV 1/5] END ....C=10, gamma=0.0001, kernel=rbf;, score=0.825 total time=  13.9s\n",
      "[CV 2/5] END ....C=10, gamma=0.0001, kernel=rbf;, score=0.832 total time=  14.6s\n",
      "[CV 3/5] END ....C=10, gamma=0.0001, kernel=rbf;, score=0.833 total time=  14.5s\n",
      "[CV 4/5] END ....C=10, gamma=0.0001, kernel=rbf;, score=0.835 total time=  14.2s\n",
      "[CV 5/5] END ....C=10, gamma=0.0001, kernel=rbf;, score=0.832 total time=  14.3s\n",
      "[CV 1/5] END ........C=100, gamma=1, kernel=rbf;, score=0.788 total time= 2.6min\n",
      "[CV 2/5] END ........C=100, gamma=1, kernel=rbf;, score=0.787 total time= 2.3min\n",
      "[CV 3/5] END ........C=100, gamma=1, kernel=rbf;, score=0.787 total time= 2.2min\n",
      "[CV 4/5] END ........C=100, gamma=1, kernel=rbf;, score=0.787 total time= 2.2min\n",
      "[CV 5/5] END ........C=100, gamma=1, kernel=rbf;, score=0.787 total time= 2.3min\n",
      "[CV 1/5] END ......C=100, gamma=0.1, kernel=rbf;, score=0.791 total time= 1.7min\n",
      "[CV 2/5] END ......C=100, gamma=0.1, kernel=rbf;, score=0.792 total time= 1.7min\n",
      "[CV 3/5] END ......C=100, gamma=0.1, kernel=rbf;, score=0.792 total time= 1.7min\n",
      "[CV 4/5] END ......C=100, gamma=0.1, kernel=rbf;, score=0.793 total time= 1.7min\n",
      "[CV 5/5] END ......C=100, gamma=0.1, kernel=rbf;, score=0.793 total time= 1.8min\n",
      "[CV 1/5] END .....C=100, gamma=0.01, kernel=rbf;, score=0.791 total time= 1.3min\n",
      "[CV 2/5] END .....C=100, gamma=0.01, kernel=rbf;, score=0.782 total time= 1.4min\n",
      "[CV 3/5] END .....C=100, gamma=0.01, kernel=rbf;, score=0.790 total time= 1.5min\n",
      "[CV 4/5] END .....C=100, gamma=0.01, kernel=rbf;, score=0.793 total time= 1.6min\n",
      "[CV 5/5] END .....C=100, gamma=0.01, kernel=rbf;, score=0.795 total time= 1.6min\n",
      "[CV 1/5] END ....C=100, gamma=0.001, kernel=rbf;, score=0.820 total time=  32.1s\n",
      "[CV 2/5] END ....C=100, gamma=0.001, kernel=rbf;, score=0.830 total time=  31.8s\n",
      "[CV 3/5] END ....C=100, gamma=0.001, kernel=rbf;, score=0.834 total time=  32.3s\n",
      "[CV 4/5] END ....C=100, gamma=0.001, kernel=rbf;, score=0.829 total time=  32.5s\n",
      "[CV 5/5] END ....C=100, gamma=0.001, kernel=rbf;, score=0.830 total time=  31.8s\n",
      "[CV 1/5] END ...C=100, gamma=0.0001, kernel=rbf;, score=0.824 total time=  16.3s\n",
      "[CV 2/5] END ...C=100, gamma=0.0001, kernel=rbf;, score=0.832 total time=  17.0s\n",
      "[CV 3/5] END ...C=100, gamma=0.0001, kernel=rbf;, score=0.834 total time=  17.8s\n",
      "[CV 4/5] END ...C=100, gamma=0.0001, kernel=rbf;, score=0.838 total time=  17.6s\n",
      "[CV 5/5] END ...C=100, gamma=0.0001, kernel=rbf;, score=0.835 total time=  17.9s\n",
      "[CV 1/5] END .......C=1000, gamma=1, kernel=rbf;, score=0.788 total time= 2.5min\n",
      "[CV 2/5] END .......C=1000, gamma=1, kernel=rbf;, score=0.787 total time= 3.1min\n",
      "[CV 3/5] END .......C=1000, gamma=1, kernel=rbf;, score=0.787 total time= 3.2min\n",
      "[CV 4/5] END .......C=1000, gamma=1, kernel=rbf;, score=0.787 total time= 3.2min\n",
      "[CV 5/5] END .......C=1000, gamma=1, kernel=rbf;, score=0.787 total time= 3.3min\n",
      "[CV 1/5] END .....C=1000, gamma=0.1, kernel=rbf;, score=0.791 total time= 2.5min\n",
      "[CV 2/5] END .....C=1000, gamma=0.1, kernel=rbf;, score=0.792 total time= 2.5min\n",
      "[CV 3/5] END .....C=1000, gamma=0.1, kernel=rbf;, score=0.792 total time= 2.5min\n",
      "[CV 4/5] END .....C=1000, gamma=0.1, kernel=rbf;, score=0.793 total time= 2.5min\n",
      "[CV 5/5] END .....C=1000, gamma=0.1, kernel=rbf;, score=0.793 total time= 2.5min\n",
      "[CV 1/5] END ....C=1000, gamma=0.01, kernel=rbf;, score=0.787 total time= 2.0min\n",
      "[CV 2/5] END ....C=1000, gamma=0.01, kernel=rbf;, score=0.775 total time= 2.1min\n",
      "[CV 3/5] END ....C=1000, gamma=0.01, kernel=rbf;, score=0.782 total time= 2.2min\n",
      "[CV 4/5] END ....C=1000, gamma=0.01, kernel=rbf;, score=0.789 total time= 2.1min\n",
      "[CV 5/5] END ....C=1000, gamma=0.01, kernel=rbf;, score=0.789 total time= 2.2min\n",
      "[CV 1/5] END ...C=1000, gamma=0.001, kernel=rbf;, score=0.798 total time= 3.1min\n",
      "[CV 2/5] END ...C=1000, gamma=0.001, kernel=rbf;, score=0.805 total time= 3.0min\n",
      "[CV 3/5] END ...C=1000, gamma=0.001, kernel=rbf;, score=0.810 total time= 3.0min\n",
      "[CV 4/5] END ...C=1000, gamma=0.001, kernel=rbf;, score=0.804 total time= 3.0min\n",
      "[CV 5/5] END ...C=1000, gamma=0.001, kernel=rbf;, score=0.806 total time= 3.1min\n",
      "[CV 1/5] END ..C=1000, gamma=0.0001, kernel=rbf;, score=0.828 total time=  39.9s\n",
      "[CV 2/5] END ..C=1000, gamma=0.0001, kernel=rbf;, score=0.836 total time=  40.1s\n",
      "[CV 3/5] END ..C=1000, gamma=0.0001, kernel=rbf;, score=0.838 total time=  39.7s\n",
      "[CV 4/5] END ..C=1000, gamma=0.0001, kernel=rbf;, score=0.839 total time=  40.3s\n",
      "[CV 5/5] END ..C=1000, gamma=0.0001, kernel=rbf;, score=0.837 total time=  40.5s\n"
     ]
    },
    {
     "data": {
      "text/plain": [
       "GridSearchCV(estimator=SVC(),\n",
       "             param_grid={'C': [0.1, 1, 10, 100, 1000],\n",
       "                         'gamma': [1, 0.1, 0.01, 0.001, 0.0001],\n",
       "                         'kernel': ['rbf']},\n",
       "             verbose=3)"
      ]
     },
     "execution_count": 153,
     "metadata": {},
     "output_type": "execute_result"
    }
   ],
   "source": [
    "from sklearn.model_selection import GridSearchCV\n",
    " \n",
    "# defining parameter range\n",
    "param_grid = {'C': [0.1, 1, 10, 100, 1000],\n",
    "              'gamma': [1, 0.1, 0.01, 0.001, 0.0001],\n",
    "              'kernel': ['rbf']}\n",
    " \n",
    "grid = GridSearchCV(SVC(), param_grid, refit = True, verbose = 3)\n",
    " \n",
    "# fitting the model for grid search\n",
    "grid.fit(X_train_scaled, y_train_h1n1)"
   ]
  },
  {
   "cell_type": "code",
   "execution_count": 154,
   "id": "8f5fead2-a4b9-4fe6-92ab-2f6de984f93e",
   "metadata": {},
   "outputs": [
    {
     "name": "stdout",
     "output_type": "stream",
     "text": [
      "{'C': 10, 'gamma': 0.001, 'kernel': 'rbf'}\n",
      "SVC(C=10, gamma=0.001)\n"
     ]
    }
   ],
   "source": [
    "# print best parameter after tuning\n",
    "print(grid.best_params_)\n",
    " \n",
    "# print how our model looks after hyper-parameter tuning\n",
    "print(grid.best_estimator_)"
   ]
  },
  {
   "cell_type": "code",
   "execution_count": 155,
   "id": "66574425-9aa7-4400-81bb-9fbbc45a7247",
   "metadata": {},
   "outputs": [
    {
     "name": "stdout",
     "output_type": "stream",
     "text": [
      "              precision    recall  f1-score   support\n",
      "\n",
      "           0       0.86      0.95      0.90      4212\n",
      "           1       0.69      0.44      0.54      1130\n",
      "\n",
      "    accuracy                           0.84      5342\n",
      "   macro avg       0.78      0.69      0.72      5342\n",
      "weighted avg       0.83      0.84      0.83      5342\n",
      "\n"
     ]
    }
   ],
   "source": [
    "grid_predictions = grid.predict(X_test_scaled)\n",
    " \n",
    "# print classification report\n",
    "print(classification_report(y_test_h1n1, grid_predictions))"
   ]
  },
  {
   "cell_type": "markdown",
   "id": "b3f098af-ee63-452a-86cd-4fca43c35e5e",
   "metadata": {},
   "source": [
    "#### SSNL Model"
   ]
  },
  {
   "cell_type": "code",
   "execution_count": 156,
   "id": "d9aaf9a4-8528-45a2-b622-ca9e3fdf0637",
   "metadata": {},
   "outputs": [
    {
     "data": {
      "text/plain": [
       "SVC(kernel='linear', probability=True)"
      ]
     },
     "execution_count": 156,
     "metadata": {},
     "output_type": "execute_result"
    }
   ],
   "source": [
    "svm_1_ssnl = SVC(kernel='linear', probability = True)\n",
    "svm_1_ssnl.fit(X_train_scaled,y_train_ssnl)"
   ]
  },
  {
   "cell_type": "code",
   "execution_count": null,
   "id": "7060ffb7-1712-4475-bafa-691a86135c54",
   "metadata": {},
   "outputs": [],
   "source": []
  },
  {
   "cell_type": "code",
   "execution_count": null,
   "id": "1558cb65-b890-4180-81e8-a6e978098979",
   "metadata": {},
   "outputs": [],
   "source": []
  },
  {
   "cell_type": "code",
   "execution_count": null,
   "id": "2f7df3ce-eb1b-4f6d-a643-5faf0493a6ac",
   "metadata": {},
   "outputs": [
    {
     "name": "stdout",
     "output_type": "stream",
     "text": [
      "Fitting 5 folds for each of 25 candidates, totalling 125 fits\n",
      "[CV 1/5] END ........C=0.1, gamma=1, kernel=rbf;, score=0.533 total time= 1.4min\n",
      "[CV 2/5] END ........C=0.1, gamma=1, kernel=rbf;, score=0.533 total time= 1.4min\n",
      "[CV 3/5] END ........C=0.1, gamma=1, kernel=rbf;, score=0.533 total time= 1.3min\n",
      "[CV 4/5] END ........C=0.1, gamma=1, kernel=rbf;, score=0.533 total time= 1.3min\n",
      "[CV 5/5] END ........C=0.1, gamma=1, kernel=rbf;, score=0.533 total time= 1.3min\n",
      "[CV 1/5] END ......C=0.1, gamma=0.1, kernel=rbf;, score=0.533 total time= 1.5min\n",
      "[CV 2/5] END ......C=0.1, gamma=0.1, kernel=rbf;, score=0.533 total time= 1.5min\n",
      "[CV 3/5] END ......C=0.1, gamma=0.1, kernel=rbf;, score=0.533 total time= 1.5min\n",
      "[CV 4/5] END ......C=0.1, gamma=0.1, kernel=rbf;, score=0.533 total time= 1.5min\n",
      "[CV 5/5] END ......C=0.1, gamma=0.1, kernel=rbf;, score=0.533 total time= 1.5min\n",
      "[CV 1/5] END .....C=0.1, gamma=0.01, kernel=rbf;, score=0.763 total time=  34.8s\n",
      "[CV 2/5] END .....C=0.1, gamma=0.01, kernel=rbf;, score=0.750 total time=  35.2s\n",
      "[CV 3/5] END .....C=0.1, gamma=0.01, kernel=rbf;, score=0.758 total time=  35.5s\n",
      "[CV 4/5] END .....C=0.1, gamma=0.01, kernel=rbf;, score=0.754 total time=  35.4s\n",
      "[CV 5/5] END .....C=0.1, gamma=0.01, kernel=rbf;, score=0.761 total time=  36.2s\n",
      "[CV 1/5] END ....C=0.1, gamma=0.001, kernel=rbf;, score=0.777 total time=  37.6s\n",
      "[CV 2/5] END ....C=0.1, gamma=0.001, kernel=rbf;, score=0.761 total time=  37.0s\n",
      "[CV 3/5] END ....C=0.1, gamma=0.001, kernel=rbf;, score=0.773 total time=  37.5s\n",
      "[CV 4/5] END ....C=0.1, gamma=0.001, kernel=rbf;, score=0.763 total time=  36.8s\n",
      "[CV 5/5] END ....C=0.1, gamma=0.001, kernel=rbf;, score=0.775 total time=  37.7s\n",
      "[CV 1/5] END ...C=0.1, gamma=0.0001, kernel=rbf;, score=0.711 total time=  47.8s\n",
      "[CV 2/5] END ...C=0.1, gamma=0.0001, kernel=rbf;, score=0.706 total time=  48.0s\n",
      "[CV 3/5] END ...C=0.1, gamma=0.0001, kernel=rbf;, score=0.710 total time=  48.5s\n",
      "[CV 4/5] END ...C=0.1, gamma=0.0001, kernel=rbf;, score=0.706 total time=  48.7s\n",
      "[CV 5/5] END ...C=0.1, gamma=0.0001, kernel=rbf;, score=0.711 total time=  48.5s\n",
      "[CV 1/5] END ..........C=1, gamma=1, kernel=rbf;, score=0.533 total time= 1.7min\n",
      "[CV 2/5] END ..........C=1, gamma=1, kernel=rbf;, score=0.533 total time= 1.6min\n",
      "[CV 3/5] END ..........C=1, gamma=1, kernel=rbf;, score=0.533 total time= 1.7min\n",
      "[CV 4/5] END ..........C=1, gamma=1, kernel=rbf;, score=0.533 total time= 1.6min\n",
      "[CV 5/5] END ..........C=1, gamma=1, kernel=rbf;, score=0.533 total time= 1.6min\n",
      "[CV 1/5] END ........C=1, gamma=0.1, kernel=rbf;, score=0.645 total time= 1.7min\n",
      "[CV 2/5] END ........C=1, gamma=0.1, kernel=rbf;, score=0.639 total time= 1.7min\n",
      "[CV 3/5] END ........C=1, gamma=0.1, kernel=rbf;, score=0.633 total time= 1.7min\n",
      "[CV 4/5] END ........C=1, gamma=0.1, kernel=rbf;, score=0.634 total time= 1.7min\n",
      "[CV 5/5] END ........C=1, gamma=0.1, kernel=rbf;, score=0.644 total time= 1.7min\n",
      "[CV 1/5] END .......C=1, gamma=0.01, kernel=rbf;, score=0.780 total time=  35.2s\n",
      "[CV 2/5] END .......C=1, gamma=0.01, kernel=rbf;, score=0.758 total time=  37.8s\n",
      "[CV 3/5] END .......C=1, gamma=0.01, kernel=rbf;, score=0.778 total time=  36.8s\n",
      "[CV 4/5] END .......C=1, gamma=0.01, kernel=rbf;, score=0.772 total time=  33.9s\n",
      "[CV 5/5] END .......C=1, gamma=0.01, kernel=rbf;, score=0.771 total time=  35.5s\n",
      "[CV 1/5] END ......C=1, gamma=0.001, kernel=rbf;, score=0.783 total time=  31.1s\n",
      "[CV 2/5] END ......C=1, gamma=0.001, kernel=rbf;, score=0.769 total time=  31.2s\n",
      "[CV 3/5] END ......C=1, gamma=0.001, kernel=rbf;, score=0.784 total time=  32.0s\n",
      "[CV 4/5] END ......C=1, gamma=0.001, kernel=rbf;, score=0.777 total time=  31.2s\n",
      "[CV 5/5] END ......C=1, gamma=0.001, kernel=rbf;, score=0.782 total time=  31.2s\n",
      "[CV 1/5] END .....C=1, gamma=0.0001, kernel=rbf;, score=0.780 total time=  37.0s\n",
      "[CV 2/5] END .....C=1, gamma=0.0001, kernel=rbf;, score=0.765 total time=  36.9s\n",
      "[CV 3/5] END .....C=1, gamma=0.0001, kernel=rbf;, score=0.777 total time=  37.6s\n",
      "[CV 4/5] END .....C=1, gamma=0.0001, kernel=rbf;, score=0.766 total time=  36.9s\n",
      "[CV 5/5] END .....C=1, gamma=0.0001, kernel=rbf;, score=0.775 total time=  37.7s\n",
      "[CV 1/5] END .........C=10, gamma=1, kernel=rbf;, score=0.533 total time= 3.2min\n",
      "[CV 2/5] END .........C=10, gamma=1, kernel=rbf;, score=0.532 total time= 3.2min\n",
      "[CV 3/5] END .........C=10, gamma=1, kernel=rbf;, score=0.533 total time= 3.3min\n",
      "[CV 4/5] END .........C=10, gamma=1, kernel=rbf;, score=0.532 total time= 3.2min\n",
      "[CV 5/5] END .........C=10, gamma=1, kernel=rbf;, score=0.533 total time= 3.2min\n",
      "[CV 1/5] END .......C=10, gamma=0.1, kernel=rbf;, score=0.655 total time= 2.7min\n",
      "[CV 2/5] END .......C=10, gamma=0.1, kernel=rbf;, score=0.647 total time= 2.9min\n",
      "[CV 3/5] END .......C=10, gamma=0.1, kernel=rbf;, score=0.646 total time= 2.9min\n",
      "[CV 4/5] END .......C=10, gamma=0.1, kernel=rbf;, score=0.641 total time= 2.7min\n",
      "[CV 5/5] END .......C=10, gamma=0.1, kernel=rbf;, score=0.654 total time= 2.4min\n",
      "[CV 1/5] END ......C=10, gamma=0.01, kernel=rbf;, score=0.747 total time= 2.1min\n",
      "[CV 2/5] END ......C=10, gamma=0.01, kernel=rbf;, score=0.742 total time= 2.1min\n",
      "[CV 3/5] END ......C=10, gamma=0.01, kernel=rbf;, score=0.752 total time= 2.1min\n",
      "[CV 4/5] END ......C=10, gamma=0.01, kernel=rbf;, score=0.736 total time= 2.1min\n",
      "[CV 5/5] END ......C=10, gamma=0.01, kernel=rbf;, score=0.735 total time= 2.1min\n",
      "[CV 1/5] END .....C=10, gamma=0.001, kernel=rbf;, score=0.784 total time=  31.2s\n",
      "[CV 2/5] END .....C=10, gamma=0.001, kernel=rbf;, score=0.766 total time=  31.3s\n",
      "[CV 3/5] END .....C=10, gamma=0.001, kernel=rbf;, score=0.784 total time=  30.5s\n",
      "[CV 4/5] END .....C=10, gamma=0.001, kernel=rbf;, score=0.777 total time=  31.1s\n",
      "[CV 5/5] END .....C=10, gamma=0.001, kernel=rbf;, score=0.780 total time=  31.6s\n",
      "[CV 1/5] END ....C=10, gamma=0.0001, kernel=rbf;, score=0.782 total time=  32.6s\n",
      "[CV 2/5] END ....C=10, gamma=0.0001, kernel=rbf;, score=0.770 total time=  30.5s\n",
      "[CV 3/5] END ....C=10, gamma=0.0001, kernel=rbf;, score=0.782 total time=  31.2s\n",
      "[CV 4/5] END ....C=10, gamma=0.0001, kernel=rbf;, score=0.774 total time=  30.7s\n",
      "[CV 5/5] END ....C=10, gamma=0.0001, kernel=rbf;, score=0.781 total time=  30.8s\n"
     ]
    }
   ],
   "source": [
    "from sklearn.model_selection import GridSearchCV\n",
    " \n",
    "# defining parameter range\n",
    "param_grid = {'C': [0.1, 1, 10, 100, 1000],\n",
    "              'gamma': [1, 0.1, 0.01, 0.001, 0.0001],\n",
    "              'kernel': ['rbf']}\n",
    " \n",
    "grid = GridSearchCV(SVC(), param_grid, refit = True, verbose = 3)\n",
    " \n",
    "# fitting the model for grid search\n",
    "grid.fit(X_train_scaled, y_train_ssnl)"
   ]
  },
  {
   "cell_type": "code",
   "execution_count": null,
   "id": "8c33c6ab-db51-45f7-be38-d03b37f2bfe9",
   "metadata": {},
   "outputs": [],
   "source": [
    "# print best parameter after tuning\n",
    "print(grid.best_params_)\n",
    " \n",
    "# print how our model looks after hyper-parameter tuning\n",
    "print(grid.best_estimator_)"
   ]
  },
  {
   "cell_type": "code",
   "execution_count": null,
   "id": "98cef450-7084-4acd-bca9-6e3ee5bd58ce",
   "metadata": {},
   "outputs": [],
   "source": [
    "grid_predictions = grid.predict(X_test_scaled)\n",
    " \n",
    "# print classification report\n",
    "print(classification_report(y_test_h1n1, grid_predictions))"
   ]
  },
  {
   "cell_type": "markdown",
   "id": "120af15d-4943-41a5-8ff0-6bdd15c9a5c4",
   "metadata": {},
   "source": [
    "### Scoring"
   ]
  },
  {
   "cell_type": "code",
   "execution_count": null,
   "id": "3efe9459-81bf-49c6-888a-856d88a5c80a",
   "metadata": {},
   "outputs": [],
   "source": [
    "# For scoring\n",
    "\n",
    "y_hat_h1n1_svm_1 = svm_1_h1n1.predict(X_test_scaled)\n",
    "y_hat_ssnl_svm_1 = svm_1_ssnl.predict(X_test_scaled)\n",
    "y_proba_h1n1_svm_1 = svm_1_h1n1.predict_proba(X_test_scaled)\n",
    "y_proba_ssnl_svm_1 = svm_1_ssnl.predict_proba(X_test_scaled)"
   ]
  },
  {
   "cell_type": "code",
   "execution_count": null,
   "id": "8424f6eb-2703-4e14-a473-585a76596430",
   "metadata": {},
   "outputs": [],
   "source": [
    "# Print scoring\n",
    "\n",
    "print(f'Recall for H1N1:            {recall_score(y_test_h1n1, y_hat_h1n1_svm_1)}')\n",
    "print(f'Recall for seasonal flu:    {recall_score(y_test_ssnl, y_hat_ssnl_svm_1)}\\n')\n",
    "print(f'Precision for H1N1:         {precision_score(y_test_h1n1, y_hat_h1n1_svm_1)}')\n",
    "print(f'Precision for seasonal flu: {precision_score(y_test_ssnl, y_hat_ssnl_svm_1)}\\n')\n",
    "print(f'Accuracy for H1N1:          {accuracy_score(y_test_h1n1, y_hat_h1n1_svm_1)}')\n",
    "print(f'Accuracy for seasonal flu:  {accuracy_score(y_test_ssnl, y_hat_ssnl_svm_1)}\\n')\n",
    "print(f'F1 score for H1N1:          {f1_score(y_test_h1n1, y_hat_h1n1_svm_1)}')\n",
    "print(f'F1 score for seasonal flu:  {f1_score(y_test_ssnl, y_hat_ssnl_svm_1)}\\n')\n",
    "print(f'AUROC for H1N1:             {roc_auc_score(y_test_h1n1, y_proba_h1n1_svm_1[:,1])}')\n",
    "print(f'AUROC for seasonal flu:     {roc_auc_score(y_test_ssnl, y_proba_ssnl_svm_1[:,1])}')"
   ]
  },
  {
   "cell_type": "code",
   "execution_count": null,
   "id": "14b481e3-f75e-48ae-89a5-b0100ca9f218",
   "metadata": {},
   "outputs": [],
   "source": []
  },
  {
   "cell_type": "markdown",
   "id": "e57d41b9-e360-4ae2-939c-9b2ab352276e",
   "metadata": {},
   "source": [
    "## Here's the real SVM model"
   ]
  },
  {
   "cell_type": "code",
   "execution_count": null,
   "id": "f862f50d-32b9-44d0-aaa3-b19dce59af84",
   "metadata": {},
   "outputs": [],
   "source": [
    "svm_1_ssnl = SVC(probability = True, kernel='linear', C=1, gamma=0.001)\n",
    "svm_1_ssnl.fit(X_test_scaled,y_test_ssnl)\n",
    "\n",
    "svm_1_h1n1 = SVC(probability = True, kernel='linear', C=1, gamma=0.001)\n",
    "svm_1_h1n1.fit(X_test_scaled,y_test_h1n1)"
   ]
  },
  {
   "cell_type": "code",
   "execution_count": null,
   "id": "40f4675f-c19f-4e27-bbb8-dee94f70ee56",
   "metadata": {},
   "outputs": [],
   "source": [
    "y_hat_h1n1_svm_1 = svm_1_h1n1.predict(X_test_scaled)\n",
    "y_hat_ssnl_svm_1 = svm_1_ssnl.predict(X_test_scaled)\n",
    "y_proba_h1n1_svm_1 = svm_1_h1n1.predict_proba(X_test_scaled)\n",
    "y_proba_ssnl_svm_1 = svm_1_ssnl.predict_proba(X_test_scaled)"
   ]
  },
  {
   "cell_type": "code",
   "execution_count": null,
   "id": "820204d7-fd8d-4b2e-9233-0a440dcebbe3",
   "metadata": {},
   "outputs": [],
   "source": [
    "# Print scoring\n",
    "\n",
    "print(f'Recall for H1N1:            {recall_score(y_test_h1n1, y_hat_h1n1_svm_1)}')\n",
    "print(f'Recall for seasonal flu:    {recall_score(y_test_ssnl, y_hat_ssnl_svm_1)}\\n')\n",
    "print(f'Precision for H1N1:         {precision_score(y_test_h1n1, y_hat_h1n1_svm_1)}')\n",
    "print(f'Precision for seasonal flu: {precision_score(y_test_ssnl, y_hat_ssnl_svm_1)}\\n')\n",
    "print(f'Accuracy for H1N1:          {accuracy_score(y_test_h1n1, y_hat_h1n1_svm_1)}')\n",
    "print(f'Accuracy for seasonal flu:  {accuracy_score(y_test_ssnl, y_hat_ssnl_svm_1)}\\n')\n",
    "print(f'F1 score for H1N1:          {f1_score(y_test_h1n1, y_hat_h1n1_svm_1)}')\n",
    "print(f'F1 score for seasonal flu:  {f1_score(y_test_ssnl, y_hat_ssnl_svm_1)}\\n')\n",
    "print(f'AUROC for H1N1:             {roc_auc_score(y_test_h1n1, y_proba_h1n1_svm_1[:,1])}')\n",
    "print(f'AUROC for seasonal flu:     {roc_auc_score(y_test_ssnl, y_proba_ssnl_svm_1[:,1])}')"
   ]
  },
  {
   "cell_type": "code",
   "execution_count": 51,
   "id": "92f1407b-c243-47e1-abb4-6f06d104e222",
   "metadata": {},
   "outputs": [
    {
     "data": {
      "text/plain": [
       "8486978789996429.0"
      ]
     },
     "execution_count": 51,
     "metadata": {},
     "output_type": "execute_result"
    }
   ],
   "source": [
    "(8357547756515307 + 8616409823477551) / 2"
   ]
  },
  {
   "cell_type": "code",
   "execution_count": 58,
   "id": "b9dda693-6379-4278-8971-7fbfbab36004",
   "metadata": {},
   "outputs": [
    {
     "name": "stderr",
     "output_type": "stream",
     "text": [
      "/Users/jeff/opt/anaconda3/lib/python3.9/site-packages/sklearn/utils/deprecation.py:87: FutureWarning: Function plot_confusion_matrix is deprecated; Function `plot_confusion_matrix` is deprecated in 1.0 and will be removed in 1.2. Use one of the class methods: ConfusionMatrixDisplay.from_predictions or ConfusionMatrixDisplay.from_estimator.\n",
      "  warnings.warn(msg, category=FutureWarning)\n"
     ]
    },
    {
     "data": {
      "image/png": "[encoded data removed]",
      "text/plain": [
       "<Figure size 432x288 with 2 Axes>"
      ]
     },
     "metadata": {
      "needs_background": "light"
     },
     "output_type": "display_data"
    }
   ],
   "source": []
  },
  {
   "cell_type": "code",
   "execution_count": null,
   "id": "59d3cf5e-7dfd-405c-8b98-0876eb27538b",
   "metadata": {},
   "outputs": [],
   "source": []
  },
  {
   "cell_type": "code",
   "execution_count": null,
   "id": "a81b1874-3c58-4d12-a414-bc4f36fef872",
   "metadata": {},
   "outputs": [],
   "source": []
  },
  {
   "cell_type": "code",
   "execution_count": 59,
   "id": "10f63c39-f1bf-4e8f-9e2a-9ef4678d21db",
   "metadata": {},
   "outputs": [
    {
     "data": {
      "text/plain": [
       "SVC(kernel='linear', probability=True)"
      ]
     },
     "execution_count": 59,
     "metadata": {},
     "output_type": "execute_result"
    }
   ],
   "source": [
    "svm_1_ssnl = SVC(kernel='linear', probability = True)\n",
    "svm_1_ssnl.fit(X_train_scaled, y_train_h1n1)"
   ]
  },
  {
   "cell_type": "code",
   "execution_count": 60,
   "id": "0996f112-396a-4623-a4fb-afcc4d23c0fb",
   "metadata": {},
   "outputs": [
    {
     "name": "stdout",
     "output_type": "stream",
     "text": [
      "              precision    recall  f1-score   support\n",
      "\n",
      "           0       0.86      0.94      0.90      4212\n",
      "           1       0.67      0.44      0.53      1130\n",
      "\n",
      "    accuracy                           0.83      5342\n",
      "   macro avg       0.76      0.69      0.71      5342\n",
      "weighted avg       0.82      0.83      0.82      5342\n",
      "\n"
     ]
    }
   ],
   "source": [
    "from sklearn.metrics import classification_report\n",
    "predictions = svm_1_ssnl.predict(X_test_scaled)\n",
    "print(classification_report(y_test_h1n1, predictions))"
   ]
  },
  {
   "cell_type": "code",
   "execution_count": 61,
   "id": "17b0b5c0-2d2a-45c4-9231-2540b65ab1e7",
   "metadata": {},
   "outputs": [
    {
     "name": "stderr",
     "output_type": "stream",
     "text": [
      "/Users/jeff/opt/anaconda3/lib/python3.9/site-packages/sklearn/utils/deprecation.py:87: FutureWarning: Function plot_confusion_matrix is deprecated; Function `plot_confusion_matrix` is deprecated in 1.0 and will be removed in 1.2. Use one of the class methods: ConfusionMatrixDisplay.from_predictions or ConfusionMatrixDisplay.from_estimator.\n",
      "  warnings.warn(msg, category=FutureWarning)\n"
     ]
    },
    {
     "data": {
      "image/png": "[encoded data removed]",
      "text/plain": [
       "<Figure size 432x288 with 2 Axes>"
      ]
     },
     "metadata": {
      "needs_background": "light"
     },
     "output_type": "display_data"
    }
   ],
   "source": [
    "svm_1_ssnl.fit(X_test_scaled, y_test_ssnl)\n",
    "plot_confusion_matrix(svm_1_ssnl, X_test_scaled, y_test_ssnl);"
   ]
  },
  {
   "cell_type": "code",
   "execution_count": 62,
   "id": "34b2d158-5fea-4850-a188-bcfea4a689af",
   "metadata": {},
   "outputs": [
    {
     "data": {
      "text/html": [
       "\n",
       "    <style>\n",
       "    table.eli5-weights tr:hover {\n",
       "        filter: brightness(85%);\n",
       "    }\n",
       "</style>\n",
       "\n",
       "\n",
       "\n",
       "    \n",
       "\n",
       "    \n",
       "\n",
       "    \n",
       "\n",
       "    \n",
       "\n",
       "    \n",
       "\n",
       "    \n",
       "\n",
       "\n",
       "    \n",
       "\n",
       "    \n",
       "\n",
       "    \n",
       "\n",
       "    \n",
       "\n",
       "    \n",
       "\n",
       "    \n",
       "\n",
       "\n",
       "    \n",
       "\n",
       "    \n",
       "\n",
       "    \n",
       "\n",
       "    \n",
       "\n",
       "    \n",
       "        <table class=\"eli5-weights eli5-feature-importances\" style=\"border-collapse: collapse; border: none; margin-top: 0em; table-layout: auto;\">\n",
       "    <thead>\n",
       "    <tr style=\"border: none;\">\n",
       "        <th style=\"padding: 0 1em 0 0.5em; text-align: right; border: none;\">Weight</th>\n",
       "        <th style=\"padding: 0 0.5em 0 0.5em; text-align: left; border: none;\">Feature</th>\n",
       "    </tr>\n",
       "    </thead>\n",
       "    <tbody>\n",
       "    \n",
       "        <tr style=\"background-color: hsl(120, 100.00%, 80.00%); border: none;\">\n",
       "            <td style=\"padding: 0 1em 0 0.5em; text-align: right; border: none;\">\n",
       "                0.0901\n",
       "                \n",
       "                    &plusmn; 0.0067\n",
       "                \n",
       "            </td>\n",
       "            <td style=\"padding: 0 0.5em 0 0.5em; text-align: left; border: none;\">\n",
       "                opinion_seas_risk\n",
       "            </td>\n",
       "        </tr>\n",
       "    \n",
       "        <tr style=\"background-color: hsl(120, 100.00%, 84.60%); border: none;\">\n",
       "            <td style=\"padding: 0 1em 0 0.5em; text-align: right; border: none;\">\n",
       "                0.0620\n",
       "                \n",
       "                    &plusmn; 0.0063\n",
       "                \n",
       "            </td>\n",
       "            <td style=\"padding: 0 0.5em 0 0.5em; text-align: left; border: none;\">\n",
       "                opinion_seas_vacc_effective\n",
       "            </td>\n",
       "        </tr>\n",
       "    \n",
       "        <tr style=\"background-color: hsl(120, 100.00%, 84.80%); border: none;\">\n",
       "            <td style=\"padding: 0 1em 0 0.5em; text-align: right; border: none;\">\n",
       "                0.0609\n",
       "                \n",
       "                    &plusmn; 0.0047\n",
       "                \n",
       "            </td>\n",
       "            <td style=\"padding: 0 0.5em 0 0.5em; text-align: left; border: none;\">\n",
       "                doctor_recc_seasonal\n",
       "            </td>\n",
       "        </tr>\n",
       "    \n",
       "        <tr style=\"background-color: hsl(120, 100.00%, 91.46%); border: none;\">\n",
       "            <td style=\"padding: 0 1em 0 0.5em; text-align: right; border: none;\">\n",
       "                0.0267\n",
       "                \n",
       "                    &plusmn; 0.0054\n",
       "                \n",
       "            </td>\n",
       "            <td style=\"padding: 0 0.5em 0 0.5em; text-align: left; border: none;\">\n",
       "                x0_65+ Years\n",
       "            </td>\n",
       "        </tr>\n",
       "    \n",
       "        <tr style=\"background-color: hsl(120, 100.00%, 94.12%); border: none;\">\n",
       "            <td style=\"padding: 0 1em 0 0.5em; text-align: right; border: none;\">\n",
       "                0.0157\n",
       "                \n",
       "                    &plusmn; 0.0034\n",
       "                \n",
       "            </td>\n",
       "            <td style=\"padding: 0 0.5em 0 0.5em; text-align: left; border: none;\">\n",
       "                opinion_seas_sick_from_vacc\n",
       "            </td>\n",
       "        </tr>\n",
       "    \n",
       "        <tr style=\"background-color: hsl(120, 100.00%, 95.26%); border: none;\">\n",
       "            <td style=\"padding: 0 1em 0 0.5em; text-align: right; border: none;\">\n",
       "                0.0115\n",
       "                \n",
       "                    &plusmn; 0.0037\n",
       "                \n",
       "            </td>\n",
       "            <td style=\"padding: 0 0.5em 0 0.5em; text-align: left; border: none;\">\n",
       "                health_worker\n",
       "            </td>\n",
       "        </tr>\n",
       "    \n",
       "        <tr style=\"background-color: hsl(120, 100.00%, 95.68%); border: none;\">\n",
       "            <td style=\"padding: 0 1em 0 0.5em; text-align: right; border: none;\">\n",
       "                0.0101\n",
       "                \n",
       "                    &plusmn; 0.0040\n",
       "                \n",
       "            </td>\n",
       "            <td style=\"padding: 0 0.5em 0 0.5em; text-align: left; border: none;\">\n",
       "                h1n1_knowledge\n",
       "            </td>\n",
       "        </tr>\n",
       "    \n",
       "        <tr style=\"background-color: hsl(120, 100.00%, 95.79%); border: none;\">\n",
       "            <td style=\"padding: 0 1em 0 0.5em; text-align: right; border: none;\">\n",
       "                0.0097\n",
       "                \n",
       "                    &plusmn; 0.0023\n",
       "                \n",
       "            </td>\n",
       "            <td style=\"padding: 0 0.5em 0 0.5em; text-align: left; border: none;\">\n",
       "                opinion_h1n1_risk\n",
       "            </td>\n",
       "        </tr>\n",
       "    \n",
       "        <tr style=\"background-color: hsl(120, 100.00%, 96.08%); border: none;\">\n",
       "            <td style=\"padding: 0 1em 0 0.5em; text-align: right; border: none;\">\n",
       "                0.0088\n",
       "                \n",
       "                    &plusmn; 0.0027\n",
       "                \n",
       "            </td>\n",
       "            <td style=\"padding: 0 0.5em 0 0.5em; text-align: left; border: none;\">\n",
       "                opinion_h1n1_sick_from_vacc\n",
       "            </td>\n",
       "        </tr>\n",
       "    \n",
       "        <tr style=\"background-color: hsl(120, 100.00%, 96.10%); border: none;\">\n",
       "            <td style=\"padding: 0 1em 0 0.5em; text-align: right; border: none;\">\n",
       "                0.0087\n",
       "                \n",
       "                    &plusmn; 0.0019\n",
       "                \n",
       "            </td>\n",
       "            <td style=\"padding: 0 0.5em 0 0.5em; text-align: left; border: none;\">\n",
       "                x0_18 - 34 Years\n",
       "            </td>\n",
       "        </tr>\n",
       "    \n",
       "        <tr style=\"background-color: hsl(120, 100.00%, 96.63%); border: none;\">\n",
       "            <td style=\"padding: 0 1em 0 0.5em; text-align: right; border: none;\">\n",
       "                0.0071\n",
       "                \n",
       "                    &plusmn; 0.0014\n",
       "                \n",
       "            </td>\n",
       "            <td style=\"padding: 0 0.5em 0 0.5em; text-align: left; border: none;\">\n",
       "                x0_55 - 64 Years\n",
       "            </td>\n",
       "        </tr>\n",
       "    \n",
       "        <tr style=\"background-color: hsl(120, 100.00%, 96.63%); border: none;\">\n",
       "            <td style=\"padding: 0 1em 0 0.5em; text-align: right; border: none;\">\n",
       "                0.0071\n",
       "                \n",
       "                    &plusmn; 0.0021\n",
       "                \n",
       "            </td>\n",
       "            <td style=\"padding: 0 0.5em 0 0.5em; text-align: left; border: none;\">\n",
       "                chronic_med_condition\n",
       "            </td>\n",
       "        </tr>\n",
       "    \n",
       "        <tr style=\"background-color: hsl(120, 100.00%, 97.05%); border: none;\">\n",
       "            <td style=\"padding: 0 1em 0 0.5em; text-align: right; border: none;\">\n",
       "                0.0058\n",
       "                \n",
       "                    &plusmn; 0.0015\n",
       "                \n",
       "            </td>\n",
       "            <td style=\"padding: 0 0.5em 0 0.5em; text-align: left; border: none;\">\n",
       "                behavioral_touch_face\n",
       "            </td>\n",
       "        </tr>\n",
       "    \n",
       "        <tr style=\"background-color: hsl(120, 100.00%, 97.16%); border: none;\">\n",
       "            <td style=\"padding: 0 1em 0 0.5em; text-align: right; border: none;\">\n",
       "                0.0055\n",
       "                \n",
       "                    &plusmn; 0.0019\n",
       "                \n",
       "            </td>\n",
       "            <td style=\"padding: 0 0.5em 0 0.5em; text-align: left; border: none;\">\n",
       "                household_children\n",
       "            </td>\n",
       "        </tr>\n",
       "    \n",
       "        <tr style=\"background-color: hsl(120, 100.00%, 97.21%); border: none;\">\n",
       "            <td style=\"padding: 0 1em 0 0.5em; text-align: right; border: none;\">\n",
       "                0.0054\n",
       "                \n",
       "                    &plusmn; 0.0012\n",
       "                \n",
       "            </td>\n",
       "            <td style=\"padding: 0 0.5em 0 0.5em; text-align: left; border: none;\">\n",
       "                h1n1_concern\n",
       "            </td>\n",
       "        </tr>\n",
       "    \n",
       "        <tr style=\"background-color: hsl(120, 100.00%, 97.49%); border: none;\">\n",
       "            <td style=\"padding: 0 1em 0 0.5em; text-align: right; border: none;\">\n",
       "                0.0046\n",
       "                \n",
       "                    &plusmn; 0.0025\n",
       "                \n",
       "            </td>\n",
       "            <td style=\"padding: 0 0.5em 0 0.5em; text-align: left; border: none;\">\n",
       "                opinion_h1n1_vacc_effective\n",
       "            </td>\n",
       "        </tr>\n",
       "    \n",
       "        <tr style=\"background-color: hsl(120, 100.00%, 97.66%); border: none;\">\n",
       "            <td style=\"padding: 0 1em 0 0.5em; text-align: right; border: none;\">\n",
       "                0.0042\n",
       "                \n",
       "                    &plusmn; 0.0023\n",
       "                \n",
       "            </td>\n",
       "            <td style=\"padding: 0 0.5em 0 0.5em; text-align: left; border: none;\">\n",
       "                doctor_recc_h1n1\n",
       "            </td>\n",
       "        </tr>\n",
       "    \n",
       "        <tr style=\"background-color: hsl(120, 100.00%, 97.77%); border: none;\">\n",
       "            <td style=\"padding: 0 1em 0 0.5em; text-align: right; border: none;\">\n",
       "                0.0039\n",
       "                \n",
       "                    &plusmn; 0.0020\n",
       "                \n",
       "            </td>\n",
       "            <td style=\"padding: 0 0.5em 0 0.5em; text-align: left; border: none;\">\n",
       "                x5_Married\n",
       "            </td>\n",
       "        </tr>\n",
       "    \n",
       "        <tr style=\"background-color: hsl(120, 100.00%, 97.93%); border: none;\">\n",
       "            <td style=\"padding: 0 1em 0 0.5em; text-align: right; border: none;\">\n",
       "                0.0035\n",
       "                \n",
       "                    &plusmn; 0.0019\n",
       "                \n",
       "            </td>\n",
       "            <td style=\"padding: 0 0.5em 0 0.5em; text-align: left; border: none;\">\n",
       "                household_adults\n",
       "            </td>\n",
       "        </tr>\n",
       "    \n",
       "        <tr style=\"background-color: hsl(120, 100.00%, 97.95%); border: none;\">\n",
       "            <td style=\"padding: 0 1em 0 0.5em; text-align: right; border: none;\">\n",
       "                0.0035\n",
       "                \n",
       "                    &plusmn; 0.0014\n",
       "                \n",
       "            </td>\n",
       "            <td style=\"padding: 0 0.5em 0 0.5em; text-align: left; border: none;\">\n",
       "                x2_Other or Multiple\n",
       "            </td>\n",
       "        </tr>\n",
       "    \n",
       "    \n",
       "        \n",
       "            <tr style=\"background-color: hsl(120, 100.00%, 97.95%); border: none;\">\n",
       "                <td colspan=\"2\" style=\"padding: 0 0.5em 0 0.5em; text-align: center; border: none; white-space: nowrap;\">\n",
       "                    <i>&hellip; 85 more &hellip;</i>\n",
       "                </td>\n",
       "            </tr>\n",
       "        \n",
       "    \n",
       "    </tbody>\n",
       "</table>\n",
       "    \n",
       "\n",
       "    \n",
       "\n",
       "\n",
       "    \n",
       "\n",
       "    \n",
       "\n",
       "    \n",
       "\n",
       "    \n",
       "\n",
       "    \n",
       "\n",
       "    \n",
       "\n",
       "\n",
       "\n"
      ],
      "text/plain": [
       "<IPython.core.display.HTML object>"
      ]
     },
     "execution_count": 62,
     "metadata": {},
     "output_type": "execute_result"
    }
   ],
   "source": [
    "import eli5\n",
    "from eli5.sklearn import PermutationImportance\n",
    "best_hgb = HistGradientBoostingClassifier(learning_rate=0.1, max_depth=9, max_iter=70)\n",
    "best_hgb.fit(X_test_scaled, y_test_ssnl)\n",
    "perm = PermutationImportance(best_hgb, random_state=42).fit(X_test_scaled, y_test_ssnl)\n",
    "eli5.show_weights(perm, feature_names = X_test_scaled.columns.tolist())"
   ]
  },
  {
   "cell_type": "code",
   "execution_count": null,
   "id": "b4b79599-5477-4081-a932-b08f2018a28f",
   "metadata": {},
   "outputs": [],
   "source": []
  },
  {
   "cell_type": "code",
   "execution_count": null,
   "id": "da1c935e-6417-4725-ace5-417655ea0f44",
   "metadata": {},
   "outputs": [],
   "source": []
  },
  {
   "cell_type": "code",
   "execution_count": 63,
   "id": "9650f001-af08-4219-90ee-36222a4032f8",
   "metadata": {},
   "outputs": [
    {
     "name": "stderr",
     "output_type": "stream",
     "text": [
      "/Users/jeff/opt/anaconda3/lib/python3.9/site-packages/sklearn/utils/deprecation.py:87: FutureWarning: Function plot_partial_dependence is deprecated; Function `plot_partial_dependence` is deprecated in 1.0 and will be removed in 1.2. Use PartialDependenceDisplay.from_estimator instead\n",
      "  warnings.warn(msg, category=FutureWarning)\n"
     ]
    },
    {
     "data": {
      "image/png": "[encoded data removed]",
      "text/plain": [
       "<Figure size 1080x648 with 5 Axes>"
      ]
     },
     "metadata": {
      "needs_background": "light"
     },
     "output_type": "display_data"
    }
   ],
   "source": [
    "from sklearn.inspection import plot_partial_dependence\n",
    "\n",
    "plot_partial_dependence(best_hgb, X_test_scaled,['opinion_seas_risk','opinion_seas_vacc_effective','doctor_recc_seasonal', 'x0_65+ Years'])\n",
    "plt.savefig('data/partial_dependency_chart_ssnl.jpg', dpi=300, bbox_inches='tight')\n",
    "fig = plt.gcf()\n",
    "fig.set_size_inches(15,9)"
   ]
  },
  {
   "cell_type": "code",
   "execution_count": null,
   "id": "f0b75e14-6e89-4da5-852d-3eb23004f0bd",
   "metadata": {},
   "outputs": [],
   "source": []
  },
  {
   "cell_type": "code",
   "execution_count": 67,
   "id": "4e5224cb-d036-47eb-ba9c-d7b1402cf64a",
   "metadata": {},
   "outputs": [
    {
     "data": {
      "text/html": [
       "<div>\n",
       "<style scoped>\n",
       "    .dataframe tbody tr th:only-of-type {\n",
       "        vertical-align: middle;\n",
       "    }\n",
       "\n",
       "    .dataframe tbody tr th {\n",
       "        vertical-align: top;\n",
       "    }\n",
       "\n",
       "    .dataframe thead th {\n",
       "        text-align: right;\n",
       "    }\n",
       "</style>\n",
       "<table border=\"1\" class=\"dataframe\">\n",
       "  <thead>\n",
       "    <tr style=\"text-align: right;\">\n",
       "      <th></th>\n",
       "      <th>Weight</th>\n",
       "      <th>Feature</th>\n",
       "    </tr>\n",
       "  </thead>\n",
       "  <tbody>\n",
       "    <tr>\n",
       "      <th>0</th>\n",
       "      <td>0.0901  ± 0.0067</td>\n",
       "      <td>opinion_seas_risk</td>\n",
       "    </tr>\n",
       "    <tr>\n",
       "      <th>1</th>\n",
       "      <td>0.0620  ± 0.0063</td>\n",
       "      <td>opinion_seas_vacc_effective</td>\n",
       "    </tr>\n",
       "    <tr>\n",
       "      <th>2</th>\n",
       "      <td>0.0609  ± 0.0047</td>\n",
       "      <td>doctor_recc_seasonal</td>\n",
       "    </tr>\n",
       "    <tr>\n",
       "      <th>3</th>\n",
       "      <td>0.0267  ± 0.0054</td>\n",
       "      <td>x0_65+ Years</td>\n",
       "    </tr>\n",
       "    <tr>\n",
       "      <th>4</th>\n",
       "      <td>0.0157  ± 0.0034</td>\n",
       "      <td>opinion_seas_sick_from_vacc</td>\n",
       "    </tr>\n",
       "    <tr>\n",
       "      <th>5</th>\n",
       "      <td>0.0115  ± 0.0037</td>\n",
       "      <td>health_worker</td>\n",
       "    </tr>\n",
       "    <tr>\n",
       "      <th>6</th>\n",
       "      <td>0.0101  ± 0.0040</td>\n",
       "      <td>h1n1_knowledge</td>\n",
       "    </tr>\n",
       "    <tr>\n",
       "      <th>7</th>\n",
       "      <td>0.0097  ± 0.0023</td>\n",
       "      <td>opinion_h1n1_risk</td>\n",
       "    </tr>\n",
       "    <tr>\n",
       "      <th>8</th>\n",
       "      <td>0.0088  ± 0.0027</td>\n",
       "      <td>opinion_h1n1_sick_from_vacc</td>\n",
       "    </tr>\n",
       "    <tr>\n",
       "      <th>9</th>\n",
       "      <td>0.0087  ± 0.0019</td>\n",
       "      <td>x0_18 - 34 Years</td>\n",
       "    </tr>\n",
       "    <tr>\n",
       "      <th>10</th>\n",
       "      <td>0.0071  ± 0.0014</td>\n",
       "      <td>x0_55 - 64 Years</td>\n",
       "    </tr>\n",
       "    <tr>\n",
       "      <th>11</th>\n",
       "      <td>0.0071  ± 0.0021</td>\n",
       "      <td>chronic_med_condition</td>\n",
       "    </tr>\n",
       "    <tr>\n",
       "      <th>12</th>\n",
       "      <td>0.0058  ± 0.0015</td>\n",
       "      <td>behavioral_touch_face</td>\n",
       "    </tr>\n",
       "    <tr>\n",
       "      <th>13</th>\n",
       "      <td>0.0055  ± 0.0019</td>\n",
       "      <td>household_children</td>\n",
       "    </tr>\n",
       "    <tr>\n",
       "      <th>14</th>\n",
       "      <td>0.0054  ± 0.0012</td>\n",
       "      <td>h1n1_concern</td>\n",
       "    </tr>\n",
       "    <tr>\n",
       "      <th>15</th>\n",
       "      <td>0.0046  ± 0.0025</td>\n",
       "      <td>opinion_h1n1_vacc_effective</td>\n",
       "    </tr>\n",
       "    <tr>\n",
       "      <th>16</th>\n",
       "      <td>0.0042  ± 0.0023</td>\n",
       "      <td>doctor_recc_h1n1</td>\n",
       "    </tr>\n",
       "    <tr>\n",
       "      <th>17</th>\n",
       "      <td>0.0039  ± 0.0020</td>\n",
       "      <td>x5_Married</td>\n",
       "    </tr>\n",
       "    <tr>\n",
       "      <th>18</th>\n",
       "      <td>0.0035  ± 0.0019</td>\n",
       "      <td>household_adults</td>\n",
       "    </tr>\n",
       "    <tr>\n",
       "      <th>19</th>\n",
       "      <td>0.0035  ± 0.0014</td>\n",
       "      <td>x2_Other or Multiple</td>\n",
       "    </tr>\n",
       "    <tr>\n",
       "      <th>20</th>\n",
       "      <td>… 85 more …</td>\n",
       "      <td>… 85 more …</td>\n",
       "    </tr>\n",
       "  </tbody>\n",
       "</table>\n",
       "</div>"
      ],
      "text/plain": [
       "              Weight                      Feature\n",
       "0   0.0901  ± 0.0067            opinion_seas_risk\n",
       "1   0.0620  ± 0.0063  opinion_seas_vacc_effective\n",
       "2   0.0609  ± 0.0047         doctor_recc_seasonal\n",
       "3   0.0267  ± 0.0054                 x0_65+ Years\n",
       "4   0.0157  ± 0.0034  opinion_seas_sick_from_vacc\n",
       "5   0.0115  ± 0.0037                health_worker\n",
       "6   0.0101  ± 0.0040               h1n1_knowledge\n",
       "7   0.0097  ± 0.0023            opinion_h1n1_risk\n",
       "8   0.0088  ± 0.0027  opinion_h1n1_sick_from_vacc\n",
       "9   0.0087  ± 0.0019             x0_18 - 34 Years\n",
       "10  0.0071  ± 0.0014             x0_55 - 64 Years\n",
       "11  0.0071  ± 0.0021        chronic_med_condition\n",
       "12  0.0058  ± 0.0015        behavioral_touch_face\n",
       "13  0.0055  ± 0.0019           household_children\n",
       "14  0.0054  ± 0.0012                 h1n1_concern\n",
       "15  0.0046  ± 0.0025  opinion_h1n1_vacc_effective\n",
       "16  0.0042  ± 0.0023             doctor_recc_h1n1\n",
       "17  0.0039  ± 0.0020                   x5_Married\n",
       "18  0.0035  ± 0.0019             household_adults\n",
       "19  0.0035  ± 0.0014         x2_Other or Multiple\n",
       "20       … 85 more …                  … 85 more …"
      ]
     },
     "execution_count": 67,
     "metadata": {},
     "output_type": "execute_result"
    }
   ],
   "source": [
    "w = eli5.show_weights(perm, feature_names=X_test_scaled.columns.tolist())\n",
    "result = pd.read_html(w.data)[0]\n",
    "result"
   ]
  },
  {
   "cell_type": "code",
   "execution_count": null,
   "id": "af178e03-e212-48ba-8687-96c9b11b45a3",
   "metadata": {},
   "outputs": [],
   "source": []
  }
 ],
 "metadata": {
  "kernelspec": {
   "display_name": "Python 3 (ipykernel)",
   "language": "python",
   "name": "python3"
  },
  "language_info": {
   "codemirror_mode": {
    "name": "ipython",
    "version": 3
   },
   "file_extension": ".py",
   "mimetype": "text/x-python",
   "name": "python",
   "nbconvert_exporter": "python",
   "pygments_lexer": "ipython3",
   "version": "3.9.7"
  }
 },
 "nbformat": 4,
 "nbformat_minor": 5
}
